{
 "cells": [
  {
   "cell_type": "code",
   "execution_count": 1,
   "metadata": {},
   "outputs": [],
   "source": [
    "import numpy as np\n",
    "import pandas as pd\n",
    "\n",
    "import crossfit as cf\n",
    "from crossfit.core.calculate import calculate_per_col\n",
    "from crossfit.stats.categorical.stats import CategoricalStats\n",
    "from crossfit.stats.continuous.stats import ContinuousStats\n",
    "from crossfit.stats.visualization import facets_overview\n",
    "\n",
    "df = pd.DataFrame({\"name\": [\"train\", \"test\"] * 5, \"con_1\": np.random.rand(10), \"cat_1\": [\"foo\", \"bar\"] * 5})"
   ]
  },
  {
   "cell_type": "code",
   "execution_count": 2,
   "metadata": {},
   "outputs": [
    {
     "data": {
      "text/html": [
       "\n",
       "<script\n",
       " src=\"https://cdnjs.cloudflare.com/ajax/libs/webcomponentsjs/1.3.3/webcomponents-lite.js\"></script>\n",
       "<link rel=\"import\"\n",
       " href=\"https://raw.githubusercontent.com/PAIR-code/facets/1.0.0/facets-dist/facets-jupyter.html\" >\n",
       "<facets-overview id=\"elem\"></facets-overview>\n",
       "<script>\n",
       " document.querySelector(\"#elem\").protoInput = \"CooBCgluYW1lPXRlc3QQBRo6CgVjb25fMRoxCgsIBRgBIAEtAACAPxF1wfbCM/TgPxknnXz0tafQPylom+f1X7fRPznSTPuwpMbrPxo/CgVjYXRfMSI2CgsIBRgBIAEtAACAPxACGg4SA2JhchkAAAAAAAAUQCUAAEBAKhAKDiIDYmFyKQAAAAAAABRACosBCgpuYW1lPXRyYWluEAUaOgoFY29uXzEaMQoLCAUYASABLQAAgD8R2q6Qx5/i4D8ZUYZOxHbs1T8pEBtTl6h2qz85tmterqFx7D8aPwoFY2F0XzEiNgoLCAUYASABLQAAgD8QAhoOEgNmb28ZAAAAAAAAFEAlAABAQCoQCg4iA2ZvbykAAAAAAAAUQA==\";\n",
       "</script>"
      ],
      "text/plain": [
       "<crossfit.stats.visualization.facets_overview.FacetsOverview at 0x7f6c461b50d0>"
      ]
     },
     "execution_count": 2,
     "metadata": {},
     "output_type": "execute_result"
    }
   ],
   "source": [
    "con_df = df[[\"name\", \"con_1\"]].groupby(\"name\")\n",
    "cat_df = df[[\"name\", \"cat_1\"]].groupby(\"name\")\n",
    "\n",
    "con_mf: cf.MetricFrame = calculate_per_col(ContinuousStats(), con_df)\n",
    "cat_mf: cf.MetricFrame = calculate_per_col(CategoricalStats(), cat_df)\n",
    "\n",
    "overview = facets_overview.visualize(con_mf=con_mf, cat_mf=cat_mf)\n",
    "\n",
    "overview"
   ]
  },
  {
   "cell_type": "code",
   "execution_count": null,
   "metadata": {},
   "outputs": [],
   "source": []
  }
 ],
 "metadata": {
  "kernelspec": {
   "display_name": "cf-tf-22.12",
   "language": "python",
   "name": "python3"
  },
  "language_info": {
   "codemirror_mode": {
    "name": "ipython",
    "version": 3
   },
   "file_extension": ".py",
   "mimetype": "text/x-python",
   "name": "python",
   "nbconvert_exporter": "python",
   "pygments_lexer": "ipython3",
   "version": "3.9.15"
  },
  "orig_nbformat": 4,
  "vscode": {
   "interpreter": {
    "hash": "f69a53afb670afe87770ac1b0272e2f51f1d0d822ccd43cd0e224bf2a18e8b59"
   }
  }
 },
 "nbformat": 4,
 "nbformat_minor": 2
}
