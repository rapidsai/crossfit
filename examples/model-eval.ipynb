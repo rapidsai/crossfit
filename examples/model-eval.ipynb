{
 "cells": [
  {
   "cell_type": "code",
   "execution_count": 1,
   "metadata": {},
   "outputs": [],
   "source": [
    "import numpy as np\n",
    "import numba as nb\n",
    "from sklearn.metrics._ranking import _binary_clf_curve\n",
    "from sklearn import metrics\n",
    "\n",
    "from crossfit.ml.classification import BinaryMetrics, BinaryCurveState"
   ]
  },
  {
   "cell_type": "code",
   "execution_count": 2,
   "metadata": {},
   "outputs": [],
   "source": [
    "y_true = np.random.randint(2, size=1000).astype(np.float32)\n",
    "y_pred = np.random.rand(1000)"
   ]
  },
  {
   "cell_type": "code",
   "execution_count": 3,
   "metadata": {},
   "outputs": [
    {
     "data": {
      "text/plain": [
       "(array([495., 439., 374., 324., 269., 225., 173., 122.,  55.,   0.]),\n",
       " array([505., 443., 393., 331., 261., 212., 156., 109.,  50.,   0.]),\n",
       " array([  0.,  62., 112., 174., 244., 293., 349., 396., 455., 505.]),\n",
       " array([  0.,  56., 121., 171., 226., 270., 322., 373., 440., 495.]),\n",
       " array([0.        , 0.11111111, 0.22222222, 0.33333333, 0.44444444,\n",
       "        0.55555556, 0.66666667, 0.77777778, 0.88888889, 1.        ]))"
      ]
     },
     "execution_count": 3,
     "metadata": {},
     "output_type": "execute_result"
    }
   ],
   "source": [
    "import numpy as np\n",
    "\n",
    "\n",
    "@nb.njit\n",
    "def unsorted_segment_sum(arr, segment_ids, num_segments):\n",
    "    # Create an empty array of the correct shape to hold the result\n",
    "    result = np.zeros((num_segments,) + arr.shape[1:])\n",
    "\n",
    "    # Loop through each segment and sum the values in the segment\n",
    "    # into the corresponding entry in the result array\n",
    "    for i in range(num_segments):\n",
    "        result[i] = np.sum(arr[segment_ids == i], axis=0)\n",
    "\n",
    "    return result\n",
    "\n",
    "\n",
    "@nb.njit\n",
    "def confusion_matrix_per_threshold(y_true, y_pred, num_thresholds):\n",
    "    thresholds = np.linspace(0, 1, num_thresholds)\n",
    "    bucket_indices = (np.ceil(y_pred * (num_thresholds - 1)) - 1).astype(np.int32)\n",
    "\n",
    "    true_labels = y_true\n",
    "    false_labels = 1.0 - y_true\n",
    "\n",
    "    total_true_labels = true_labels.sum()\n",
    "    total_false_labels = false_labels.sum()\n",
    "\n",
    "    tp_bucket_v = unsorted_segment_sum(true_labels, bucket_indices, num_thresholds)\n",
    "    fp_bucket_v = unsorted_segment_sum(false_labels, bucket_indices, num_thresholds)\n",
    "\n",
    "    tp = np.cumsum(tp_bucket_v[::-1])[::-1]\n",
    "    fp = np.cumsum(fp_bucket_v[::-1])[::-1]\n",
    "    tn = total_false_labels - fp\n",
    "    fn = total_true_labels - tp\n",
    "    \n",
    "    return tp, fp, tn, fn, thresholds\n",
    "    \n",
    "\n",
    "confusion_matrix_per_threshold(y_true, y_pred, 10)"
   ]
  },
  {
   "cell_type": "code",
   "execution_count": 4,
   "metadata": {},
   "outputs": [
    {
     "name": "stdout",
     "output_type": "stream",
     "text": [
      "[495. 439. 374. 324. 269.]\n",
      "[505. 443. 393. 331. 261.]\n",
      "[  0.  62. 112. 174. 244.]\n",
      "[  0.  56. 121. 171. 226.]\n"
     ]
    }
   ],
   "source": [
    "thresholds = np.linspace(0, 1, 10) \n",
    "num_thresholds = len(thresholds)\n",
    "\n",
    "bucket_indices = (np.ceil(y_pred * (num_thresholds - 1)) - 1).astype(np.int32)\n",
    "\n",
    "true_labels = y_true\n",
    "false_labels = 1.0 - y_true\n",
    "\n",
    "total_true_labels = true_labels.sum()\n",
    "total_false_labels = false_labels.sum()\n",
    "\n",
    "tp_bucket_v = unsorted_segment_sum(true_labels, bucket_indices, num_thresholds)\n",
    "fp_bucket_v = unsorted_segment_sum(false_labels, bucket_indices, num_thresholds)\n",
    "\n",
    "tp = np.flip(np.flip(tp_bucket_v, 0).cumsum(), 0)\n",
    "fp = np.flip(np.flip(fp_bucket_v, 0).cumsum(), 0)\n",
    "tn = total_false_labels - fp\n",
    "fn = total_true_labels - tp\n",
    "\n",
    "print(tp[:5])\n",
    "print(fp[:5])\n",
    "print(tn[:5])\n",
    "print(fn[:5])"
   ]
  },
  {
   "cell_type": "code",
   "execution_count": 7,
   "metadata": {},
   "outputs": [
    {
     "data": {
      "text/plain": [
       "(array([495.        , 440.        , 379.        , 328.        ,\n",
       "        273.        , 224.44444444, 171.33333333, 120.77777778,\n",
       "         61.88888889,   0.        ]),\n",
       " array([0.        , 0.11111111, 0.22222222, 0.33333333, 0.44444444,\n",
       "        0.55555556, 0.66666667, 0.77777778, 0.88888889, 1.        ]))"
      ]
     },
     "execution_count": 7,
     "metadata": {},
     "output_type": "execute_result"
    }
   ],
   "source": [
    "split = 100\n",
    "\n",
    "# fpr1, tpr1, thresholds1 = metrics.roc_curve(y_true[:split], y_pred[:split])\n",
    "# fpr2, tpr2, thresholds2 = metrics.roc_curve(y_true[split:], y_pred[split:])\n",
    "\n",
    "tuple1 = confusion_matrix_per_threshold(y_true[:split], y_pred[:split], 10)\n",
    "tuple2 = confusion_matrix_per_threshold(y_true[split:], y_pred[split:], 5)\n",
    "tp1, fp1, tn1, fn1, thresholds1 = tuple1 \n",
    "tp2, fp2, tn2, fn2, thresholds2 = tuple2 \n",
    "\n",
    "\n",
    "from collections import defaultdict \n",
    "\n",
    "\n",
    "def merge_histograms(hist1, hist2):\n",
    "    _thresholds = (hist1[0], hist2[0])\n",
    "    _fps = (hist1[1], hist2[1])\n",
    "    \n",
    "    longest_i = np.argmax([len(t) for t in _thresholds])\n",
    "    shortest_i = 1 - longest_i\n",
    "\n",
    "    # Interpolate the false-positive rates to have the same number of thresholds\n",
    "    short_interp = np.interp(_thresholds[longest_i], _thresholds[shortest_i], _fps[shortest_i])\n",
    "    long_interp = np.interp(_thresholds[longest_i], _thresholds[longest_i], _fps[longest_i])\n",
    "\n",
    "    # Merge the false-positive rates by taking the maximum at each threshold\n",
    "    fp_merged = short_interp + long_interp\n",
    "\n",
    "    # Return the merged histogram\n",
    "    return fp_merged, _thresholds[longest_i]\n",
    "\n",
    "\n",
    "def merge(tuple1, tuple2): \n",
    "\ttp1, fp1, tn1, fn1, thresholds1 = tuple1 \n",
    "\ttp2, fp2, tn2, fn2, thresholds2 = tuple2 \n",
    "\t\n",
    "\ttp = defaultdict(int) \n",
    "\tfp = defaultdict(int) \n",
    "\ttn = defaultdict(int) \n",
    "\tfn = defaultdict(int) \n",
    "\t\n",
    "\tfor i in range(len(thresholds1)): \n",
    "\t\ttp[thresholds1[i]] += tp1[i] \n",
    "\t\tfp[thresholds1[i]] += fp1[i] \n",
    "\t\ttn[thresholds1[i]] += tn1[i] \n",
    "\t\tfn[thresholds1[i]] += fn1[i] \n",
    "\t\t\n",
    "\tfor i in range(len(thresholds2)): \n",
    "\t\ttp[thresholds2[i]] += tp2[i] \n",
    "\t\tfp[thresholds2[i]] += fp2[i] \n",
    "\t\ttn[thresholds2[i]] += tn2[i] \n",
    "\t\tfn[thresholds2[i]] += fn2[i] \n",
    "\t\t\n",
    "\treturn (\n",
    "        np.array(list(tp.values())), \n",
    "        np.array(list(fp.values())), \n",
    "        np.array(list(tn.values())), \n",
    "        np.array(list(fn.values())), \n",
    "        np.array(list(tp.keys()))\n",
    "    )\n",
    "\n",
    "\n",
    "def merge_hist(a, b):\n",
    "    edgesa = a[1]\n",
    "    edgesb = b[1]\n",
    "    da = edgesa[1]-edgesa[0]\n",
    "    db = edgesb[1]-edgesb[0]\n",
    "    dint = np.min([da, db])\n",
    "\n",
    "    min = np.min(np.hstack([edgesa, edgesb]))\n",
    "    max = np.max(np.hstack([edgesa, edgesb]))\n",
    "    edgesc = np.arange(min, max, dint)\n",
    "\n",
    "    def interpolate_hist(edgesint, edges, hist):\n",
    "        cumhist = np.hstack([0, np.cumsum(hist)])\n",
    "        cumhistint = np.interp(edgesint, edges, cumhist)\n",
    "        histint = np.diff(cumhistint)\n",
    "        return histint\n",
    "\n",
    "    histaint = interpolate_hist(edgesc, edgesa, a[0])\n",
    "    histbint = interpolate_hist(edgesc, edgesb, b[0])\n",
    "\n",
    "    c = histaint + histbint\n",
    "    return c, edgesc\n",
    "\n",
    "\n",
    "def merge_thresholds(thresholds1, values1, thresholds2, values2):\n",
    "    da = thresholds1[1]-thresholds2[0]\n",
    "    db = thresholds2[1]-thresholds2[0]\n",
    "    dint = np.min([da, db])\n",
    "\n",
    "    min = np.min(np.hstack([thresholds1, thresholds2]))\n",
    "    max = np.max(np.hstack([thresholds1, thresholds2]))\n",
    "    print(dint)\n",
    "    print(min)\n",
    "    print(max)\n",
    "    thresholds = np.arange(min, max + dint - 0.00001, dint)\n",
    "    print(thresholds)\n",
    "    \n",
    "    def interpolate(edgesint, edges, value):\n",
    "        cumhist = np.hstack([0, np.cumsum(value)])\n",
    "        cumhistint = np.interp(edgesint, edges, cumhist)\n",
    "        histint = np.diff(cumhistint)\n",
    "        return histint\n",
    "    \n",
    "    values = []\n",
    "    for v1, v2 in zip(values1, values2):\n",
    "        values.append(\n",
    "            interpolate(thresholds, thresholds1, v1) + \n",
    "            interpolate(thresholds, thresholds2, v2)\n",
    "        )\n",
    "    \n",
    "    return thresholds, tuple(values)\n",
    "\n",
    "\n",
    "# merge_hist((tp1, np.append(thresholds1, 1)), (tp2, np.append(thresholds2, 1)))\n",
    "\n",
    "# out = merge_thresholds(np.append(thresholds1, 1), (tp1, fp1, tn1, fn1), np.append(thresholds2, 1), (tp2, fp2, tn2, fn2))\n",
    "# out = merge_thresholds(thresholds1, (tp1, fp1, tn1, fn1), thresholds2, (tp2, fp2, tn2, fn2))\n",
    "\n",
    "# print(out[0].shape)\n",
    "# out\n",
    "\n",
    "merge_histograms((thresholds1, tp1), (thresholds2, tp2))"
   ]
  },
  {
   "cell_type": "code",
   "execution_count": 9,
   "metadata": {},
   "outputs": [
    {
     "data": {
      "text/plain": [
       "array([460.        , 405.77777778, 351.55555556, 300.66666667,\n",
       "       250.88888889, 200.22222222, 148.66666667,  97.77777778,\n",
       "        48.88888889,   0.        ])"
      ]
     },
     "execution_count": 9,
     "metadata": {},
     "output_type": "execute_result"
    }
   ],
   "source": [
    "fp1_interp = np.interp(thresholds1, thresholds2, fp2)\n",
    "fp2_interp = np.interp(thresholds1, thresholds1, fp1)\n",
    "\n",
    "\n",
    "# Merge the false-positive rates by taking the maximum at each threshold\n",
    "fp_merged = np.maximum(fp1_interp, fp2_interp)\n",
    "\n",
    "fp_merged"
   ]
  },
  {
   "cell_type": "code",
   "execution_count": 12,
   "metadata": {},
   "outputs": [
    {
     "data": {
      "text/plain": [
       "array([0.  , 0.25, 0.5 , 0.75, 1.  ])"
      ]
     },
     "execution_count": 12,
     "metadata": {},
     "output_type": "execute_result"
    }
   ],
   "source": [
    "thresholds2"
   ]
  },
  {
   "cell_type": "code",
   "execution_count": 143,
   "metadata": {},
   "outputs": [
    {
     "data": {
      "text/plain": [
       "(10,)"
      ]
     },
     "execution_count": 143,
     "metadata": {},
     "output_type": "execute_result"
    }
   ],
   "source": [
    "tn1.shape"
   ]
  },
  {
   "cell_type": "code",
   "execution_count": 123,
   "metadata": {},
   "outputs": [],
   "source": [
    "a = 5 + 1*np.random.randn(100)\n",
    "b = 10 + 2*np.random.randn(100)\n",
    "hista, edgesa = np.histogram(a, bins=10)\n",
    "histb, edgesb = np.histogram(b, bins=5)\n",
    "\n",
    "histc, edgesc = merge_hist([hista, edgesa], [histb, edgesb])"
   ]
  },
  {
   "cell_type": "code",
   "execution_count": 129,
   "metadata": {},
   "outputs": [
    {
     "data": {
      "text/plain": [
       "array([0.        , 0.        , 0.11111111, 0.22222222, 0.33333333,\n",
       "       0.44444444, 0.55555556, 0.66666667, 0.77777778, 0.88888889,\n",
       "       1.        ])"
      ]
     },
     "execution_count": 129,
     "metadata": {},
     "output_type": "execute_result"
    }
   ],
   "source": [
    "np.append(0.0, thresholds1)"
   ]
  },
  {
   "cell_type": "code",
   "execution_count": 128,
   "metadata": {},
   "outputs": [
    {
     "data": {
      "text/plain": [
       "((10,), (11,))"
      ]
     },
     "execution_count": 128,
     "metadata": {},
     "output_type": "execute_result"
    }
   ],
   "source": [
    "hista.shape, edgesa.shape"
   ]
  },
  {
   "cell_type": "code",
   "execution_count": 100,
   "metadata": {},
   "outputs": [
    {
     "data": {
      "text/plain": [
       "array([512., 457., 406., 356., 301., 249., 187., 128.,  73.,   0.],\n",
       "      dtype=float32)"
      ]
     },
     "execution_count": 100,
     "metadata": {},
     "output_type": "execute_result"
    }
   ],
   "source": [
    "import tensorflow as tf\n",
    "\n",
    "tp_bucket_v = tf.math.unsorted_segment_sum(\n",
    "    y_true, bucket_indices, num_thresholds\n",
    ")\n",
    "\n",
    "tf.cumsum(tp_bucket_v, reverse=True).numpy()"
   ]
  },
  {
   "cell_type": "code",
   "execution_count": 68,
   "metadata": {},
   "outputs": [
    {
     "data": {
      "text/plain": [
       "3"
      ]
     },
     "execution_count": 68,
     "metadata": {},
     "output_type": "execute_result"
    }
   ],
   "source": [
    "num_thresholds"
   ]
  },
  {
   "cell_type": "code",
   "execution_count": 58,
   "metadata": {},
   "outputs": [
    {
     "name": "stdout",
     "output_type": "stream",
     "text": [
      "[0.17633014 0.385522   0.99569905 0.12141511 0.30130631]\n"
     ]
    },
    {
     "data": {
      "text/plain": [
       "array([0., 0., 1., 0., 0.])"
      ]
     },
     "execution_count": 58,
     "metadata": {},
     "output_type": "execute_result"
    }
   ],
   "source": [
    "_y_pred = y_pred[:5]\n",
    "\n",
    "print(_y_pred)\n",
    "np.ceil(_y_pred * (num_thresholds - 1)) - 1"
   ]
  },
  {
   "cell_type": "code",
   "execution_count": 15,
   "metadata": {},
   "outputs": [
    {
     "data": {
      "application/vnd.plotly.v1+json": {
       "config": {
        "plotlyServerURL": "https://plot.ly"
       },
       "data": [
        {
         "colorscale": [
          [
           0,
           "rgb(247,251,255)"
          ],
          [
           0.125,
           "rgb(222,235,247)"
          ],
          [
           0.25,
           "rgb(198,219,239)"
          ],
          [
           0.375,
           "rgb(158,202,225)"
          ],
          [
           0.5,
           "rgb(107,174,214)"
          ],
          [
           0.625,
           "rgb(66,146,198)"
          ],
          [
           0.75,
           "rgb(33,113,181)"
          ],
          [
           0.875,
           "rgb(8,81,156)"
          ],
          [
           1,
           "rgb(8,48,107)"
          ]
         ],
         "reversescale": false,
         "showscale": false,
         "type": "heatmap",
         "x": [
          "Predicted Positive",
          "Predicted Negative"
         ],
         "y": [
          "Actual Positive",
          "Actual Negative"
         ],
         "z": [
          [
           253,
           250
          ],
          [
           260,
           237
          ]
         ]
        }
       ],
       "layout": {
        "annotations": [
         {
          "font": {
           "color": "#FFFFFF"
          },
          "showarrow": false,
          "text": "253",
          "x": "Predicted Positive",
          "xref": "x",
          "y": "Actual Positive",
          "yref": "y"
         },
         {
          "font": {
           "color": "#FFFFFF"
          },
          "showarrow": false,
          "text": "250",
          "x": "Predicted Negative",
          "xref": "x",
          "y": "Actual Positive",
          "yref": "y"
         },
         {
          "font": {
           "color": "#FFFFFF"
          },
          "showarrow": false,
          "text": "260",
          "x": "Predicted Positive",
          "xref": "x",
          "y": "Actual Negative",
          "yref": "y"
         },
         {
          "font": {
           "color": "#000000"
          },
          "showarrow": false,
          "text": "237",
          "x": "Predicted Negative",
          "xref": "x",
          "y": "Actual Negative",
          "yref": "y"
         }
        ],
        "template": {
         "data": {
          "bar": [
           {
            "error_x": {
             "color": "#2a3f5f"
            },
            "error_y": {
             "color": "#2a3f5f"
            },
            "marker": {
             "line": {
              "color": "#E5ECF6",
              "width": 0.5
             },
             "pattern": {
              "fillmode": "overlay",
              "size": 10,
              "solidity": 0.2
             }
            },
            "type": "bar"
           }
          ],
          "barpolar": [
           {
            "marker": {
             "line": {
              "color": "#E5ECF6",
              "width": 0.5
             },
             "pattern": {
              "fillmode": "overlay",
              "size": 10,
              "solidity": 0.2
             }
            },
            "type": "barpolar"
           }
          ],
          "carpet": [
           {
            "aaxis": {
             "endlinecolor": "#2a3f5f",
             "gridcolor": "white",
             "linecolor": "white",
             "minorgridcolor": "white",
             "startlinecolor": "#2a3f5f"
            },
            "baxis": {
             "endlinecolor": "#2a3f5f",
             "gridcolor": "white",
             "linecolor": "white",
             "minorgridcolor": "white",
             "startlinecolor": "#2a3f5f"
            },
            "type": "carpet"
           }
          ],
          "choropleth": [
           {
            "colorbar": {
             "outlinewidth": 0,
             "ticks": ""
            },
            "type": "choropleth"
           }
          ],
          "contour": [
           {
            "colorbar": {
             "outlinewidth": 0,
             "ticks": ""
            },
            "colorscale": [
             [
              0,
              "#0d0887"
             ],
             [
              0.1111111111111111,
              "#46039f"
             ],
             [
              0.2222222222222222,
              "#7201a8"
             ],
             [
              0.3333333333333333,
              "#9c179e"
             ],
             [
              0.4444444444444444,
              "#bd3786"
             ],
             [
              0.5555555555555556,
              "#d8576b"
             ],
             [
              0.6666666666666666,
              "#ed7953"
             ],
             [
              0.7777777777777778,
              "#fb9f3a"
             ],
             [
              0.8888888888888888,
              "#fdca26"
             ],
             [
              1,
              "#f0f921"
             ]
            ],
            "type": "contour"
           }
          ],
          "contourcarpet": [
           {
            "colorbar": {
             "outlinewidth": 0,
             "ticks": ""
            },
            "type": "contourcarpet"
           }
          ],
          "heatmap": [
           {
            "colorbar": {
             "outlinewidth": 0,
             "ticks": ""
            },
            "colorscale": [
             [
              0,
              "#0d0887"
             ],
             [
              0.1111111111111111,
              "#46039f"
             ],
             [
              0.2222222222222222,
              "#7201a8"
             ],
             [
              0.3333333333333333,
              "#9c179e"
             ],
             [
              0.4444444444444444,
              "#bd3786"
             ],
             [
              0.5555555555555556,
              "#d8576b"
             ],
             [
              0.6666666666666666,
              "#ed7953"
             ],
             [
              0.7777777777777778,
              "#fb9f3a"
             ],
             [
              0.8888888888888888,
              "#fdca26"
             ],
             [
              1,
              "#f0f921"
             ]
            ],
            "type": "heatmap"
           }
          ],
          "heatmapgl": [
           {
            "colorbar": {
             "outlinewidth": 0,
             "ticks": ""
            },
            "colorscale": [
             [
              0,
              "#0d0887"
             ],
             [
              0.1111111111111111,
              "#46039f"
             ],
             [
              0.2222222222222222,
              "#7201a8"
             ],
             [
              0.3333333333333333,
              "#9c179e"
             ],
             [
              0.4444444444444444,
              "#bd3786"
             ],
             [
              0.5555555555555556,
              "#d8576b"
             ],
             [
              0.6666666666666666,
              "#ed7953"
             ],
             [
              0.7777777777777778,
              "#fb9f3a"
             ],
             [
              0.8888888888888888,
              "#fdca26"
             ],
             [
              1,
              "#f0f921"
             ]
            ],
            "type": "heatmapgl"
           }
          ],
          "histogram": [
           {
            "marker": {
             "pattern": {
              "fillmode": "overlay",
              "size": 10,
              "solidity": 0.2
             }
            },
            "type": "histogram"
           }
          ],
          "histogram2d": [
           {
            "colorbar": {
             "outlinewidth": 0,
             "ticks": ""
            },
            "colorscale": [
             [
              0,
              "#0d0887"
             ],
             [
              0.1111111111111111,
              "#46039f"
             ],
             [
              0.2222222222222222,
              "#7201a8"
             ],
             [
              0.3333333333333333,
              "#9c179e"
             ],
             [
              0.4444444444444444,
              "#bd3786"
             ],
             [
              0.5555555555555556,
              "#d8576b"
             ],
             [
              0.6666666666666666,
              "#ed7953"
             ],
             [
              0.7777777777777778,
              "#fb9f3a"
             ],
             [
              0.8888888888888888,
              "#fdca26"
             ],
             [
              1,
              "#f0f921"
             ]
            ],
            "type": "histogram2d"
           }
          ],
          "histogram2dcontour": [
           {
            "colorbar": {
             "outlinewidth": 0,
             "ticks": ""
            },
            "colorscale": [
             [
              0,
              "#0d0887"
             ],
             [
              0.1111111111111111,
              "#46039f"
             ],
             [
              0.2222222222222222,
              "#7201a8"
             ],
             [
              0.3333333333333333,
              "#9c179e"
             ],
             [
              0.4444444444444444,
              "#bd3786"
             ],
             [
              0.5555555555555556,
              "#d8576b"
             ],
             [
              0.6666666666666666,
              "#ed7953"
             ],
             [
              0.7777777777777778,
              "#fb9f3a"
             ],
             [
              0.8888888888888888,
              "#fdca26"
             ],
             [
              1,
              "#f0f921"
             ]
            ],
            "type": "histogram2dcontour"
           }
          ],
          "mesh3d": [
           {
            "colorbar": {
             "outlinewidth": 0,
             "ticks": ""
            },
            "type": "mesh3d"
           }
          ],
          "parcoords": [
           {
            "line": {
             "colorbar": {
              "outlinewidth": 0,
              "ticks": ""
             }
            },
            "type": "parcoords"
           }
          ],
          "pie": [
           {
            "automargin": true,
            "type": "pie"
           }
          ],
          "scatter": [
           {
            "fillpattern": {
             "fillmode": "overlay",
             "size": 10,
             "solidity": 0.2
            },
            "type": "scatter"
           }
          ],
          "scatter3d": [
           {
            "line": {
             "colorbar": {
              "outlinewidth": 0,
              "ticks": ""
             }
            },
            "marker": {
             "colorbar": {
              "outlinewidth": 0,
              "ticks": ""
             }
            },
            "type": "scatter3d"
           }
          ],
          "scattercarpet": [
           {
            "marker": {
             "colorbar": {
              "outlinewidth": 0,
              "ticks": ""
             }
            },
            "type": "scattercarpet"
           }
          ],
          "scattergeo": [
           {
            "marker": {
             "colorbar": {
              "outlinewidth": 0,
              "ticks": ""
             }
            },
            "type": "scattergeo"
           }
          ],
          "scattergl": [
           {
            "marker": {
             "colorbar": {
              "outlinewidth": 0,
              "ticks": ""
             }
            },
            "type": "scattergl"
           }
          ],
          "scattermapbox": [
           {
            "marker": {
             "colorbar": {
              "outlinewidth": 0,
              "ticks": ""
             }
            },
            "type": "scattermapbox"
           }
          ],
          "scatterpolar": [
           {
            "marker": {
             "colorbar": {
              "outlinewidth": 0,
              "ticks": ""
             }
            },
            "type": "scatterpolar"
           }
          ],
          "scatterpolargl": [
           {
            "marker": {
             "colorbar": {
              "outlinewidth": 0,
              "ticks": ""
             }
            },
            "type": "scatterpolargl"
           }
          ],
          "scatterternary": [
           {
            "marker": {
             "colorbar": {
              "outlinewidth": 0,
              "ticks": ""
             }
            },
            "type": "scatterternary"
           }
          ],
          "surface": [
           {
            "colorbar": {
             "outlinewidth": 0,
             "ticks": ""
            },
            "colorscale": [
             [
              0,
              "#0d0887"
             ],
             [
              0.1111111111111111,
              "#46039f"
             ],
             [
              0.2222222222222222,
              "#7201a8"
             ],
             [
              0.3333333333333333,
              "#9c179e"
             ],
             [
              0.4444444444444444,
              "#bd3786"
             ],
             [
              0.5555555555555556,
              "#d8576b"
             ],
             [
              0.6666666666666666,
              "#ed7953"
             ],
             [
              0.7777777777777778,
              "#fb9f3a"
             ],
             [
              0.8888888888888888,
              "#fdca26"
             ],
             [
              1,
              "#f0f921"
             ]
            ],
            "type": "surface"
           }
          ],
          "table": [
           {
            "cells": {
             "fill": {
              "color": "#EBF0F8"
             },
             "line": {
              "color": "white"
             }
            },
            "header": {
             "fill": {
              "color": "#C8D4E3"
             },
             "line": {
              "color": "white"
             }
            },
            "type": "table"
           }
          ]
         },
         "layout": {
          "annotationdefaults": {
           "arrowcolor": "#2a3f5f",
           "arrowhead": 0,
           "arrowwidth": 1
          },
          "autotypenumbers": "strict",
          "coloraxis": {
           "colorbar": {
            "outlinewidth": 0,
            "ticks": ""
           }
          },
          "colorscale": {
           "diverging": [
            [
             0,
             "#8e0152"
            ],
            [
             0.1,
             "#c51b7d"
            ],
            [
             0.2,
             "#de77ae"
            ],
            [
             0.3,
             "#f1b6da"
            ],
            [
             0.4,
             "#fde0ef"
            ],
            [
             0.5,
             "#f7f7f7"
            ],
            [
             0.6,
             "#e6f5d0"
            ],
            [
             0.7,
             "#b8e186"
            ],
            [
             0.8,
             "#7fbc41"
            ],
            [
             0.9,
             "#4d9221"
            ],
            [
             1,
             "#276419"
            ]
           ],
           "sequential": [
            [
             0,
             "#0d0887"
            ],
            [
             0.1111111111111111,
             "#46039f"
            ],
            [
             0.2222222222222222,
             "#7201a8"
            ],
            [
             0.3333333333333333,
             "#9c179e"
            ],
            [
             0.4444444444444444,
             "#bd3786"
            ],
            [
             0.5555555555555556,
             "#d8576b"
            ],
            [
             0.6666666666666666,
             "#ed7953"
            ],
            [
             0.7777777777777778,
             "#fb9f3a"
            ],
            [
             0.8888888888888888,
             "#fdca26"
            ],
            [
             1,
             "#f0f921"
            ]
           ],
           "sequentialminus": [
            [
             0,
             "#0d0887"
            ],
            [
             0.1111111111111111,
             "#46039f"
            ],
            [
             0.2222222222222222,
             "#7201a8"
            ],
            [
             0.3333333333333333,
             "#9c179e"
            ],
            [
             0.4444444444444444,
             "#bd3786"
            ],
            [
             0.5555555555555556,
             "#d8576b"
            ],
            [
             0.6666666666666666,
             "#ed7953"
            ],
            [
             0.7777777777777778,
             "#fb9f3a"
            ],
            [
             0.8888888888888888,
             "#fdca26"
            ],
            [
             1,
             "#f0f921"
            ]
           ]
          },
          "colorway": [
           "#636efa",
           "#EF553B",
           "#00cc96",
           "#ab63fa",
           "#FFA15A",
           "#19d3f3",
           "#FF6692",
           "#B6E880",
           "#FF97FF",
           "#FECB52"
          ],
          "font": {
           "color": "#2a3f5f"
          },
          "geo": {
           "bgcolor": "white",
           "lakecolor": "white",
           "landcolor": "#E5ECF6",
           "showlakes": true,
           "showland": true,
           "subunitcolor": "white"
          },
          "hoverlabel": {
           "align": "left"
          },
          "hovermode": "closest",
          "mapbox": {
           "style": "light"
          },
          "paper_bgcolor": "white",
          "plot_bgcolor": "#E5ECF6",
          "polar": {
           "angularaxis": {
            "gridcolor": "white",
            "linecolor": "white",
            "ticks": ""
           },
           "bgcolor": "#E5ECF6",
           "radialaxis": {
            "gridcolor": "white",
            "linecolor": "white",
            "ticks": ""
           }
          },
          "scene": {
           "xaxis": {
            "backgroundcolor": "#E5ECF6",
            "gridcolor": "white",
            "gridwidth": 2,
            "linecolor": "white",
            "showbackground": true,
            "ticks": "",
            "zerolinecolor": "white"
           },
           "yaxis": {
            "backgroundcolor": "#E5ECF6",
            "gridcolor": "white",
            "gridwidth": 2,
            "linecolor": "white",
            "showbackground": true,
            "ticks": "",
            "zerolinecolor": "white"
           },
           "zaxis": {
            "backgroundcolor": "#E5ECF6",
            "gridcolor": "white",
            "gridwidth": 2,
            "linecolor": "white",
            "showbackground": true,
            "ticks": "",
            "zerolinecolor": "white"
           }
          },
          "shapedefaults": {
           "line": {
            "color": "#2a3f5f"
           }
          },
          "ternary": {
           "aaxis": {
            "gridcolor": "white",
            "linecolor": "white",
            "ticks": ""
           },
           "baxis": {
            "gridcolor": "white",
            "linecolor": "white",
            "ticks": ""
           },
           "bgcolor": "#E5ECF6",
           "caxis": {
            "gridcolor": "white",
            "linecolor": "white",
            "ticks": ""
           }
          },
          "title": {
           "x": 0.05
          },
          "xaxis": {
           "automargin": true,
           "gridcolor": "white",
           "linecolor": "white",
           "ticks": "",
           "title": {
            "standoff": 15
           },
           "zerolinecolor": "white",
           "zerolinewidth": 2
          },
          "yaxis": {
           "automargin": true,
           "gridcolor": "white",
           "linecolor": "white",
           "ticks": "",
           "title": {
            "standoff": 15
           },
           "zerolinecolor": "white",
           "zerolinewidth": 2
          }
         }
        },
        "xaxis": {
         "dtick": 1,
         "gridcolor": "rgb(0, 0, 0)",
         "side": "top",
         "ticks": ""
        },
        "yaxis": {
         "dtick": 1,
         "ticks": "",
         "ticksuffix": "  "
        }
       }
      },
      "text/html": [
       "<div>                            <div id=\"55a4f3d5-552b-4bc3-92c7-95fa6847af79\" class=\"plotly-graph-div\" style=\"height:525px; width:100%;\"></div>            <script type=\"text/javascript\">                require([\"plotly\"], function(Plotly) {                    window.PLOTLYENV=window.PLOTLYENV || {};                                    if (document.getElementById(\"55a4f3d5-552b-4bc3-92c7-95fa6847af79\")) {                    Plotly.newPlot(                        \"55a4f3d5-552b-4bc3-92c7-95fa6847af79\",                        [{\"colorscale\":[[0.0,\"rgb(247,251,255)\"],[0.125,\"rgb(222,235,247)\"],[0.25,\"rgb(198,219,239)\"],[0.375,\"rgb(158,202,225)\"],[0.5,\"rgb(107,174,214)\"],[0.625,\"rgb(66,146,198)\"],[0.75,\"rgb(33,113,181)\"],[0.875,\"rgb(8,81,156)\"],[1.0,\"rgb(8,48,107)\"]],\"reversescale\":false,\"showscale\":false,\"x\":[\"Predicted Positive\",\"Predicted Negative\"],\"y\":[\"Actual Positive\",\"Actual Negative\"],\"z\":[[253,250],[260,237]],\"type\":\"heatmap\"}],                        {\"annotations\":[{\"font\":{\"color\":\"#FFFFFF\"},\"showarrow\":false,\"text\":\"253\",\"x\":\"Predicted Positive\",\"xref\":\"x\",\"y\":\"Actual Positive\",\"yref\":\"y\"},{\"font\":{\"color\":\"#FFFFFF\"},\"showarrow\":false,\"text\":\"250\",\"x\":\"Predicted Negative\",\"xref\":\"x\",\"y\":\"Actual Positive\",\"yref\":\"y\"},{\"font\":{\"color\":\"#FFFFFF\"},\"showarrow\":false,\"text\":\"260\",\"x\":\"Predicted Positive\",\"xref\":\"x\",\"y\":\"Actual Negative\",\"yref\":\"y\"},{\"font\":{\"color\":\"#000000\"},\"showarrow\":false,\"text\":\"237\",\"x\":\"Predicted Negative\",\"xref\":\"x\",\"y\":\"Actual Negative\",\"yref\":\"y\"}],\"xaxis\":{\"dtick\":1,\"gridcolor\":\"rgb(0, 0, 0)\",\"side\":\"top\",\"ticks\":\"\"},\"yaxis\":{\"dtick\":1,\"ticks\":\"\",\"ticksuffix\":\"  \"},\"template\":{\"data\":{\"histogram2dcontour\":[{\"type\":\"histogram2dcontour\",\"colorbar\":{\"outlinewidth\":0,\"ticks\":\"\"},\"colorscale\":[[0.0,\"#0d0887\"],[0.1111111111111111,\"#46039f\"],[0.2222222222222222,\"#7201a8\"],[0.3333333333333333,\"#9c179e\"],[0.4444444444444444,\"#bd3786\"],[0.5555555555555556,\"#d8576b\"],[0.6666666666666666,\"#ed7953\"],[0.7777777777777778,\"#fb9f3a\"],[0.8888888888888888,\"#fdca26\"],[1.0,\"#f0f921\"]]}],\"choropleth\":[{\"type\":\"choropleth\",\"colorbar\":{\"outlinewidth\":0,\"ticks\":\"\"}}],\"histogram2d\":[{\"type\":\"histogram2d\",\"colorbar\":{\"outlinewidth\":0,\"ticks\":\"\"},\"colorscale\":[[0.0,\"#0d0887\"],[0.1111111111111111,\"#46039f\"],[0.2222222222222222,\"#7201a8\"],[0.3333333333333333,\"#9c179e\"],[0.4444444444444444,\"#bd3786\"],[0.5555555555555556,\"#d8576b\"],[0.6666666666666666,\"#ed7953\"],[0.7777777777777778,\"#fb9f3a\"],[0.8888888888888888,\"#fdca26\"],[1.0,\"#f0f921\"]]}],\"heatmap\":[{\"type\":\"heatmap\",\"colorbar\":{\"outlinewidth\":0,\"ticks\":\"\"},\"colorscale\":[[0.0,\"#0d0887\"],[0.1111111111111111,\"#46039f\"],[0.2222222222222222,\"#7201a8\"],[0.3333333333333333,\"#9c179e\"],[0.4444444444444444,\"#bd3786\"],[0.5555555555555556,\"#d8576b\"],[0.6666666666666666,\"#ed7953\"],[0.7777777777777778,\"#fb9f3a\"],[0.8888888888888888,\"#fdca26\"],[1.0,\"#f0f921\"]]}],\"heatmapgl\":[{\"type\":\"heatmapgl\",\"colorbar\":{\"outlinewidth\":0,\"ticks\":\"\"},\"colorscale\":[[0.0,\"#0d0887\"],[0.1111111111111111,\"#46039f\"],[0.2222222222222222,\"#7201a8\"],[0.3333333333333333,\"#9c179e\"],[0.4444444444444444,\"#bd3786\"],[0.5555555555555556,\"#d8576b\"],[0.6666666666666666,\"#ed7953\"],[0.7777777777777778,\"#fb9f3a\"],[0.8888888888888888,\"#fdca26\"],[1.0,\"#f0f921\"]]}],\"contourcarpet\":[{\"type\":\"contourcarpet\",\"colorbar\":{\"outlinewidth\":0,\"ticks\":\"\"}}],\"contour\":[{\"type\":\"contour\",\"colorbar\":{\"outlinewidth\":0,\"ticks\":\"\"},\"colorscale\":[[0.0,\"#0d0887\"],[0.1111111111111111,\"#46039f\"],[0.2222222222222222,\"#7201a8\"],[0.3333333333333333,\"#9c179e\"],[0.4444444444444444,\"#bd3786\"],[0.5555555555555556,\"#d8576b\"],[0.6666666666666666,\"#ed7953\"],[0.7777777777777778,\"#fb9f3a\"],[0.8888888888888888,\"#fdca26\"],[1.0,\"#f0f921\"]]}],\"surface\":[{\"type\":\"surface\",\"colorbar\":{\"outlinewidth\":0,\"ticks\":\"\"},\"colorscale\":[[0.0,\"#0d0887\"],[0.1111111111111111,\"#46039f\"],[0.2222222222222222,\"#7201a8\"],[0.3333333333333333,\"#9c179e\"],[0.4444444444444444,\"#bd3786\"],[0.5555555555555556,\"#d8576b\"],[0.6666666666666666,\"#ed7953\"],[0.7777777777777778,\"#fb9f3a\"],[0.8888888888888888,\"#fdca26\"],[1.0,\"#f0f921\"]]}],\"mesh3d\":[{\"type\":\"mesh3d\",\"colorbar\":{\"outlinewidth\":0,\"ticks\":\"\"}}],\"scatter\":[{\"fillpattern\":{\"fillmode\":\"overlay\",\"size\":10,\"solidity\":0.2},\"type\":\"scatter\"}],\"parcoords\":[{\"type\":\"parcoords\",\"line\":{\"colorbar\":{\"outlinewidth\":0,\"ticks\":\"\"}}}],\"scatterpolargl\":[{\"type\":\"scatterpolargl\",\"marker\":{\"colorbar\":{\"outlinewidth\":0,\"ticks\":\"\"}}}],\"bar\":[{\"error_x\":{\"color\":\"#2a3f5f\"},\"error_y\":{\"color\":\"#2a3f5f\"},\"marker\":{\"line\":{\"color\":\"#E5ECF6\",\"width\":0.5},\"pattern\":{\"fillmode\":\"overlay\",\"size\":10,\"solidity\":0.2}},\"type\":\"bar\"}],\"scattergeo\":[{\"type\":\"scattergeo\",\"marker\":{\"colorbar\":{\"outlinewidth\":0,\"ticks\":\"\"}}}],\"scatterpolar\":[{\"type\":\"scatterpolar\",\"marker\":{\"colorbar\":{\"outlinewidth\":0,\"ticks\":\"\"}}}],\"histogram\":[{\"marker\":{\"pattern\":{\"fillmode\":\"overlay\",\"size\":10,\"solidity\":0.2}},\"type\":\"histogram\"}],\"scattergl\":[{\"type\":\"scattergl\",\"marker\":{\"colorbar\":{\"outlinewidth\":0,\"ticks\":\"\"}}}],\"scatter3d\":[{\"type\":\"scatter3d\",\"line\":{\"colorbar\":{\"outlinewidth\":0,\"ticks\":\"\"}},\"marker\":{\"colorbar\":{\"outlinewidth\":0,\"ticks\":\"\"}}}],\"scattermapbox\":[{\"type\":\"scattermapbox\",\"marker\":{\"colorbar\":{\"outlinewidth\":0,\"ticks\":\"\"}}}],\"scatterternary\":[{\"type\":\"scatterternary\",\"marker\":{\"colorbar\":{\"outlinewidth\":0,\"ticks\":\"\"}}}],\"scattercarpet\":[{\"type\":\"scattercarpet\",\"marker\":{\"colorbar\":{\"outlinewidth\":0,\"ticks\":\"\"}}}],\"carpet\":[{\"aaxis\":{\"endlinecolor\":\"#2a3f5f\",\"gridcolor\":\"white\",\"linecolor\":\"white\",\"minorgridcolor\":\"white\",\"startlinecolor\":\"#2a3f5f\"},\"baxis\":{\"endlinecolor\":\"#2a3f5f\",\"gridcolor\":\"white\",\"linecolor\":\"white\",\"minorgridcolor\":\"white\",\"startlinecolor\":\"#2a3f5f\"},\"type\":\"carpet\"}],\"table\":[{\"cells\":{\"fill\":{\"color\":\"#EBF0F8\"},\"line\":{\"color\":\"white\"}},\"header\":{\"fill\":{\"color\":\"#C8D4E3\"},\"line\":{\"color\":\"white\"}},\"type\":\"table\"}],\"barpolar\":[{\"marker\":{\"line\":{\"color\":\"#E5ECF6\",\"width\":0.5},\"pattern\":{\"fillmode\":\"overlay\",\"size\":10,\"solidity\":0.2}},\"type\":\"barpolar\"}],\"pie\":[{\"automargin\":true,\"type\":\"pie\"}]},\"layout\":{\"autotypenumbers\":\"strict\",\"colorway\":[\"#636efa\",\"#EF553B\",\"#00cc96\",\"#ab63fa\",\"#FFA15A\",\"#19d3f3\",\"#FF6692\",\"#B6E880\",\"#FF97FF\",\"#FECB52\"],\"font\":{\"color\":\"#2a3f5f\"},\"hovermode\":\"closest\",\"hoverlabel\":{\"align\":\"left\"},\"paper_bgcolor\":\"white\",\"plot_bgcolor\":\"#E5ECF6\",\"polar\":{\"bgcolor\":\"#E5ECF6\",\"angularaxis\":{\"gridcolor\":\"white\",\"linecolor\":\"white\",\"ticks\":\"\"},\"radialaxis\":{\"gridcolor\":\"white\",\"linecolor\":\"white\",\"ticks\":\"\"}},\"ternary\":{\"bgcolor\":\"#E5ECF6\",\"aaxis\":{\"gridcolor\":\"white\",\"linecolor\":\"white\",\"ticks\":\"\"},\"baxis\":{\"gridcolor\":\"white\",\"linecolor\":\"white\",\"ticks\":\"\"},\"caxis\":{\"gridcolor\":\"white\",\"linecolor\":\"white\",\"ticks\":\"\"}},\"coloraxis\":{\"colorbar\":{\"outlinewidth\":0,\"ticks\":\"\"}},\"colorscale\":{\"sequential\":[[0.0,\"#0d0887\"],[0.1111111111111111,\"#46039f\"],[0.2222222222222222,\"#7201a8\"],[0.3333333333333333,\"#9c179e\"],[0.4444444444444444,\"#bd3786\"],[0.5555555555555556,\"#d8576b\"],[0.6666666666666666,\"#ed7953\"],[0.7777777777777778,\"#fb9f3a\"],[0.8888888888888888,\"#fdca26\"],[1.0,\"#f0f921\"]],\"sequentialminus\":[[0.0,\"#0d0887\"],[0.1111111111111111,\"#46039f\"],[0.2222222222222222,\"#7201a8\"],[0.3333333333333333,\"#9c179e\"],[0.4444444444444444,\"#bd3786\"],[0.5555555555555556,\"#d8576b\"],[0.6666666666666666,\"#ed7953\"],[0.7777777777777778,\"#fb9f3a\"],[0.8888888888888888,\"#fdca26\"],[1.0,\"#f0f921\"]],\"diverging\":[[0,\"#8e0152\"],[0.1,\"#c51b7d\"],[0.2,\"#de77ae\"],[0.3,\"#f1b6da\"],[0.4,\"#fde0ef\"],[0.5,\"#f7f7f7\"],[0.6,\"#e6f5d0\"],[0.7,\"#b8e186\"],[0.8,\"#7fbc41\"],[0.9,\"#4d9221\"],[1,\"#276419\"]]},\"xaxis\":{\"gridcolor\":\"white\",\"linecolor\":\"white\",\"ticks\":\"\",\"title\":{\"standoff\":15},\"zerolinecolor\":\"white\",\"automargin\":true,\"zerolinewidth\":2},\"yaxis\":{\"gridcolor\":\"white\",\"linecolor\":\"white\",\"ticks\":\"\",\"title\":{\"standoff\":15},\"zerolinecolor\":\"white\",\"automargin\":true,\"zerolinewidth\":2},\"scene\":{\"xaxis\":{\"backgroundcolor\":\"#E5ECF6\",\"gridcolor\":\"white\",\"linecolor\":\"white\",\"showbackground\":true,\"ticks\":\"\",\"zerolinecolor\":\"white\",\"gridwidth\":2},\"yaxis\":{\"backgroundcolor\":\"#E5ECF6\",\"gridcolor\":\"white\",\"linecolor\":\"white\",\"showbackground\":true,\"ticks\":\"\",\"zerolinecolor\":\"white\",\"gridwidth\":2},\"zaxis\":{\"backgroundcolor\":\"#E5ECF6\",\"gridcolor\":\"white\",\"linecolor\":\"white\",\"showbackground\":true,\"ticks\":\"\",\"zerolinecolor\":\"white\",\"gridwidth\":2}},\"shapedefaults\":{\"line\":{\"color\":\"#2a3f5f\"}},\"annotationdefaults\":{\"arrowcolor\":\"#2a3f5f\",\"arrowhead\":0,\"arrowwidth\":1},\"geo\":{\"bgcolor\":\"white\",\"landcolor\":\"#E5ECF6\",\"subunitcolor\":\"white\",\"showland\":true,\"showlakes\":true,\"lakecolor\":\"white\"},\"title\":{\"x\":0.05},\"mapbox\":{\"style\":\"light\"}}}},                        {\"responsive\": true}                    ).then(function(){\n",
       "                            \n",
       "var gd = document.getElementById('55a4f3d5-552b-4bc3-92c7-95fa6847af79');\n",
       "var x = new MutationObserver(function (mutations, observer) {{\n",
       "        var display = window.getComputedStyle(gd).display;\n",
       "        if (!display || display === 'none') {{\n",
       "            console.log([gd, 'removed!']);\n",
       "            Plotly.purge(gd);\n",
       "            observer.disconnect();\n",
       "        }}\n",
       "}});\n",
       "\n",
       "// Listen for the removal of the full notebook cells\n",
       "var notebookContainer = gd.closest('#notebook-container');\n",
       "if (notebookContainer) {{\n",
       "    x.observe(notebookContainer, {childList: true});\n",
       "}}\n",
       "\n",
       "// Listen for the clearing of the current output cell\n",
       "var outputEl = gd.closest('.output');\n",
       "if (outputEl) {{\n",
       "    x.observe(outputEl, {childList: true});\n",
       "}}\n",
       "\n",
       "                        })                };                });            </script>        </div>"
      ]
     },
     "metadata": {},
     "output_type": "display_data"
    }
   ],
   "source": [
    "state = BinaryMetrics()(y_pred, y_true)\n",
    "\n",
    "state.plot_confusion_matrix()"
   ]
  },
  {
   "cell_type": "code",
   "execution_count": 19,
   "metadata": {},
   "outputs": [
    {
     "data": {
      "text/plain": [
       "<sklearn.metrics._plot.precision_recall_curve.PrecisionRecallDisplay at 0x7fe3ace8b730>"
      ]
     },
     "execution_count": 19,
     "metadata": {},
     "output_type": "execute_result"
    },
    {
     "data": {
      "image/png": "[encoded data removed]",
      "text/plain": [
       "<Figure size 640x480 with 1 Axes>"
      ]
     },
     "metadata": {},
     "output_type": "display_data"
    }
   ],
   "source": [
    "@nb.njit\n",
    "def binary_clf_curve(y_true, y_score):\n",
    "    # Sort scores\n",
    "    idx = np.flip(np.argsort(y_score))\n",
    "    y_score = y_score[idx]\n",
    "    y_true = y_true[idx]\n",
    "\n",
    "    # Find unique value idxs\n",
    "    idx = np.where(np.diff(y_score))[0]\n",
    "\n",
    "    # Append a value for the end of the curve\n",
    "    idx = np.append(idx, y_true.size - 1)\n",
    "\n",
    "    # Acucmulate TP with decreasing threshold\n",
    "    tps = np.cumsum(y_true)[idx]\n",
    "    fps = 1 + idx - tps\n",
    "\n",
    "    return fps, tps, y_score[idx]\n",
    "\n",
    "\n",
    "# @nb.njit\n",
    "def precision_recall_curve(fps, tps, thresholds):\n",
    "    ps = tps + fps\n",
    "    # Initialize the result array with zeros to make sure that precision[ps == 0]\n",
    "    # does not contain uninitialized values.\n",
    "    precision = np.zeros_like(tps)\n",
    "    np.divide(tps, ps, out=precision, where=(ps != 0))\n",
    "\n",
    "    # When no positive label in y_true, recall is set to 1 for all thresholds\n",
    "    # tps[-1] == 0 <=> y_true == all negative labels\n",
    "    if tps[-1] == 0:\n",
    "        recall = np.ones_like(tps)\n",
    "    else:\n",
    "        recall = tps / tps[-1]\n",
    "\n",
    "    # reverse the outputs so recall is decreasing\n",
    "    sl = slice(None, None, -1)\n",
    "    return np.hstack((precision[sl], 1)), np.hstack((recall[sl], 0)), thresholds[sl]\n",
    "\n",
    "\n",
    "def roc_curve(fps, tps, thresholds, drop_intermediate=True):\n",
    "    # Attempt to drop thresholds corresponding to points in between and\n",
    "    # collinear with other points. These are always suboptimal and do not\n",
    "    # appear on a plotted ROC curve (and thus do not affect the AUC).\n",
    "    # Here np.diff(_, 2) is used as a \"second derivative\" to tell if there\n",
    "    # is a corner at the point. Both fps and tps must be tested to handle\n",
    "    # thresholds with multiple data points (which are combined in\n",
    "    # _binary_clf_curve). This keeps all cases where the point should be kept,\n",
    "    # but does not drop more complicated cases like fps = [1, 3, 7],\n",
    "    # tps = [1, 2, 4]; there is no harm in keeping too many thresholds.\n",
    "    if drop_intermediate and len(fps) > 2:\n",
    "        optimal_idxs = np.where(\n",
    "            np.r_[True, np.logical_or(np.diff(fps, 2), np.diff(tps, 2)), True]\n",
    "        )[0]\n",
    "        fps = fps[optimal_idxs]\n",
    "        tps = tps[optimal_idxs]\n",
    "        thresholds = thresholds[optimal_idxs]\n",
    "\n",
    "    # Add an extra threshold position\n",
    "    # to make sure that the curve starts at (0, 0)\n",
    "    tps = np.r_[0, tps]\n",
    "    fps = np.r_[0, fps]\n",
    "    thresholds = np.r_[thresholds[0] + 1, thresholds]\n",
    "\n",
    "    if fps[-1] <= 0:\n",
    "        fpr = np.repeat(np.nan, fps.shape)\n",
    "    else:\n",
    "        fpr = fps / fps[-1]\n",
    "\n",
    "    if tps[-1] <= 0:\n",
    "        tpr = np.repeat(np.nan, tps.shape)\n",
    "    else:\n",
    "        tpr = tps / tps[-1]\n",
    "\n",
    "    return fpr, tpr, thresholds\n",
    "\n",
    "\n",
    "fps, tps, thresholds = binary_clf_curve(y_true, y_pred)\n",
    "precision, recall, _ = precision_recall_curve(fps, tps, thresholds)\n",
    "\n",
    "\n",
    "display = metrics.PrecisionRecallDisplay(precision=precision, recall=recall)\n",
    "display.plot()"
   ]
  },
  {
   "cell_type": "code",
   "execution_count": 28,
   "metadata": {},
   "outputs": [
    {
     "name": "stderr",
     "output_type": "stream",
     "text": [
      "/tmp/ipykernel_17010/761173405.py:35: DeprecationWarning:\n",
      "\n",
      "`np.int` is a deprecated alias for the builtin `int`. To silence this warning, use `int` by itself. Doing this will not modify any behavior and is safe. When replacing `np.int`, you may wish to use e.g. `np.int64` or `np.int32` to specify the precision. If you wish to review your current use, check the release note link for additional information.\n",
      "Deprecated in NumPy 1.20; for more details and guidance: https://numpy.org/devdocs/release/1.20.0-notes.html#deprecations\n",
      "\n"
     ]
    },
    {
     "data": {
      "text/plain": [
       "array([[226., 261.],\n",
       "       [253., 260.]])"
      ]
     },
     "execution_count": 28,
     "metadata": {},
     "output_type": "execute_result"
    }
   ],
   "source": [
    "import pandas as pd\n",
    "\n",
    "\n",
    "@nb.njit\n",
    "def confusion_matrix(y_true, y_pred):\n",
    "    num_classes = len(np.unique(y_true))\n",
    "    result = np.zeros((num_classes, num_classes))\n",
    "    for i in range(len(y_true)):\n",
    "        result[y_true[i]][y_pred[i]] += 1\n",
    "    \n",
    "    return result\n",
    "\n",
    "\n",
    "@nb.njit\n",
    "def gini_coefficient(y_true, y_prob):\n",
    "    \"\"\"\n",
    "    Original author CMPM \n",
    "    https://www.kaggle.com/cpmpml/extremely-fast-gini-computation\n",
    "    \"\"\"\n",
    "    y_true = np.asarray(y_true)\n",
    "    y_true = y_true[np.argsort(y_prob)]\n",
    "    ntrue = 0\n",
    "    gini = 0\n",
    "    delta = 0\n",
    "    n = len(y_true)\n",
    "    for i in range(n-1, -1, -1):\n",
    "        y_i = y_true[i]\n",
    "        ntrue += y_i\n",
    "        gini += y_i * delta\n",
    "        delta += 1 - y_i\n",
    "    gini = 1 - 2 * gini / (ntrue * (n - ntrue))\n",
    "    return gini\n",
    "\n",
    "\n",
    "confusion_matrix((y_pred > 0.5).astype(np.int), y_true.astype(np.int))"
   ]
  },
  {
   "cell_type": "code",
   "execution_count": 29,
   "metadata": {},
   "outputs": [
    {
     "data": {
      "text/plain": [
       "-0.025973558125292673"
      ]
     },
     "execution_count": 29,
     "metadata": {},
     "output_type": "execute_result"
    }
   ],
   "source": [
    "gini_coefficient(y_pred > 0.5, y_true)"
   ]
  },
  {
   "cell_type": "code",
   "execution_count": 21,
   "metadata": {},
   "outputs": [
    {
     "ename": "AttributeError",
     "evalue": "module 'cudf' has no attribute 'crosstab'",
     "output_type": "error",
     "traceback": [
      "\u001b[0;31m---------------------------------------------------------------------------\u001b[0m",
      "\u001b[0;31mAttributeError\u001b[0m                            Traceback (most recent call last)",
      "Cell \u001b[0;32mIn[21], line 5\u001b[0m\n\u001b[1;32m      3\u001b[0m y_actu \u001b[39m=\u001b[39m cd\u001b[39m.\u001b[39mSeries([\u001b[39m2\u001b[39m, \u001b[39m0\u001b[39m, \u001b[39m2\u001b[39m, \u001b[39m2\u001b[39m, \u001b[39m0\u001b[39m, \u001b[39m1\u001b[39m, \u001b[39m1\u001b[39m, \u001b[39m2\u001b[39m, \u001b[39m2\u001b[39m, \u001b[39m0\u001b[39m, \u001b[39m1\u001b[39m, \u001b[39m2\u001b[39m], name\u001b[39m=\u001b[39m\u001b[39m'\u001b[39m\u001b[39mActual\u001b[39m\u001b[39m'\u001b[39m)\n\u001b[1;32m      4\u001b[0m y_pred \u001b[39m=\u001b[39m cd\u001b[39m.\u001b[39mSeries([\u001b[39m0\u001b[39m, \u001b[39m0\u001b[39m, \u001b[39m2\u001b[39m, \u001b[39m1\u001b[39m, \u001b[39m0\u001b[39m, \u001b[39m2\u001b[39m, \u001b[39m1\u001b[39m, \u001b[39m0\u001b[39m, \u001b[39m2\u001b[39m, \u001b[39m0\u001b[39m, \u001b[39m2\u001b[39m, \u001b[39m2\u001b[39m], name\u001b[39m=\u001b[39m\u001b[39m'\u001b[39m\u001b[39mPredicted\u001b[39m\u001b[39m'\u001b[39m)\n\u001b[0;32m----> 5\u001b[0m df_confusion \u001b[39m=\u001b[39m cd\u001b[39m.\u001b[39;49mcrosstab(y_actu, y_pred)\n\u001b[1;32m      7\u001b[0m df_confusion\n",
      "\u001b[0;31mAttributeError\u001b[0m: module 'cudf' has no attribute 'crosstab'"
     ]
    }
   ],
   "source": [
    "import cudf as cd\n",
    "\n",
    "y_actu = cd.Series([2, 0, 2, 2, 0, 1, 1, 2, 2, 0, 1, 2], name='Actual')\n",
    "y_pred = cd.Series([0, 0, 2, 1, 0, 2, 1, 0, 2, 0, 2, 2], name='Predicted')\n",
    "df_confusion = cd.crosstab(y_actu, y_pred)\n",
    "\n",
    "df_confusion"
   ]
  },
  {
   "cell_type": "code",
   "execution_count": 4,
   "metadata": {},
   "outputs": [
    {
     "data": {
      "application/vnd.plotly.v1+json": {
       "config": {
        "plotlyServerURL": "https://plot.ly"
       },
       "data": [
        {
         "mode": "lines",
         "name": "ROC",
         "type": "scatter",
         "x": [
          0,
          0.0019801980198019802,
          0.0019801980198019802,
          0.005940594059405941,
          0.005940594059405941,
          0.007920792079207921,
          0.007920792079207921,
          0.023762376237623763,
          0.023762376237623763,
          0.02574257425742574,
          0.02574257425742574,
          0.031683168316831684,
          0.031683168316831684,
          0.033663366336633666,
          0.033663366336633666,
          0.03564356435643564,
          0.03564356435643564,
          0.03762376237623762,
          0.03762376237623762,
          0.039603960396039604,
          0.039603960396039604,
          0.04356435643564356,
          0.04356435643564356,
          0.053465346534653464,
          0.053465346534653464,
          0.055445544554455446,
          0.055445544554455446,
          0.0594059405940594,
          0.0594059405940594,
          0.06336633663366337,
          0.06336633663366337,
          0.06534653465346535,
          0.06534653465346535,
          0.07722772277227723,
          0.07722772277227723,
          0.07920792079207921,
          0.07920792079207921,
          0.08316831683168317,
          0.08316831683168317,
          0.08712871287128712,
          0.08712871287128712,
          0.09900990099009901,
          0.09900990099009901,
          0.10297029702970296,
          0.10297029702970296,
          0.10495049504950495,
          0.10495049504950495,
          0.11089108910891089,
          0.11089108910891089,
          0.11287128712871287,
          0.11287128712871287,
          0.11485148514851486,
          0.11485148514851486,
          0.11683168316831684,
          0.11683168316831684,
          0.1188118811881188,
          0.1188118811881188,
          0.12475247524752475,
          0.12475247524752475,
          0.12871287128712872,
          0.12871287128712872,
          0.1306930693069307,
          0.1306930693069307,
          0.13267326732673268,
          0.13267326732673268,
          0.13465346534653466,
          0.13465346534653466,
          0.14257425742574256,
          0.14257425742574256,
          0.14455445544554454,
          0.14455445544554454,
          0.14653465346534653,
          0.14653465346534653,
          0.1485148514851485,
          0.1485148514851485,
          0.1504950495049505,
          0.1504950495049505,
          0.15445544554455445,
          0.15445544554455445,
          0.15643564356435644,
          0.15643564356435644,
          0.15841584158415842,
          0.15841584158415842,
          0.16237623762376238,
          0.16237623762376238,
          0.16633663366336635,
          0.16633663366336635,
          0.16831683168316833,
          0.16831683168316833,
          0.17425742574257425,
          0.17425742574257425,
          0.17623762376237623,
          0.17623762376237623,
          0.1782178217821782,
          0.1782178217821782,
          0.18217821782178217,
          0.18217821782178217,
          0.18613861386138614,
          0.18613861386138614,
          0.201980198019802,
          0.201980198019802,
          0.2079207920792079,
          0.2079207920792079,
          0.21386138613861386,
          0.21386138613861386,
          0.21782178217821782,
          0.21782178217821782,
          0.2198019801980198,
          0.2198019801980198,
          0.22376237623762377,
          0.22376237623762377,
          0.2297029702970297,
          0.2297029702970297,
          0.2316831683168317,
          0.2316831683168317,
          0.2376237623762376,
          0.2376237623762376,
          0.2396039603960396,
          0.2396039603960396,
          0.2514851485148515,
          0.2514851485148515,
          0.25346534653465347,
          0.25346534653465347,
          0.25544554455445545,
          0.25544554455445545,
          0.27722772277227725,
          0.27722772277227725,
          0.2871287128712871,
          0.2871287128712871,
          0.2891089108910891,
          0.2891089108910891,
          0.29108910891089107,
          0.29108910891089107,
          0.29306930693069305,
          0.29306930693069305,
          0.29504950495049503,
          0.29504950495049503,
          0.300990099009901,
          0.300990099009901,
          0.30297029702970296,
          0.30297029702970296,
          0.3069306930693069,
          0.3069306930693069,
          0.31287128712871287,
          0.31287128712871287,
          0.31485148514851485,
          0.31485148514851485,
          0.31683168316831684,
          0.31683168316831684,
          0.3207920792079208,
          0.3207920792079208,
          0.3227722772277228,
          0.3227722772277228,
          0.3306930693069307,
          0.3306930693069307,
          0.3346534653465347,
          0.3346534653465347,
          0.3405940594059406,
          0.3405940594059406,
          0.3485148514851485,
          0.3485148514851485,
          0.3504950495049505,
          0.3504950495049505,
          0.35247524752475246,
          0.35247524752475246,
          0.35445544554455444,
          0.35445544554455444,
          0.3564356435643564,
          0.3564356435643564,
          0.3584158415841584,
          0.3584158415841584,
          0.3603960396039604,
          0.3603960396039604,
          0.36237623762376237,
          0.36237623762376237,
          0.36435643564356435,
          0.36435643564356435,
          0.36633663366336633,
          0.36633663366336633,
          0.3683168316831683,
          0.3683168316831683,
          0.3801980198019802,
          0.3801980198019802,
          0.38415841584158417,
          0.38415841584158417,
          0.3920792079207921,
          0.3920792079207921,
          0.39801980198019804,
          0.39801980198019804,
          0.403960396039604,
          0.403960396039604,
          0.4079207920792079,
          0.4079207920792079,
          0.41188118811881186,
          0.41188118811881186,
          0.41386138613861384,
          0.41386138613861384,
          0.42178217821782177,
          0.42178217821782177,
          0.42376237623762375,
          0.42376237623762375,
          0.42574257425742573,
          0.42574257425742573,
          0.4277227722772277,
          0.4277227722772277,
          0.4297029702970297,
          0.4297029702970297,
          0.4316831683168317,
          0.4316831683168317,
          0.43366336633663366,
          0.43366336633663366,
          0.4376237623762376,
          0.4376237623762376,
          0.4396039603960396,
          0.4396039603960396,
          0.44356435643564357,
          0.44356435643564357,
          0.44752475247524753,
          0.44752475247524753,
          0.4514851485148515,
          0.4514851485148515,
          0.45544554455445546,
          0.45544554455445546,
          0.4613861386138614,
          0.4613861386138614,
          0.4633663366336634,
          0.4633663366336634,
          0.46534653465346537,
          0.46534653465346537,
          0.46732673267326735,
          0.46732673267326735,
          0.47326732673267324,
          0.47326732673267324,
          0.4752475247524752,
          0.4752475247524752,
          0.4772277227722772,
          0.4772277227722772,
          0.48118811881188117,
          0.48118811881188117,
          0.48514851485148514,
          0.48514851485148514,
          0.49306930693069306,
          0.49306930693069306,
          0.49504950495049505,
          0.49504950495049505,
          0.497029702970297,
          0.497029702970297,
          0.499009900990099,
          0.499009900990099,
          0.500990099009901,
          0.500990099009901,
          0.504950495049505,
          0.504950495049505,
          0.5069306930693069,
          0.5069306930693069,
          0.5089108910891089,
          0.5089108910891089,
          0.5128712871287129,
          0.5128712871287129,
          0.5207920792079208,
          0.5207920792079208,
          0.5267326732673268,
          0.5267326732673268,
          0.5366336633663367,
          0.5366336633663367,
          0.5386138613861386,
          0.5386138613861386,
          0.5425742574257426,
          0.5425742574257426,
          0.5445544554455446,
          0.5445544554455446,
          0.5465346534653466,
          0.5465346534653466,
          0.5485148514851486,
          0.5485148514851486,
          0.5504950495049505,
          0.5504950495049505,
          0.5544554455445545,
          0.5544554455445545,
          0.5564356435643565,
          0.5564356435643565,
          0.5584158415841585,
          0.5584158415841585,
          0.5603960396039604,
          0.5603960396039604,
          0.5623762376237624,
          0.5623762376237624,
          0.5801980198019802,
          0.5801980198019802,
          0.5821782178217821,
          0.5821782178217821,
          0.592079207920792,
          0.592079207920792,
          0.598019801980198,
          0.598019801980198,
          0.601980198019802,
          0.601980198019802,
          0.6039603960396039,
          0.6039603960396039,
          0.6059405940594059,
          0.6059405940594059,
          0.6079207920792079,
          0.6079207920792079,
          0.6099009900990099,
          0.6099009900990099,
          0.6138613861386139,
          0.6138613861386139,
          0.6217821782178218,
          0.6217821782178218,
          0.6316831683168317,
          0.6316831683168317,
          0.6336633663366337,
          0.6336633663366337,
          0.6376237623762376,
          0.6376237623762376,
          0.6435643564356436,
          0.6435643564356436,
          0.6455445544554456,
          0.6455445544554456,
          0.6475247524752475,
          0.6475247524752475,
          0.6495049504950495,
          0.6495049504950495,
          0.6514851485148515,
          0.6514851485148515,
          0.6534653465346535,
          0.6534653465346535,
          0.6554455445544555,
          0.6554455445544555,
          0.6594059405940594,
          0.6594059405940594,
          0.6633663366336634,
          0.6633663366336634,
          0.6653465346534654,
          0.6653465346534654,
          0.6693069306930693,
          0.6693069306930693,
          0.6752475247524753,
          0.6752475247524753,
          0.6772277227722773,
          0.6772277227722773,
          0.6792079207920793,
          0.6792079207920793,
          0.6871287128712872,
          0.6871287128712872,
          0.689108910891089,
          0.689108910891089,
          0.693069306930693,
          0.693069306930693,
          0.695049504950495,
          0.695049504950495,
          0.700990099009901,
          0.700990099009901,
          0.7069306930693069,
          0.7069306930693069,
          0.7089108910891089,
          0.7089108910891089,
          0.7108910891089109,
          0.7108910891089109,
          0.7168316831683168,
          0.7168316831683168,
          0.7188118811881188,
          0.7188118811881188,
          0.7247524752475247,
          0.7247524752475247,
          0.7306930693069307,
          0.7306930693069307,
          0.7326732673267327,
          0.7326732673267327,
          0.7465346534653465,
          0.7465346534653465,
          0.7504950495049505,
          0.7504950495049505,
          0.7524752475247525,
          0.7524752475247525,
          0.7584158415841584,
          0.7584158415841584,
          0.7603960396039604,
          0.7603960396039604,
          0.7643564356435644,
          0.7643564356435644,
          0.7683168316831683,
          0.7683168316831683,
          0.7722772277227723,
          0.7722772277227723,
          0.7742574257425743,
          0.7742574257425743,
          0.7762376237623763,
          0.7762376237623763,
          0.7782178217821782,
          0.7782178217821782,
          0.7821782178217822,
          0.7821782178217822,
          0.7841584158415842,
          0.7841584158415842,
          0.7861386138613862,
          0.7861386138613862,
          0.7881188118811882,
          0.7881188118811882,
          0.7940594059405941,
          0.7940594059405941,
          0.7960396039603961,
          0.7960396039603961,
          0.7980198019801981,
          0.7980198019801981,
          0.801980198019802,
          0.801980198019802,
          0.803960396039604,
          0.803960396039604,
          0.805940594059406,
          0.805940594059406,
          0.807920792079208,
          0.807920792079208,
          0.80990099009901,
          0.80990099009901,
          0.8138613861386138,
          0.8138613861386138,
          0.8178217821782178,
          0.8178217821782178,
          0.8198019801980198,
          0.8198019801980198,
          0.8217821782178217,
          0.8217821782178217,
          0.8237623762376237,
          0.8237623762376237,
          0.8297029702970297,
          0.8297029702970297,
          0.8316831683168316,
          0.8316831683168316,
          0.8356435643564356,
          0.8356435643564356,
          0.8376237623762376,
          0.8376237623762376,
          0.8396039603960396,
          0.8396039603960396,
          0.8495049504950495,
          0.8495049504950495,
          0.8514851485148515,
          0.8514851485148515,
          0.8534653465346534,
          0.8534653465346534,
          0.8574257425742574,
          0.8574257425742574,
          0.8653465346534653,
          0.8653465346534653,
          0.8693069306930693,
          0.8693069306930693,
          0.8712871287128713,
          0.8712871287128713,
          0.8732673267326733,
          0.8732673267326733,
          0.8772277227722772,
          0.8772277227722772,
          0.8811881188118812,
          0.8811881188118812,
          0.8851485148514852,
          0.8851485148514852,
          0.8871287128712871,
          0.8871287128712871,
          0.8891089108910891,
          0.8891089108910891,
          0.904950495049505,
          0.904950495049505,
          0.906930693069307,
          0.906930693069307,
          0.9089108910891089,
          0.9089108910891089,
          0.9128712871287129,
          0.9128712871287129,
          0.9148514851485149,
          0.9148514851485149,
          0.9168316831683169,
          0.9168316831683169,
          0.9207920792079208,
          0.9207920792079208,
          0.9247524752475248,
          0.9247524752475248,
          0.9267326732673268,
          0.9267326732673268,
          0.9287128712871288,
          0.9287128712871288,
          0.9306930693069307,
          0.9306930693069307,
          0.9326732673267327,
          0.9326732673267327,
          0.9346534653465347,
          0.9346534653465347,
          0.9386138613861386,
          0.9386138613861386,
          0.9445544554455445,
          0.9445544554455445,
          0.9524752475247524,
          0.9524752475247524,
          0.9544554455445544,
          0.9544554455445544,
          0.9584158415841584,
          0.9584158415841584,
          0.9623762376237623,
          0.9623762376237623,
          0.9643564356435643,
          0.9643564356435643,
          0.9663366336633663,
          0.9663366336633663,
          0.9683168316831683,
          0.9683168316831683,
          0.9762376237623762,
          0.9762376237623762,
          0.9782178217821782,
          0.9782178217821782,
          0.9841584158415841,
          0.9841584158415841,
          0.9920792079207921,
          0.9920792079207921,
          0.994059405940594,
          0.994059405940594,
          0.998019801980198,
          0.998019801980198,
          1
         ],
         "y": [
          0,
          0,
          0.00202020202020202,
          0.00202020202020202,
          0.00404040404040404,
          0.00404040404040404,
          0.00808080808080808,
          0.00808080808080808,
          0.010101010101010102,
          0.010101010101010102,
          0.012121212121212121,
          0.012121212121212121,
          0.014141414141414142,
          0.014141414141414142,
          0.01818181818181818,
          0.01818181818181818,
          0.022222222222222223,
          0.022222222222222223,
          0.024242424242424242,
          0.024242424242424242,
          0.026262626262626262,
          0.026262626262626262,
          0.028282828282828285,
          0.028282828282828285,
          0.030303030303030304,
          0.030303030303030304,
          0.03434343434343434,
          0.03434343434343434,
          0.03636363636363636,
          0.03636363636363636,
          0.03838383838383838,
          0.03838383838383838,
          0.04040404040404041,
          0.04040404040404041,
          0.04242424242424243,
          0.04242424242424243,
          0.044444444444444446,
          0.044444444444444446,
          0.050505050505050504,
          0.050505050505050504,
          0.052525252525252523,
          0.052525252525252523,
          0.06060606060606061,
          0.06060606060606061,
          0.06464646464646465,
          0.06464646464646465,
          0.06666666666666667,
          0.06666666666666667,
          0.0707070707070707,
          0.0707070707070707,
          0.07474747474747474,
          0.07474747474747474,
          0.08282828282828283,
          0.08282828282828283,
          0.08484848484848485,
          0.08484848484848485,
          0.09090909090909091,
          0.09090909090909091,
          0.09292929292929293,
          0.09292929292929293,
          0.09494949494949495,
          0.09494949494949495,
          0.09898989898989899,
          0.09898989898989899,
          0.10303030303030303,
          0.10303030303030303,
          0.10707070707070707,
          0.10707070707070707,
          0.11515151515151516,
          0.11515151515151516,
          0.1191919191919192,
          0.1191919191919192,
          0.12525252525252525,
          0.12525252525252525,
          0.12727272727272726,
          0.12727272727272726,
          0.1292929292929293,
          0.1292929292929293,
          0.13333333333333333,
          0.13333333333333333,
          0.13535353535353536,
          0.13535353535353536,
          0.13737373737373737,
          0.13737373737373737,
          0.1393939393939394,
          0.1393939393939394,
          0.14545454545454545,
          0.14545454545454545,
          0.14747474747474748,
          0.14747474747474748,
          0.15151515151515152,
          0.15151515151515152,
          0.16767676767676767,
          0.16767676767676767,
          0.1717171717171717,
          0.1717171717171717,
          0.17373737373737375,
          0.17373737373737375,
          0.1797979797979798,
          0.1797979797979798,
          0.18181818181818182,
          0.18181818181818182,
          0.18383838383838383,
          0.18383838383838383,
          0.18585858585858586,
          0.18585858585858586,
          0.18787878787878787,
          0.18787878787878787,
          0.1919191919191919,
          0.1919191919191919,
          0.19393939393939394,
          0.19393939393939394,
          0.19595959595959597,
          0.19595959595959597,
          0.19797979797979798,
          0.19797979797979798,
          0.20202020202020202,
          0.20202020202020202,
          0.20404040404040405,
          0.20404040404040405,
          0.20606060606060606,
          0.20606060606060606,
          0.2080808080808081,
          0.2080808080808081,
          0.2101010101010101,
          0.2101010101010101,
          0.21212121212121213,
          0.21212121212121213,
          0.21414141414141413,
          0.21414141414141413,
          0.21818181818181817,
          0.21818181818181817,
          0.2202020202020202,
          0.2202020202020202,
          0.2222222222222222,
          0.2222222222222222,
          0.22424242424242424,
          0.22424242424242424,
          0.22626262626262628,
          0.22626262626262628,
          0.23636363636363636,
          0.23636363636363636,
          0.2383838383838384,
          0.2383838383838384,
          0.2404040404040404,
          0.2404040404040404,
          0.24444444444444444,
          0.24444444444444444,
          0.24646464646464647,
          0.24646464646464647,
          0.24848484848484848,
          0.24848484848484848,
          0.25252525252525254,
          0.25252525252525254,
          0.25656565656565655,
          0.25656565656565655,
          0.2585858585858586,
          0.2585858585858586,
          0.2606060606060606,
          0.2606060606060606,
          0.26262626262626265,
          0.26262626262626265,
          0.2686868686868687,
          0.2686868686868687,
          0.2727272727272727,
          0.2727272727272727,
          0.2787878787878788,
          0.2787878787878788,
          0.2828282828282828,
          0.2828282828282828,
          0.28888888888888886,
          0.28888888888888886,
          0.29292929292929293,
          0.29292929292929293,
          0.29494949494949496,
          0.29494949494949496,
          0.30303030303030304,
          0.30303030303030304,
          0.30505050505050507,
          0.30505050505050507,
          0.30707070707070705,
          0.30707070707070705,
          0.31313131313131315,
          0.31313131313131315,
          0.3151515151515151,
          0.3151515151515151,
          0.3191919191919192,
          0.3191919191919192,
          0.32323232323232326,
          0.32323232323232326,
          0.32727272727272727,
          0.32727272727272727,
          0.3292929292929293,
          0.3292929292929293,
          0.33131313131313134,
          0.33131313131313134,
          0.3333333333333333,
          0.3333333333333333,
          0.3373737373737374,
          0.3373737373737374,
          0.3393939393939394,
          0.3393939393939394,
          0.3414141414141414,
          0.3414141414141414,
          0.3434343434343434,
          0.3434343434343434,
          0.35353535353535354,
          0.35353535353535354,
          0.3575757575757576,
          0.3575757575757576,
          0.3595959595959596,
          0.3595959595959596,
          0.3696969696969697,
          0.3696969696969697,
          0.3717171717171717,
          0.3717171717171717,
          0.37575757575757573,
          0.37575757575757573,
          0.37777777777777777,
          0.37777777777777777,
          0.3797979797979798,
          0.3797979797979798,
          0.3838383838383838,
          0.3838383838383838,
          0.3878787878787879,
          0.3878787878787879,
          0.3898989898989899,
          0.3898989898989899,
          0.39191919191919194,
          0.39191919191919194,
          0.3939393939393939,
          0.3939393939393939,
          0.39595959595959596,
          0.39595959595959596,
          0.397979797979798,
          0.397979797979798,
          0.40606060606060607,
          0.40606060606060607,
          0.4101010101010101,
          0.4101010101010101,
          0.4121212121212121,
          0.4121212121212121,
          0.4161616161616162,
          0.4161616161616162,
          0.4222222222222222,
          0.4222222222222222,
          0.4383838383838384,
          0.4383838383838384,
          0.4444444444444444,
          0.4444444444444444,
          0.4484848484848485,
          0.4484848484848485,
          0.45252525252525255,
          0.45252525252525255,
          0.46464646464646464,
          0.46464646464646464,
          0.4666666666666667,
          0.4666666666666667,
          0.4686868686868687,
          0.4686868686868687,
          0.4808080808080808,
          0.4808080808080808,
          0.4888888888888889,
          0.4888888888888889,
          0.49696969696969695,
          0.49696969696969695,
          0.503030303030303,
          0.503030303030303,
          0.5070707070707071,
          0.5070707070707071,
          0.5111111111111111,
          0.5111111111111111,
          0.5131313131313131,
          0.5131313131313131,
          0.5212121212121212,
          0.5212121212121212,
          0.5252525252525253,
          0.5252525252525253,
          0.5272727272727272,
          0.5272727272727272,
          0.5292929292929293,
          0.5292929292929293,
          0.5393939393939394,
          0.5393939393939394,
          0.5434343434343434,
          0.5434343434343434,
          0.5474747474747474,
          0.5474747474747474,
          0.5595959595959596,
          0.5595959595959596,
          0.5656565656565656,
          0.5656565656565656,
          0.5676767676767677,
          0.5676767676767677,
          0.5696969696969697,
          0.5696969696969697,
          0.5737373737373738,
          0.5737373737373738,
          0.5777777777777777,
          0.5777777777777777,
          0.5797979797979798,
          0.5797979797979798,
          0.5818181818181818,
          0.5818181818181818,
          0.5838383838383838,
          0.5838383838383838,
          0.5858585858585859,
          0.5858585858585859,
          0.5878787878787879,
          0.5878787878787879,
          0.591919191919192,
          0.591919191919192,
          0.593939393939394,
          0.593939393939394,
          0.5959595959595959,
          0.5959595959595959,
          0.597979797979798,
          0.597979797979798,
          0.602020202020202,
          0.602020202020202,
          0.604040404040404,
          0.604040404040404,
          0.6060606060606061,
          0.6060606060606061,
          0.6101010101010101,
          0.6101010101010101,
          0.6121212121212121,
          0.6121212121212121,
          0.6161616161616161,
          0.6161616161616161,
          0.6181818181818182,
          0.6181818181818182,
          0.6202020202020202,
          0.6202020202020202,
          0.6222222222222222,
          0.6222222222222222,
          0.6242424242424243,
          0.6242424242424243,
          0.6262626262626263,
          0.6262626262626263,
          0.6282828282828283,
          0.6282828282828283,
          0.6323232323232323,
          0.6323232323232323,
          0.6343434343434343,
          0.6343434343434343,
          0.6363636363636364,
          0.6363636363636364,
          0.6404040404040404,
          0.6404040404040404,
          0.6444444444444445,
          0.6444444444444445,
          0.6484848484848484,
          0.6484848484848484,
          0.6505050505050505,
          0.6505050505050505,
          0.6545454545454545,
          0.6545454545454545,
          0.6565656565656566,
          0.6565656565656566,
          0.6606060606060606,
          0.6606060606060606,
          0.6626262626262627,
          0.6626262626262627,
          0.6666666666666666,
          0.6666666666666666,
          0.6707070707070707,
          0.6707070707070707,
          0.6727272727272727,
          0.6727272727272727,
          0.6808080808080809,
          0.6808080808080809,
          0.6828282828282828,
          0.6828282828282828,
          0.6848484848484848,
          0.6848484848484848,
          0.6868686868686869,
          0.6868686868686869,
          0.692929292929293,
          0.692929292929293,
          0.694949494949495,
          0.694949494949495,
          0.701010101010101,
          0.701010101010101,
          0.703030303030303,
          0.703030303030303,
          0.7191919191919192,
          0.7191919191919192,
          0.7272727272727273,
          0.7272727272727273,
          0.7313131313131314,
          0.7313131313131314,
          0.7353535353535353,
          0.7353535353535353,
          0.7414141414141414,
          0.7414141414141414,
          0.7474747474747475,
          0.7474747474747475,
          0.7494949494949495,
          0.7494949494949495,
          0.7535353535353535,
          0.7535353535353535,
          0.7555555555555555,
          0.7555555555555555,
          0.7575757575757576,
          0.7575757575757576,
          0.7616161616161616,
          0.7616161616161616,
          0.7636363636363637,
          0.7636363636363637,
          0.7676767676767676,
          0.7676767676767676,
          0.7777777777777778,
          0.7777777777777778,
          0.7838383838383839,
          0.7838383838383839,
          0.7858585858585858,
          0.7858585858585858,
          0.7878787878787878,
          0.7878787878787878,
          0.7919191919191919,
          0.7919191919191919,
          0.797979797979798,
          0.797979797979798,
          0.802020202020202,
          0.802020202020202,
          0.806060606060606,
          0.806060606060606,
          0.8080808080808081,
          0.8080808080808081,
          0.8101010101010101,
          0.8101010101010101,
          0.8141414141414142,
          0.8141414141414142,
          0.8161616161616162,
          0.8161616161616162,
          0.8202020202020202,
          0.8202020202020202,
          0.8242424242424242,
          0.8242424242424242,
          0.8282828282828283,
          0.8282828282828283,
          0.8303030303030303,
          0.8303030303030303,
          0.8383838383838383,
          0.8383838383838383,
          0.8404040404040404,
          0.8404040404040404,
          0.8444444444444444,
          0.8444444444444444,
          0.8545454545454545,
          0.8545454545454545,
          0.8606060606060606,
          0.8606060606060606,
          0.8626262626262626,
          0.8626262626262626,
          0.8646464646464647,
          0.8646464646464647,
          0.8666666666666667,
          0.8666666666666667,
          0.8707070707070707,
          0.8707070707070707,
          0.8767676767676768,
          0.8767676767676768,
          0.8888888888888888,
          0.8888888888888888,
          0.8909090909090909,
          0.8909090909090909,
          0.896969696969697,
          0.896969696969697,
          0.898989898989899,
          0.898989898989899,
          0.901010101010101,
          0.901010101010101,
          0.9030303030303031,
          0.9030303030303031,
          0.9050505050505051,
          0.9050505050505051,
          0.907070707070707,
          0.907070707070707,
          0.9111111111111111,
          0.9111111111111111,
          0.9151515151515152,
          0.9151515151515152,
          0.9232323232323232,
          0.9232323232323232,
          0.9353535353535354,
          0.9353535353535354,
          0.9393939393939394,
          0.9393939393939394,
          0.9575757575757575,
          0.9575757575757575,
          0.9595959595959596,
          0.9595959595959596,
          0.9636363636363636,
          0.9636363636363636,
          0.9676767676767677,
          0.9676767676767677,
          0.9696969696969697,
          0.9696969696969697,
          0.9737373737373738,
          0.9737373737373738,
          0.9757575757575757,
          0.9757575757575757,
          0.9777777777777777,
          0.9777777777777777,
          0.9818181818181818,
          0.9818181818181818,
          0.9838383838383838,
          0.9838383838383838,
          0.9858585858585859,
          0.9858585858585859,
          0.9878787878787879,
          0.9878787878787879,
          0.9939393939393939,
          0.9939393939393939,
          1,
          1
         ]
        },
        {
         "mode": "lines",
         "name": "Random",
         "type": "scatter",
         "x": [
          0,
          1
         ],
         "y": [
          0,
          1
         ]
        }
       ],
       "layout": {
        "template": {
         "data": {
          "bar": [
           {
            "error_x": {
             "color": "#2a3f5f"
            },
            "error_y": {
             "color": "#2a3f5f"
            },
            "marker": {
             "line": {
              "color": "#E5ECF6",
              "width": 0.5
             },
             "pattern": {
              "fillmode": "overlay",
              "size": 10,
              "solidity": 0.2
             }
            },
            "type": "bar"
           }
          ],
          "barpolar": [
           {
            "marker": {
             "line": {
              "color": "#E5ECF6",
              "width": 0.5
             },
             "pattern": {
              "fillmode": "overlay",
              "size": 10,
              "solidity": 0.2
             }
            },
            "type": "barpolar"
           }
          ],
          "carpet": [
           {
            "aaxis": {
             "endlinecolor": "#2a3f5f",
             "gridcolor": "white",
             "linecolor": "white",
             "minorgridcolor": "white",
             "startlinecolor": "#2a3f5f"
            },
            "baxis": {
             "endlinecolor": "#2a3f5f",
             "gridcolor": "white",
             "linecolor": "white",
             "minorgridcolor": "white",
             "startlinecolor": "#2a3f5f"
            },
            "type": "carpet"
           }
          ],
          "choropleth": [
           {
            "colorbar": {
             "outlinewidth": 0,
             "ticks": ""
            },
            "type": "choropleth"
           }
          ],
          "contour": [
           {
            "colorbar": {
             "outlinewidth": 0,
             "ticks": ""
            },
            "colorscale": [
             [
              0,
              "#0d0887"
             ],
             [
              0.1111111111111111,
              "#46039f"
             ],
             [
              0.2222222222222222,
              "#7201a8"
             ],
             [
              0.3333333333333333,
              "#9c179e"
             ],
             [
              0.4444444444444444,
              "#bd3786"
             ],
             [
              0.5555555555555556,
              "#d8576b"
             ],
             [
              0.6666666666666666,
              "#ed7953"
             ],
             [
              0.7777777777777778,
              "#fb9f3a"
             ],
             [
              0.8888888888888888,
              "#fdca26"
             ],
             [
              1,
              "#f0f921"
             ]
            ],
            "type": "contour"
           }
          ],
          "contourcarpet": [
           {
            "colorbar": {
             "outlinewidth": 0,
             "ticks": ""
            },
            "type": "contourcarpet"
           }
          ],
          "heatmap": [
           {
            "colorbar": {
             "outlinewidth": 0,
             "ticks": ""
            },
            "colorscale": [
             [
              0,
              "#0d0887"
             ],
             [
              0.1111111111111111,
              "#46039f"
             ],
             [
              0.2222222222222222,
              "#7201a8"
             ],
             [
              0.3333333333333333,
              "#9c179e"
             ],
             [
              0.4444444444444444,
              "#bd3786"
             ],
             [
              0.5555555555555556,
              "#d8576b"
             ],
             [
              0.6666666666666666,
              "#ed7953"
             ],
             [
              0.7777777777777778,
              "#fb9f3a"
             ],
             [
              0.8888888888888888,
              "#fdca26"
             ],
             [
              1,
              "#f0f921"
             ]
            ],
            "type": "heatmap"
           }
          ],
          "heatmapgl": [
           {
            "colorbar": {
             "outlinewidth": 0,
             "ticks": ""
            },
            "colorscale": [
             [
              0,
              "#0d0887"
             ],
             [
              0.1111111111111111,
              "#46039f"
             ],
             [
              0.2222222222222222,
              "#7201a8"
             ],
             [
              0.3333333333333333,
              "#9c179e"
             ],
             [
              0.4444444444444444,
              "#bd3786"
             ],
             [
              0.5555555555555556,
              "#d8576b"
             ],
             [
              0.6666666666666666,
              "#ed7953"
             ],
             [
              0.7777777777777778,
              "#fb9f3a"
             ],
             [
              0.8888888888888888,
              "#fdca26"
             ],
             [
              1,
              "#f0f921"
             ]
            ],
            "type": "heatmapgl"
           }
          ],
          "histogram": [
           {
            "marker": {
             "pattern": {
              "fillmode": "overlay",
              "size": 10,
              "solidity": 0.2
             }
            },
            "type": "histogram"
           }
          ],
          "histogram2d": [
           {
            "colorbar": {
             "outlinewidth": 0,
             "ticks": ""
            },
            "colorscale": [
             [
              0,
              "#0d0887"
             ],
             [
              0.1111111111111111,
              "#46039f"
             ],
             [
              0.2222222222222222,
              "#7201a8"
             ],
             [
              0.3333333333333333,
              "#9c179e"
             ],
             [
              0.4444444444444444,
              "#bd3786"
             ],
             [
              0.5555555555555556,
              "#d8576b"
             ],
             [
              0.6666666666666666,
              "#ed7953"
             ],
             [
              0.7777777777777778,
              "#fb9f3a"
             ],
             [
              0.8888888888888888,
              "#fdca26"
             ],
             [
              1,
              "#f0f921"
             ]
            ],
            "type": "histogram2d"
           }
          ],
          "histogram2dcontour": [
           {
            "colorbar": {
             "outlinewidth": 0,
             "ticks": ""
            },
            "colorscale": [
             [
              0,
              "#0d0887"
             ],
             [
              0.1111111111111111,
              "#46039f"
             ],
             [
              0.2222222222222222,
              "#7201a8"
             ],
             [
              0.3333333333333333,
              "#9c179e"
             ],
             [
              0.4444444444444444,
              "#bd3786"
             ],
             [
              0.5555555555555556,
              "#d8576b"
             ],
             [
              0.6666666666666666,
              "#ed7953"
             ],
             [
              0.7777777777777778,
              "#fb9f3a"
             ],
             [
              0.8888888888888888,
              "#fdca26"
             ],
             [
              1,
              "#f0f921"
             ]
            ],
            "type": "histogram2dcontour"
           }
          ],
          "mesh3d": [
           {
            "colorbar": {
             "outlinewidth": 0,
             "ticks": ""
            },
            "type": "mesh3d"
           }
          ],
          "parcoords": [
           {
            "line": {
             "colorbar": {
              "outlinewidth": 0,
              "ticks": ""
             }
            },
            "type": "parcoords"
           }
          ],
          "pie": [
           {
            "automargin": true,
            "type": "pie"
           }
          ],
          "scatter": [
           {
            "fillpattern": {
             "fillmode": "overlay",
             "size": 10,
             "solidity": 0.2
            },
            "type": "scatter"
           }
          ],
          "scatter3d": [
           {
            "line": {
             "colorbar": {
              "outlinewidth": 0,
              "ticks": ""
             }
            },
            "marker": {
             "colorbar": {
              "outlinewidth": 0,
              "ticks": ""
             }
            },
            "type": "scatter3d"
           }
          ],
          "scattercarpet": [
           {
            "marker": {
             "colorbar": {
              "outlinewidth": 0,
              "ticks": ""
             }
            },
            "type": "scattercarpet"
           }
          ],
          "scattergeo": [
           {
            "marker": {
             "colorbar": {
              "outlinewidth": 0,
              "ticks": ""
             }
            },
            "type": "scattergeo"
           }
          ],
          "scattergl": [
           {
            "marker": {
             "colorbar": {
              "outlinewidth": 0,
              "ticks": ""
             }
            },
            "type": "scattergl"
           }
          ],
          "scattermapbox": [
           {
            "marker": {
             "colorbar": {
              "outlinewidth": 0,
              "ticks": ""
             }
            },
            "type": "scattermapbox"
           }
          ],
          "scatterpolar": [
           {
            "marker": {
             "colorbar": {
              "outlinewidth": 0,
              "ticks": ""
             }
            },
            "type": "scatterpolar"
           }
          ],
          "scatterpolargl": [
           {
            "marker": {
             "colorbar": {
              "outlinewidth": 0,
              "ticks": ""
             }
            },
            "type": "scatterpolargl"
           }
          ],
          "scatterternary": [
           {
            "marker": {
             "colorbar": {
              "outlinewidth": 0,
              "ticks": ""
             }
            },
            "type": "scatterternary"
           }
          ],
          "surface": [
           {
            "colorbar": {
             "outlinewidth": 0,
             "ticks": ""
            },
            "colorscale": [
             [
              0,
              "#0d0887"
             ],
             [
              0.1111111111111111,
              "#46039f"
             ],
             [
              0.2222222222222222,
              "#7201a8"
             ],
             [
              0.3333333333333333,
              "#9c179e"
             ],
             [
              0.4444444444444444,
              "#bd3786"
             ],
             [
              0.5555555555555556,
              "#d8576b"
             ],
             [
              0.6666666666666666,
              "#ed7953"
             ],
             [
              0.7777777777777778,
              "#fb9f3a"
             ],
             [
              0.8888888888888888,
              "#fdca26"
             ],
             [
              1,
              "#f0f921"
             ]
            ],
            "type": "surface"
           }
          ],
          "table": [
           {
            "cells": {
             "fill": {
              "color": "#EBF0F8"
             },
             "line": {
              "color": "white"
             }
            },
            "header": {
             "fill": {
              "color": "#C8D4E3"
             },
             "line": {
              "color": "white"
             }
            },
            "type": "table"
           }
          ]
         },
         "layout": {
          "annotationdefaults": {
           "arrowcolor": "#2a3f5f",
           "arrowhead": 0,
           "arrowwidth": 1
          },
          "autotypenumbers": "strict",
          "coloraxis": {
           "colorbar": {
            "outlinewidth": 0,
            "ticks": ""
           }
          },
          "colorscale": {
           "diverging": [
            [
             0,
             "#8e0152"
            ],
            [
             0.1,
             "#c51b7d"
            ],
            [
             0.2,
             "#de77ae"
            ],
            [
             0.3,
             "#f1b6da"
            ],
            [
             0.4,
             "#fde0ef"
            ],
            [
             0.5,
             "#f7f7f7"
            ],
            [
             0.6,
             "#e6f5d0"
            ],
            [
             0.7,
             "#b8e186"
            ],
            [
             0.8,
             "#7fbc41"
            ],
            [
             0.9,
             "#4d9221"
            ],
            [
             1,
             "#276419"
            ]
           ],
           "sequential": [
            [
             0,
             "#0d0887"
            ],
            [
             0.1111111111111111,
             "#46039f"
            ],
            [
             0.2222222222222222,
             "#7201a8"
            ],
            [
             0.3333333333333333,
             "#9c179e"
            ],
            [
             0.4444444444444444,
             "#bd3786"
            ],
            [
             0.5555555555555556,
             "#d8576b"
            ],
            [
             0.6666666666666666,
             "#ed7953"
            ],
            [
             0.7777777777777778,
             "#fb9f3a"
            ],
            [
             0.8888888888888888,
             "#fdca26"
            ],
            [
             1,
             "#f0f921"
            ]
           ],
           "sequentialminus": [
            [
             0,
             "#0d0887"
            ],
            [
             0.1111111111111111,
             "#46039f"
            ],
            [
             0.2222222222222222,
             "#7201a8"
            ],
            [
             0.3333333333333333,
             "#9c179e"
            ],
            [
             0.4444444444444444,
             "#bd3786"
            ],
            [
             0.5555555555555556,
             "#d8576b"
            ],
            [
             0.6666666666666666,
             "#ed7953"
            ],
            [
             0.7777777777777778,
             "#fb9f3a"
            ],
            [
             0.8888888888888888,
             "#fdca26"
            ],
            [
             1,
             "#f0f921"
            ]
           ]
          },
          "colorway": [
           "#636efa",
           "#EF553B",
           "#00cc96",
           "#ab63fa",
           "#FFA15A",
           "#19d3f3",
           "#FF6692",
           "#B6E880",
           "#FF97FF",
           "#FECB52"
          ],
          "font": {
           "color": "#2a3f5f"
          },
          "geo": {
           "bgcolor": "white",
           "lakecolor": "white",
           "landcolor": "#E5ECF6",
           "showlakes": true,
           "showland": true,
           "subunitcolor": "white"
          },
          "hoverlabel": {
           "align": "left"
          },
          "hovermode": "closest",
          "mapbox": {
           "style": "light"
          },
          "paper_bgcolor": "white",
          "plot_bgcolor": "#E5ECF6",
          "polar": {
           "angularaxis": {
            "gridcolor": "white",
            "linecolor": "white",
            "ticks": ""
           },
           "bgcolor": "#E5ECF6",
           "radialaxis": {
            "gridcolor": "white",
            "linecolor": "white",
            "ticks": ""
           }
          },
          "scene": {
           "xaxis": {
            "backgroundcolor": "#E5ECF6",
            "gridcolor": "white",
            "gridwidth": 2,
            "linecolor": "white",
            "showbackground": true,
            "ticks": "",
            "zerolinecolor": "white"
           },
           "yaxis": {
            "backgroundcolor": "#E5ECF6",
            "gridcolor": "white",
            "gridwidth": 2,
            "linecolor": "white",
            "showbackground": true,
            "ticks": "",
            "zerolinecolor": "white"
           },
           "zaxis": {
            "backgroundcolor": "#E5ECF6",
            "gridcolor": "white",
            "gridwidth": 2,
            "linecolor": "white",
            "showbackground": true,
            "ticks": "",
            "zerolinecolor": "white"
           }
          },
          "shapedefaults": {
           "line": {
            "color": "#2a3f5f"
           }
          },
          "ternary": {
           "aaxis": {
            "gridcolor": "white",
            "linecolor": "white",
            "ticks": ""
           },
           "baxis": {
            "gridcolor": "white",
            "linecolor": "white",
            "ticks": ""
           },
           "bgcolor": "#E5ECF6",
           "caxis": {
            "gridcolor": "white",
            "linecolor": "white",
            "ticks": ""
           }
          },
          "title": {
           "x": 0.05
          },
          "xaxis": {
           "automargin": true,
           "gridcolor": "white",
           "linecolor": "white",
           "ticks": "",
           "title": {
            "standoff": 15
           },
           "zerolinecolor": "white",
           "zerolinewidth": 2
          },
          "yaxis": {
           "automargin": true,
           "gridcolor": "white",
           "linecolor": "white",
           "ticks": "",
           "title": {
            "standoff": 15
           },
           "zerolinecolor": "white",
           "zerolinewidth": 2
          }
         }
        }
       }
      },
      "text/html": [
       "<div>                            <div id=\"bddec1c9-8c5d-487b-9219-6d27b4f1baa4\" class=\"plotly-graph-div\" style=\"height:525px; width:100%;\"></div>            <script type=\"text/javascript\">                require([\"plotly\"], function(Plotly) {                    window.PLOTLYENV=window.PLOTLYENV || {};                                    if (document.getElementById(\"bddec1c9-8c5d-487b-9219-6d27b4f1baa4\")) {                    Plotly.newPlot(                        \"bddec1c9-8c5d-487b-9219-6d27b4f1baa4\",                        [{\"mode\":\"lines\",\"name\":\"ROC\",\"x\":[0.0,0.0019801980198019802,0.0019801980198019802,0.005940594059405941,0.005940594059405941,0.007920792079207921,0.007920792079207921,0.023762376237623763,0.023762376237623763,0.02574257425742574,0.02574257425742574,0.031683168316831684,0.031683168316831684,0.033663366336633666,0.033663366336633666,0.03564356435643564,0.03564356435643564,0.03762376237623762,0.03762376237623762,0.039603960396039604,0.039603960396039604,0.04356435643564356,0.04356435643564356,0.053465346534653464,0.053465346534653464,0.055445544554455446,0.055445544554455446,0.0594059405940594,0.0594059405940594,0.06336633663366337,0.06336633663366337,0.06534653465346535,0.06534653465346535,0.07722772277227723,0.07722772277227723,0.07920792079207921,0.07920792079207921,0.08316831683168317,0.08316831683168317,0.08712871287128712,0.08712871287128712,0.09900990099009901,0.09900990099009901,0.10297029702970296,0.10297029702970296,0.10495049504950495,0.10495049504950495,0.11089108910891089,0.11089108910891089,0.11287128712871287,0.11287128712871287,0.11485148514851486,0.11485148514851486,0.11683168316831684,0.11683168316831684,0.1188118811881188,0.1188118811881188,0.12475247524752475,0.12475247524752475,0.12871287128712872,0.12871287128712872,0.1306930693069307,0.1306930693069307,0.13267326732673268,0.13267326732673268,0.13465346534653466,0.13465346534653466,0.14257425742574256,0.14257425742574256,0.14455445544554454,0.14455445544554454,0.14653465346534653,0.14653465346534653,0.1485148514851485,0.1485148514851485,0.1504950495049505,0.1504950495049505,0.15445544554455445,0.15445544554455445,0.15643564356435644,0.15643564356435644,0.15841584158415842,0.15841584158415842,0.16237623762376238,0.16237623762376238,0.16633663366336635,0.16633663366336635,0.16831683168316833,0.16831683168316833,0.17425742574257425,0.17425742574257425,0.17623762376237623,0.17623762376237623,0.1782178217821782,0.1782178217821782,0.18217821782178217,0.18217821782178217,0.18613861386138614,0.18613861386138614,0.201980198019802,0.201980198019802,0.2079207920792079,0.2079207920792079,0.21386138613861386,0.21386138613861386,0.21782178217821782,0.21782178217821782,0.2198019801980198,0.2198019801980198,0.22376237623762377,0.22376237623762377,0.2297029702970297,0.2297029702970297,0.2316831683168317,0.2316831683168317,0.2376237623762376,0.2376237623762376,0.2396039603960396,0.2396039603960396,0.2514851485148515,0.2514851485148515,0.25346534653465347,0.25346534653465347,0.25544554455445545,0.25544554455445545,0.27722772277227725,0.27722772277227725,0.2871287128712871,0.2871287128712871,0.2891089108910891,0.2891089108910891,0.29108910891089107,0.29108910891089107,0.29306930693069305,0.29306930693069305,0.29504950495049503,0.29504950495049503,0.300990099009901,0.300990099009901,0.30297029702970296,0.30297029702970296,0.3069306930693069,0.3069306930693069,0.31287128712871287,0.31287128712871287,0.31485148514851485,0.31485148514851485,0.31683168316831684,0.31683168316831684,0.3207920792079208,0.3207920792079208,0.3227722772277228,0.3227722772277228,0.3306930693069307,0.3306930693069307,0.3346534653465347,0.3346534653465347,0.3405940594059406,0.3405940594059406,0.3485148514851485,0.3485148514851485,0.3504950495049505,0.3504950495049505,0.35247524752475246,0.35247524752475246,0.35445544554455444,0.35445544554455444,0.3564356435643564,0.3564356435643564,0.3584158415841584,0.3584158415841584,0.3603960396039604,0.3603960396039604,0.36237623762376237,0.36237623762376237,0.36435643564356435,0.36435643564356435,0.36633663366336633,0.36633663366336633,0.3683168316831683,0.3683168316831683,0.3801980198019802,0.3801980198019802,0.38415841584158417,0.38415841584158417,0.3920792079207921,0.3920792079207921,0.39801980198019804,0.39801980198019804,0.403960396039604,0.403960396039604,0.4079207920792079,0.4079207920792079,0.41188118811881186,0.41188118811881186,0.41386138613861384,0.41386138613861384,0.42178217821782177,0.42178217821782177,0.42376237623762375,0.42376237623762375,0.42574257425742573,0.42574257425742573,0.4277227722772277,0.4277227722772277,0.4297029702970297,0.4297029702970297,0.4316831683168317,0.4316831683168317,0.43366336633663366,0.43366336633663366,0.4376237623762376,0.4376237623762376,0.4396039603960396,0.4396039603960396,0.44356435643564357,0.44356435643564357,0.44752475247524753,0.44752475247524753,0.4514851485148515,0.4514851485148515,0.45544554455445546,0.45544554455445546,0.4613861386138614,0.4613861386138614,0.4633663366336634,0.4633663366336634,0.46534653465346537,0.46534653465346537,0.46732673267326735,0.46732673267326735,0.47326732673267324,0.47326732673267324,0.4752475247524752,0.4752475247524752,0.4772277227722772,0.4772277227722772,0.48118811881188117,0.48118811881188117,0.48514851485148514,0.48514851485148514,0.49306930693069306,0.49306930693069306,0.49504950495049505,0.49504950495049505,0.497029702970297,0.497029702970297,0.499009900990099,0.499009900990099,0.500990099009901,0.500990099009901,0.504950495049505,0.504950495049505,0.5069306930693069,0.5069306930693069,0.5089108910891089,0.5089108910891089,0.5128712871287129,0.5128712871287129,0.5207920792079208,0.5207920792079208,0.5267326732673268,0.5267326732673268,0.5366336633663367,0.5366336633663367,0.5386138613861386,0.5386138613861386,0.5425742574257426,0.5425742574257426,0.5445544554455446,0.5445544554455446,0.5465346534653466,0.5465346534653466,0.5485148514851486,0.5485148514851486,0.5504950495049505,0.5504950495049505,0.5544554455445545,0.5544554455445545,0.5564356435643565,0.5564356435643565,0.5584158415841585,0.5584158415841585,0.5603960396039604,0.5603960396039604,0.5623762376237624,0.5623762376237624,0.5801980198019802,0.5801980198019802,0.5821782178217821,0.5821782178217821,0.592079207920792,0.592079207920792,0.598019801980198,0.598019801980198,0.601980198019802,0.601980198019802,0.6039603960396039,0.6039603960396039,0.6059405940594059,0.6059405940594059,0.6079207920792079,0.6079207920792079,0.6099009900990099,0.6099009900990099,0.6138613861386139,0.6138613861386139,0.6217821782178218,0.6217821782178218,0.6316831683168317,0.6316831683168317,0.6336633663366337,0.6336633663366337,0.6376237623762376,0.6376237623762376,0.6435643564356436,0.6435643564356436,0.6455445544554456,0.6455445544554456,0.6475247524752475,0.6475247524752475,0.6495049504950495,0.6495049504950495,0.6514851485148515,0.6514851485148515,0.6534653465346535,0.6534653465346535,0.6554455445544555,0.6554455445544555,0.6594059405940594,0.6594059405940594,0.6633663366336634,0.6633663366336634,0.6653465346534654,0.6653465346534654,0.6693069306930693,0.6693069306930693,0.6752475247524753,0.6752475247524753,0.6772277227722773,0.6772277227722773,0.6792079207920793,0.6792079207920793,0.6871287128712872,0.6871287128712872,0.689108910891089,0.689108910891089,0.693069306930693,0.693069306930693,0.695049504950495,0.695049504950495,0.700990099009901,0.700990099009901,0.7069306930693069,0.7069306930693069,0.7089108910891089,0.7089108910891089,0.7108910891089109,0.7108910891089109,0.7168316831683168,0.7168316831683168,0.7188118811881188,0.7188118811881188,0.7247524752475247,0.7247524752475247,0.7306930693069307,0.7306930693069307,0.7326732673267327,0.7326732673267327,0.7465346534653465,0.7465346534653465,0.7504950495049505,0.7504950495049505,0.7524752475247525,0.7524752475247525,0.7584158415841584,0.7584158415841584,0.7603960396039604,0.7603960396039604,0.7643564356435644,0.7643564356435644,0.7683168316831683,0.7683168316831683,0.7722772277227723,0.7722772277227723,0.7742574257425743,0.7742574257425743,0.7762376237623763,0.7762376237623763,0.7782178217821782,0.7782178217821782,0.7821782178217822,0.7821782178217822,0.7841584158415842,0.7841584158415842,0.7861386138613862,0.7861386138613862,0.7881188118811882,0.7881188118811882,0.7940594059405941,0.7940594059405941,0.7960396039603961,0.7960396039603961,0.7980198019801981,0.7980198019801981,0.801980198019802,0.801980198019802,0.803960396039604,0.803960396039604,0.805940594059406,0.805940594059406,0.807920792079208,0.807920792079208,0.80990099009901,0.80990099009901,0.8138613861386138,0.8138613861386138,0.8178217821782178,0.8178217821782178,0.8198019801980198,0.8198019801980198,0.8217821782178217,0.8217821782178217,0.8237623762376237,0.8237623762376237,0.8297029702970297,0.8297029702970297,0.8316831683168316,0.8316831683168316,0.8356435643564356,0.8356435643564356,0.8376237623762376,0.8376237623762376,0.8396039603960396,0.8396039603960396,0.8495049504950495,0.8495049504950495,0.8514851485148515,0.8514851485148515,0.8534653465346534,0.8534653465346534,0.8574257425742574,0.8574257425742574,0.8653465346534653,0.8653465346534653,0.8693069306930693,0.8693069306930693,0.8712871287128713,0.8712871287128713,0.8732673267326733,0.8732673267326733,0.8772277227722772,0.8772277227722772,0.8811881188118812,0.8811881188118812,0.8851485148514852,0.8851485148514852,0.8871287128712871,0.8871287128712871,0.8891089108910891,0.8891089108910891,0.904950495049505,0.904950495049505,0.906930693069307,0.906930693069307,0.9089108910891089,0.9089108910891089,0.9128712871287129,0.9128712871287129,0.9148514851485149,0.9148514851485149,0.9168316831683169,0.9168316831683169,0.9207920792079208,0.9207920792079208,0.9247524752475248,0.9247524752475248,0.9267326732673268,0.9267326732673268,0.9287128712871288,0.9287128712871288,0.9306930693069307,0.9306930693069307,0.9326732673267327,0.9326732673267327,0.9346534653465347,0.9346534653465347,0.9386138613861386,0.9386138613861386,0.9445544554455445,0.9445544554455445,0.9524752475247524,0.9524752475247524,0.9544554455445544,0.9544554455445544,0.9584158415841584,0.9584158415841584,0.9623762376237623,0.9623762376237623,0.9643564356435643,0.9643564356435643,0.9663366336633663,0.9663366336633663,0.9683168316831683,0.9683168316831683,0.9762376237623762,0.9762376237623762,0.9782178217821782,0.9782178217821782,0.9841584158415841,0.9841584158415841,0.9920792079207921,0.9920792079207921,0.994059405940594,0.994059405940594,0.998019801980198,0.998019801980198,1.0],\"y\":[0.0,0.0,0.00202020202020202,0.00202020202020202,0.00404040404040404,0.00404040404040404,0.00808080808080808,0.00808080808080808,0.010101010101010102,0.010101010101010102,0.012121212121212121,0.012121212121212121,0.014141414141414142,0.014141414141414142,0.01818181818181818,0.01818181818181818,0.022222222222222223,0.022222222222222223,0.024242424242424242,0.024242424242424242,0.026262626262626262,0.026262626262626262,0.028282828282828285,0.028282828282828285,0.030303030303030304,0.030303030303030304,0.03434343434343434,0.03434343434343434,0.03636363636363636,0.03636363636363636,0.03838383838383838,0.03838383838383838,0.04040404040404041,0.04040404040404041,0.04242424242424243,0.04242424242424243,0.044444444444444446,0.044444444444444446,0.050505050505050504,0.050505050505050504,0.052525252525252523,0.052525252525252523,0.06060606060606061,0.06060606060606061,0.06464646464646465,0.06464646464646465,0.06666666666666667,0.06666666666666667,0.0707070707070707,0.0707070707070707,0.07474747474747474,0.07474747474747474,0.08282828282828283,0.08282828282828283,0.08484848484848485,0.08484848484848485,0.09090909090909091,0.09090909090909091,0.09292929292929293,0.09292929292929293,0.09494949494949495,0.09494949494949495,0.09898989898989899,0.09898989898989899,0.10303030303030303,0.10303030303030303,0.10707070707070707,0.10707070707070707,0.11515151515151516,0.11515151515151516,0.1191919191919192,0.1191919191919192,0.12525252525252525,0.12525252525252525,0.12727272727272726,0.12727272727272726,0.1292929292929293,0.1292929292929293,0.13333333333333333,0.13333333333333333,0.13535353535353536,0.13535353535353536,0.13737373737373737,0.13737373737373737,0.1393939393939394,0.1393939393939394,0.14545454545454545,0.14545454545454545,0.14747474747474748,0.14747474747474748,0.15151515151515152,0.15151515151515152,0.16767676767676767,0.16767676767676767,0.1717171717171717,0.1717171717171717,0.17373737373737375,0.17373737373737375,0.1797979797979798,0.1797979797979798,0.18181818181818182,0.18181818181818182,0.18383838383838383,0.18383838383838383,0.18585858585858586,0.18585858585858586,0.18787878787878787,0.18787878787878787,0.1919191919191919,0.1919191919191919,0.19393939393939394,0.19393939393939394,0.19595959595959597,0.19595959595959597,0.19797979797979798,0.19797979797979798,0.20202020202020202,0.20202020202020202,0.20404040404040405,0.20404040404040405,0.20606060606060606,0.20606060606060606,0.2080808080808081,0.2080808080808081,0.2101010101010101,0.2101010101010101,0.21212121212121213,0.21212121212121213,0.21414141414141413,0.21414141414141413,0.21818181818181817,0.21818181818181817,0.2202020202020202,0.2202020202020202,0.2222222222222222,0.2222222222222222,0.22424242424242424,0.22424242424242424,0.22626262626262628,0.22626262626262628,0.23636363636363636,0.23636363636363636,0.2383838383838384,0.2383838383838384,0.2404040404040404,0.2404040404040404,0.24444444444444444,0.24444444444444444,0.24646464646464647,0.24646464646464647,0.24848484848484848,0.24848484848484848,0.25252525252525254,0.25252525252525254,0.25656565656565655,0.25656565656565655,0.2585858585858586,0.2585858585858586,0.2606060606060606,0.2606060606060606,0.26262626262626265,0.26262626262626265,0.2686868686868687,0.2686868686868687,0.2727272727272727,0.2727272727272727,0.2787878787878788,0.2787878787878788,0.2828282828282828,0.2828282828282828,0.28888888888888886,0.28888888888888886,0.29292929292929293,0.29292929292929293,0.29494949494949496,0.29494949494949496,0.30303030303030304,0.30303030303030304,0.30505050505050507,0.30505050505050507,0.30707070707070705,0.30707070707070705,0.31313131313131315,0.31313131313131315,0.3151515151515151,0.3151515151515151,0.3191919191919192,0.3191919191919192,0.32323232323232326,0.32323232323232326,0.32727272727272727,0.32727272727272727,0.3292929292929293,0.3292929292929293,0.33131313131313134,0.33131313131313134,0.3333333333333333,0.3333333333333333,0.3373737373737374,0.3373737373737374,0.3393939393939394,0.3393939393939394,0.3414141414141414,0.3414141414141414,0.3434343434343434,0.3434343434343434,0.35353535353535354,0.35353535353535354,0.3575757575757576,0.3575757575757576,0.3595959595959596,0.3595959595959596,0.3696969696969697,0.3696969696969697,0.3717171717171717,0.3717171717171717,0.37575757575757573,0.37575757575757573,0.37777777777777777,0.37777777777777777,0.3797979797979798,0.3797979797979798,0.3838383838383838,0.3838383838383838,0.3878787878787879,0.3878787878787879,0.3898989898989899,0.3898989898989899,0.39191919191919194,0.39191919191919194,0.3939393939393939,0.3939393939393939,0.39595959595959596,0.39595959595959596,0.397979797979798,0.397979797979798,0.40606060606060607,0.40606060606060607,0.4101010101010101,0.4101010101010101,0.4121212121212121,0.4121212121212121,0.4161616161616162,0.4161616161616162,0.4222222222222222,0.4222222222222222,0.4383838383838384,0.4383838383838384,0.4444444444444444,0.4444444444444444,0.4484848484848485,0.4484848484848485,0.45252525252525255,0.45252525252525255,0.46464646464646464,0.46464646464646464,0.4666666666666667,0.4666666666666667,0.4686868686868687,0.4686868686868687,0.4808080808080808,0.4808080808080808,0.4888888888888889,0.4888888888888889,0.49696969696969695,0.49696969696969695,0.503030303030303,0.503030303030303,0.5070707070707071,0.5070707070707071,0.5111111111111111,0.5111111111111111,0.5131313131313131,0.5131313131313131,0.5212121212121212,0.5212121212121212,0.5252525252525253,0.5252525252525253,0.5272727272727272,0.5272727272727272,0.5292929292929293,0.5292929292929293,0.5393939393939394,0.5393939393939394,0.5434343434343434,0.5434343434343434,0.5474747474747474,0.5474747474747474,0.5595959595959596,0.5595959595959596,0.5656565656565656,0.5656565656565656,0.5676767676767677,0.5676767676767677,0.5696969696969697,0.5696969696969697,0.5737373737373738,0.5737373737373738,0.5777777777777777,0.5777777777777777,0.5797979797979798,0.5797979797979798,0.5818181818181818,0.5818181818181818,0.5838383838383838,0.5838383838383838,0.5858585858585859,0.5858585858585859,0.5878787878787879,0.5878787878787879,0.591919191919192,0.591919191919192,0.593939393939394,0.593939393939394,0.5959595959595959,0.5959595959595959,0.597979797979798,0.597979797979798,0.602020202020202,0.602020202020202,0.604040404040404,0.604040404040404,0.6060606060606061,0.6060606060606061,0.6101010101010101,0.6101010101010101,0.6121212121212121,0.6121212121212121,0.6161616161616161,0.6161616161616161,0.6181818181818182,0.6181818181818182,0.6202020202020202,0.6202020202020202,0.6222222222222222,0.6222222222222222,0.6242424242424243,0.6242424242424243,0.6262626262626263,0.6262626262626263,0.6282828282828283,0.6282828282828283,0.6323232323232323,0.6323232323232323,0.6343434343434343,0.6343434343434343,0.6363636363636364,0.6363636363636364,0.6404040404040404,0.6404040404040404,0.6444444444444445,0.6444444444444445,0.6484848484848484,0.6484848484848484,0.6505050505050505,0.6505050505050505,0.6545454545454545,0.6545454545454545,0.6565656565656566,0.6565656565656566,0.6606060606060606,0.6606060606060606,0.6626262626262627,0.6626262626262627,0.6666666666666666,0.6666666666666666,0.6707070707070707,0.6707070707070707,0.6727272727272727,0.6727272727272727,0.6808080808080809,0.6808080808080809,0.6828282828282828,0.6828282828282828,0.6848484848484848,0.6848484848484848,0.6868686868686869,0.6868686868686869,0.692929292929293,0.692929292929293,0.694949494949495,0.694949494949495,0.701010101010101,0.701010101010101,0.703030303030303,0.703030303030303,0.7191919191919192,0.7191919191919192,0.7272727272727273,0.7272727272727273,0.7313131313131314,0.7313131313131314,0.7353535353535353,0.7353535353535353,0.7414141414141414,0.7414141414141414,0.7474747474747475,0.7474747474747475,0.7494949494949495,0.7494949494949495,0.7535353535353535,0.7535353535353535,0.7555555555555555,0.7555555555555555,0.7575757575757576,0.7575757575757576,0.7616161616161616,0.7616161616161616,0.7636363636363637,0.7636363636363637,0.7676767676767676,0.7676767676767676,0.7777777777777778,0.7777777777777778,0.7838383838383839,0.7838383838383839,0.7858585858585858,0.7858585858585858,0.7878787878787878,0.7878787878787878,0.7919191919191919,0.7919191919191919,0.797979797979798,0.797979797979798,0.802020202020202,0.802020202020202,0.806060606060606,0.806060606060606,0.8080808080808081,0.8080808080808081,0.8101010101010101,0.8101010101010101,0.8141414141414142,0.8141414141414142,0.8161616161616162,0.8161616161616162,0.8202020202020202,0.8202020202020202,0.8242424242424242,0.8242424242424242,0.8282828282828283,0.8282828282828283,0.8303030303030303,0.8303030303030303,0.8383838383838383,0.8383838383838383,0.8404040404040404,0.8404040404040404,0.8444444444444444,0.8444444444444444,0.8545454545454545,0.8545454545454545,0.8606060606060606,0.8606060606060606,0.8626262626262626,0.8626262626262626,0.8646464646464647,0.8646464646464647,0.8666666666666667,0.8666666666666667,0.8707070707070707,0.8707070707070707,0.8767676767676768,0.8767676767676768,0.8888888888888888,0.8888888888888888,0.8909090909090909,0.8909090909090909,0.896969696969697,0.896969696969697,0.898989898989899,0.898989898989899,0.901010101010101,0.901010101010101,0.9030303030303031,0.9030303030303031,0.9050505050505051,0.9050505050505051,0.907070707070707,0.907070707070707,0.9111111111111111,0.9111111111111111,0.9151515151515152,0.9151515151515152,0.9232323232323232,0.9232323232323232,0.9353535353535354,0.9353535353535354,0.9393939393939394,0.9393939393939394,0.9575757575757575,0.9575757575757575,0.9595959595959596,0.9595959595959596,0.9636363636363636,0.9636363636363636,0.9676767676767677,0.9676767676767677,0.9696969696969697,0.9696969696969697,0.9737373737373738,0.9737373737373738,0.9757575757575757,0.9757575757575757,0.9777777777777777,0.9777777777777777,0.9818181818181818,0.9818181818181818,0.9838383838383838,0.9838383838383838,0.9858585858585859,0.9858585858585859,0.9878787878787879,0.9878787878787879,0.9939393939393939,0.9939393939393939,1.0,1.0],\"type\":\"scatter\"},{\"mode\":\"lines\",\"name\":\"Random\",\"x\":[0,1],\"y\":[0,1],\"type\":\"scatter\"}],                        {\"template\":{\"data\":{\"histogram2dcontour\":[{\"type\":\"histogram2dcontour\",\"colorbar\":{\"outlinewidth\":0,\"ticks\":\"\"},\"colorscale\":[[0.0,\"#0d0887\"],[0.1111111111111111,\"#46039f\"],[0.2222222222222222,\"#7201a8\"],[0.3333333333333333,\"#9c179e\"],[0.4444444444444444,\"#bd3786\"],[0.5555555555555556,\"#d8576b\"],[0.6666666666666666,\"#ed7953\"],[0.7777777777777778,\"#fb9f3a\"],[0.8888888888888888,\"#fdca26\"],[1.0,\"#f0f921\"]]}],\"choropleth\":[{\"type\":\"choropleth\",\"colorbar\":{\"outlinewidth\":0,\"ticks\":\"\"}}],\"histogram2d\":[{\"type\":\"histogram2d\",\"colorbar\":{\"outlinewidth\":0,\"ticks\":\"\"},\"colorscale\":[[0.0,\"#0d0887\"],[0.1111111111111111,\"#46039f\"],[0.2222222222222222,\"#7201a8\"],[0.3333333333333333,\"#9c179e\"],[0.4444444444444444,\"#bd3786\"],[0.5555555555555556,\"#d8576b\"],[0.6666666666666666,\"#ed7953\"],[0.7777777777777778,\"#fb9f3a\"],[0.8888888888888888,\"#fdca26\"],[1.0,\"#f0f921\"]]}],\"heatmap\":[{\"type\":\"heatmap\",\"colorbar\":{\"outlinewidth\":0,\"ticks\":\"\"},\"colorscale\":[[0.0,\"#0d0887\"],[0.1111111111111111,\"#46039f\"],[0.2222222222222222,\"#7201a8\"],[0.3333333333333333,\"#9c179e\"],[0.4444444444444444,\"#bd3786\"],[0.5555555555555556,\"#d8576b\"],[0.6666666666666666,\"#ed7953\"],[0.7777777777777778,\"#fb9f3a\"],[0.8888888888888888,\"#fdca26\"],[1.0,\"#f0f921\"]]}],\"heatmapgl\":[{\"type\":\"heatmapgl\",\"colorbar\":{\"outlinewidth\":0,\"ticks\":\"\"},\"colorscale\":[[0.0,\"#0d0887\"],[0.1111111111111111,\"#46039f\"],[0.2222222222222222,\"#7201a8\"],[0.3333333333333333,\"#9c179e\"],[0.4444444444444444,\"#bd3786\"],[0.5555555555555556,\"#d8576b\"],[0.6666666666666666,\"#ed7953\"],[0.7777777777777778,\"#fb9f3a\"],[0.8888888888888888,\"#fdca26\"],[1.0,\"#f0f921\"]]}],\"contourcarpet\":[{\"type\":\"contourcarpet\",\"colorbar\":{\"outlinewidth\":0,\"ticks\":\"\"}}],\"contour\":[{\"type\":\"contour\",\"colorbar\":{\"outlinewidth\":0,\"ticks\":\"\"},\"colorscale\":[[0.0,\"#0d0887\"],[0.1111111111111111,\"#46039f\"],[0.2222222222222222,\"#7201a8\"],[0.3333333333333333,\"#9c179e\"],[0.4444444444444444,\"#bd3786\"],[0.5555555555555556,\"#d8576b\"],[0.6666666666666666,\"#ed7953\"],[0.7777777777777778,\"#fb9f3a\"],[0.8888888888888888,\"#fdca26\"],[1.0,\"#f0f921\"]]}],\"surface\":[{\"type\":\"surface\",\"colorbar\":{\"outlinewidth\":0,\"ticks\":\"\"},\"colorscale\":[[0.0,\"#0d0887\"],[0.1111111111111111,\"#46039f\"],[0.2222222222222222,\"#7201a8\"],[0.3333333333333333,\"#9c179e\"],[0.4444444444444444,\"#bd3786\"],[0.5555555555555556,\"#d8576b\"],[0.6666666666666666,\"#ed7953\"],[0.7777777777777778,\"#fb9f3a\"],[0.8888888888888888,\"#fdca26\"],[1.0,\"#f0f921\"]]}],\"mesh3d\":[{\"type\":\"mesh3d\",\"colorbar\":{\"outlinewidth\":0,\"ticks\":\"\"}}],\"scatter\":[{\"fillpattern\":{\"fillmode\":\"overlay\",\"size\":10,\"solidity\":0.2},\"type\":\"scatter\"}],\"parcoords\":[{\"type\":\"parcoords\",\"line\":{\"colorbar\":{\"outlinewidth\":0,\"ticks\":\"\"}}}],\"scatterpolargl\":[{\"type\":\"scatterpolargl\",\"marker\":{\"colorbar\":{\"outlinewidth\":0,\"ticks\":\"\"}}}],\"bar\":[{\"error_x\":{\"color\":\"#2a3f5f\"},\"error_y\":{\"color\":\"#2a3f5f\"},\"marker\":{\"line\":{\"color\":\"#E5ECF6\",\"width\":0.5},\"pattern\":{\"fillmode\":\"overlay\",\"size\":10,\"solidity\":0.2}},\"type\":\"bar\"}],\"scattergeo\":[{\"type\":\"scattergeo\",\"marker\":{\"colorbar\":{\"outlinewidth\":0,\"ticks\":\"\"}}}],\"scatterpolar\":[{\"type\":\"scatterpolar\",\"marker\":{\"colorbar\":{\"outlinewidth\":0,\"ticks\":\"\"}}}],\"histogram\":[{\"marker\":{\"pattern\":{\"fillmode\":\"overlay\",\"size\":10,\"solidity\":0.2}},\"type\":\"histogram\"}],\"scattergl\":[{\"type\":\"scattergl\",\"marker\":{\"colorbar\":{\"outlinewidth\":0,\"ticks\":\"\"}}}],\"scatter3d\":[{\"type\":\"scatter3d\",\"line\":{\"colorbar\":{\"outlinewidth\":0,\"ticks\":\"\"}},\"marker\":{\"colorbar\":{\"outlinewidth\":0,\"ticks\":\"\"}}}],\"scattermapbox\":[{\"type\":\"scattermapbox\",\"marker\":{\"colorbar\":{\"outlinewidth\":0,\"ticks\":\"\"}}}],\"scatterternary\":[{\"type\":\"scatterternary\",\"marker\":{\"colorbar\":{\"outlinewidth\":0,\"ticks\":\"\"}}}],\"scattercarpet\":[{\"type\":\"scattercarpet\",\"marker\":{\"colorbar\":{\"outlinewidth\":0,\"ticks\":\"\"}}}],\"carpet\":[{\"aaxis\":{\"endlinecolor\":\"#2a3f5f\",\"gridcolor\":\"white\",\"linecolor\":\"white\",\"minorgridcolor\":\"white\",\"startlinecolor\":\"#2a3f5f\"},\"baxis\":{\"endlinecolor\":\"#2a3f5f\",\"gridcolor\":\"white\",\"linecolor\":\"white\",\"minorgridcolor\":\"white\",\"startlinecolor\":\"#2a3f5f\"},\"type\":\"carpet\"}],\"table\":[{\"cells\":{\"fill\":{\"color\":\"#EBF0F8\"},\"line\":{\"color\":\"white\"}},\"header\":{\"fill\":{\"color\":\"#C8D4E3\"},\"line\":{\"color\":\"white\"}},\"type\":\"table\"}],\"barpolar\":[{\"marker\":{\"line\":{\"color\":\"#E5ECF6\",\"width\":0.5},\"pattern\":{\"fillmode\":\"overlay\",\"size\":10,\"solidity\":0.2}},\"type\":\"barpolar\"}],\"pie\":[{\"automargin\":true,\"type\":\"pie\"}]},\"layout\":{\"autotypenumbers\":\"strict\",\"colorway\":[\"#636efa\",\"#EF553B\",\"#00cc96\",\"#ab63fa\",\"#FFA15A\",\"#19d3f3\",\"#FF6692\",\"#B6E880\",\"#FF97FF\",\"#FECB52\"],\"font\":{\"color\":\"#2a3f5f\"},\"hovermode\":\"closest\",\"hoverlabel\":{\"align\":\"left\"},\"paper_bgcolor\":\"white\",\"plot_bgcolor\":\"#E5ECF6\",\"polar\":{\"bgcolor\":\"#E5ECF6\",\"angularaxis\":{\"gridcolor\":\"white\",\"linecolor\":\"white\",\"ticks\":\"\"},\"radialaxis\":{\"gridcolor\":\"white\",\"linecolor\":\"white\",\"ticks\":\"\"}},\"ternary\":{\"bgcolor\":\"#E5ECF6\",\"aaxis\":{\"gridcolor\":\"white\",\"linecolor\":\"white\",\"ticks\":\"\"},\"baxis\":{\"gridcolor\":\"white\",\"linecolor\":\"white\",\"ticks\":\"\"},\"caxis\":{\"gridcolor\":\"white\",\"linecolor\":\"white\",\"ticks\":\"\"}},\"coloraxis\":{\"colorbar\":{\"outlinewidth\":0,\"ticks\":\"\"}},\"colorscale\":{\"sequential\":[[0.0,\"#0d0887\"],[0.1111111111111111,\"#46039f\"],[0.2222222222222222,\"#7201a8\"],[0.3333333333333333,\"#9c179e\"],[0.4444444444444444,\"#bd3786\"],[0.5555555555555556,\"#d8576b\"],[0.6666666666666666,\"#ed7953\"],[0.7777777777777778,\"#fb9f3a\"],[0.8888888888888888,\"#fdca26\"],[1.0,\"#f0f921\"]],\"sequentialminus\":[[0.0,\"#0d0887\"],[0.1111111111111111,\"#46039f\"],[0.2222222222222222,\"#7201a8\"],[0.3333333333333333,\"#9c179e\"],[0.4444444444444444,\"#bd3786\"],[0.5555555555555556,\"#d8576b\"],[0.6666666666666666,\"#ed7953\"],[0.7777777777777778,\"#fb9f3a\"],[0.8888888888888888,\"#fdca26\"],[1.0,\"#f0f921\"]],\"diverging\":[[0,\"#8e0152\"],[0.1,\"#c51b7d\"],[0.2,\"#de77ae\"],[0.3,\"#f1b6da\"],[0.4,\"#fde0ef\"],[0.5,\"#f7f7f7\"],[0.6,\"#e6f5d0\"],[0.7,\"#b8e186\"],[0.8,\"#7fbc41\"],[0.9,\"#4d9221\"],[1,\"#276419\"]]},\"xaxis\":{\"gridcolor\":\"white\",\"linecolor\":\"white\",\"ticks\":\"\",\"title\":{\"standoff\":15},\"zerolinecolor\":\"white\",\"automargin\":true,\"zerolinewidth\":2},\"yaxis\":{\"gridcolor\":\"white\",\"linecolor\":\"white\",\"ticks\":\"\",\"title\":{\"standoff\":15},\"zerolinecolor\":\"white\",\"automargin\":true,\"zerolinewidth\":2},\"scene\":{\"xaxis\":{\"backgroundcolor\":\"#E5ECF6\",\"gridcolor\":\"white\",\"linecolor\":\"white\",\"showbackground\":true,\"ticks\":\"\",\"zerolinecolor\":\"white\",\"gridwidth\":2},\"yaxis\":{\"backgroundcolor\":\"#E5ECF6\",\"gridcolor\":\"white\",\"linecolor\":\"white\",\"showbackground\":true,\"ticks\":\"\",\"zerolinecolor\":\"white\",\"gridwidth\":2},\"zaxis\":{\"backgroundcolor\":\"#E5ECF6\",\"gridcolor\":\"white\",\"linecolor\":\"white\",\"showbackground\":true,\"ticks\":\"\",\"zerolinecolor\":\"white\",\"gridwidth\":2}},\"shapedefaults\":{\"line\":{\"color\":\"#2a3f5f\"}},\"annotationdefaults\":{\"arrowcolor\":\"#2a3f5f\",\"arrowhead\":0,\"arrowwidth\":1},\"geo\":{\"bgcolor\":\"white\",\"landcolor\":\"#E5ECF6\",\"subunitcolor\":\"white\",\"showland\":true,\"showlakes\":true,\"lakecolor\":\"white\"},\"title\":{\"x\":0.05},\"mapbox\":{\"style\":\"light\"}}}},                        {\"responsive\": true}                    ).then(function(){\n",
       "                            \n",
       "var gd = document.getElementById('bddec1c9-8c5d-487b-9219-6d27b4f1baa4');\n",
       "var x = new MutationObserver(function (mutations, observer) {{\n",
       "        var display = window.getComputedStyle(gd).display;\n",
       "        if (!display || display === 'none') {{\n",
       "            console.log([gd, 'removed!']);\n",
       "            Plotly.purge(gd);\n",
       "            observer.disconnect();\n",
       "        }}\n",
       "}});\n",
       "\n",
       "// Listen for the removal of the full notebook cells\n",
       "var notebookContainer = gd.closest('#notebook-container');\n",
       "if (notebookContainer) {{\n",
       "    x.observe(notebookContainer, {childList: true});\n",
       "}}\n",
       "\n",
       "// Listen for the clearing of the current output cell\n",
       "var outputEl = gd.closest('.output');\n",
       "if (outputEl) {{\n",
       "    x.observe(outputEl, {childList: true});\n",
       "}}\n",
       "\n",
       "                        })                };                });            </script>        </div>"
      ]
     },
     "metadata": {},
     "output_type": "display_data"
    },
    {
     "data": {
      "text/plain": [
       "<sklearn.metrics._plot.roc_curve.RocCurveDisplay at 0x7fe5e92e4070>"
      ]
     },
     "execution_count": 4,
     "metadata": {},
     "output_type": "execute_result"
    },
    {
     "data": {
      "image/png": "[encoded data removed]",
      "text/plain": [
       "<Figure size 640x480 with 1 Axes>"
      ]
     },
     "metadata": {},
     "output_type": "display_data"
    }
   ],
   "source": [
    "from sklearn.metrics._ranking import _binary_clf_curve\n",
    "from sklearn import metrics\n",
    "\n",
    "fps, tps, thresholds = _binary_clf_curve(\n",
    "    y_true, y_pred, pos_label=1\n",
    ")\n",
    "\n",
    "state = BinaryCurveState(thresholds, tps, fps)\n",
    "\n",
    "# state.plot_roc_curve(plotly=True)"
   ]
  },
  {
   "cell_type": "code",
   "execution_count": 6,
   "metadata": {},
   "outputs": [
    {
     "data": {
      "image/png": "[encoded data removed]",
      "text/plain": [
       "<Figure size 640x480 with 1 Axes>"
      ]
     },
     "metadata": {},
     "output_type": "display_data"
    }
   ],
   "source": [
    "state.plot_pr_curve(plotly=False)"
   ]
  },
  {
   "cell_type": "code",
   "execution_count": 5,
   "metadata": {},
   "outputs": [
    {
     "data": {
      "text/plain": [
       "0.4755276084417351"
      ]
     },
     "execution_count": 5,
     "metadata": {},
     "output_type": "execute_result"
    }
   ],
   "source": [
    "fpr, tpr, thresholds = metrics.roc_curve(y_true, y_pred)\n",
    "\n",
    "metrics.auc(fpr, tpr)"
   ]
  },
  {
   "cell_type": "code",
   "execution_count": 14,
   "metadata": {},
   "outputs": [
    {
     "data": {
      "text/plain": [
       "<sklearn.metrics._plot.roc_curve.RocCurveDisplay at 0x7f201e93fc10>"
      ]
     },
     "execution_count": 14,
     "metadata": {},
     "output_type": "execute_result"
    },
    {
     "data": {
      "image/png": "[encoded data removed]",
      "text/plain": [
       "<Figure size 640x480 with 1 Axes>"
      ]
     },
     "metadata": {},
     "output_type": "display_data"
    }
   ],
   "source": [
    "display = metrics.RocCurveDisplay(fpr=fpr, tpr=tpr, roc_auc=metrics.auc(fpr, tpr), \n",
    "                          estimator_name='example estimator')\n",
    "\n",
    "display.plot()"
   ]
  },
  {
   "cell_type": "code",
   "execution_count": 15,
   "metadata": {},
   "outputs": [
    {
     "data": {
      "application/vnd.plotly.v1+json": {
       "config": {
        "plotlyServerURL": "https://plot.ly"
       },
       "data": [
        {
         "fillpattern": {
          "shape": ""
         },
         "hovertemplate": "False Positive Rate=%{x}<br>True Positive Rate=%{y}<extra></extra>",
         "legendgroup": "",
         "line": {
          "color": "#636efa"
         },
         "marker": {
          "symbol": "circle"
         },
         "mode": "lines",
         "name": "",
         "orientation": "v",
         "showlegend": false,
         "stackgroup": "1",
         "type": "scatter",
         "x": [
          0,
          0.0019723865877712033,
          0.0019723865877712033,
          0.023668639053254437,
          0.023668639053254437,
          0.02564102564102564,
          0.02564102564102564,
          0.027613412228796843,
          0.027613412228796843,
          0.03353057199211045,
          0.03353057199211045,
          0.03550295857988166,
          0.03550295857988166,
          0.03747534516765286,
          0.03747534516765286,
          0.045364891518737675,
          0.045364891518737675,
          0.047337278106508875,
          0.047337278106508875,
          0.04930966469428008,
          0.04930966469428008,
          0.05917159763313609,
          0.05917159763313609,
          0.0631163708086785,
          0.0631163708086785,
          0.07297830374753451,
          0.07297830374753451,
          0.07495069033530571,
          0.07495069033530571,
          0.07692307692307693,
          0.07692307692307693,
          0.08086785009861933,
          0.08086785009861933,
          0.08481262327416174,
          0.08481262327416174,
          0.08678500986193294,
          0.08678500986193294,
          0.09072978303747535,
          0.09072978303747535,
          0.10059171597633136,
          0.10059171597633136,
          0.10256410256410256,
          0.10256410256410256,
          0.11045364891518737,
          0.11045364891518737,
          0.11242603550295859,
          0.11242603550295859,
          0.11439842209072978,
          0.11439842209072978,
          0.11637080867850098,
          0.11637080867850098,
          0.1203155818540434,
          0.1203155818540434,
          0.1242603550295858,
          0.1242603550295858,
          0.126232741617357,
          0.126232741617357,
          0.1301775147928994,
          0.1301775147928994,
          0.1341222879684418,
          0.1341222879684418,
          0.13609467455621302,
          0.13609467455621302,
          0.14398422090729784,
          0.14398422090729784,
          0.15187376725838264,
          0.15187376725838264,
          0.15384615384615385,
          0.15384615384615385,
          0.15581854043392504,
          0.15581854043392504,
          0.15779092702169625,
          0.15779092702169625,
          0.16370808678500987,
          0.16370808678500987,
          0.16765285996055226,
          0.16765285996055226,
          0.17159763313609466,
          0.17159763313609466,
          0.1794871794871795,
          0.1794871794871795,
          0.1834319526627219,
          0.1834319526627219,
          0.1913214990138067,
          0.1913214990138067,
          0.1932938856015779,
          0.1932938856015779,
          0.20315581854043394,
          0.20315581854043394,
          0.21104536489151873,
          0.21104536489151873,
          0.21301775147928995,
          0.21301775147928995,
          0.21696252465483234,
          0.21696252465483234,
          0.21893491124260356,
          0.21893491124260356,
          0.22287968441814596,
          0.22287968441814596,
          0.22682445759368836,
          0.22682445759368836,
          0.23274161735700197,
          0.23274161735700197,
          0.23471400394477318,
          0.23471400394477318,
          0.23865877712031558,
          0.23865877712031558,
          0.2406311637080868,
          0.2406311637080868,
          0.24260355029585798,
          0.24260355029585798,
          0.2485207100591716,
          0.2485207100591716,
          0.2504930966469428,
          0.2504930966469428,
          0.252465483234714,
          0.252465483234714,
          0.25443786982248523,
          0.25443786982248523,
          0.2603550295857988,
          0.2603550295857988,
          0.26627218934911245,
          0.26627218934911245,
          0.2682445759368836,
          0.2682445759368836,
          0.2702169625246548,
          0.2702169625246548,
          0.27218934911242604,
          0.27218934911242604,
          0.2781065088757396,
          0.2781065088757396,
          0.28007889546351084,
          0.28007889546351084,
          0.28402366863905326,
          0.28402366863905326,
          0.2879684418145957,
          0.2879684418145957,
          0.28994082840236685,
          0.28994082840236685,
          0.2938856015779093,
          0.2938856015779093,
          0.2978303747534517,
          0.2978303747534517,
          0.29980276134122286,
          0.29980276134122286,
          0.30177514792899407,
          0.30177514792899407,
          0.3076923076923077,
          0.3076923076923077,
          0.3096646942800789,
          0.3096646942800789,
          0.3175542406311637,
          0.3175542406311637,
          0.31952662721893493,
          0.31952662721893493,
          0.3234714003944773,
          0.3234714003944773,
          0.3254437869822485,
          0.3254437869822485,
          0.32741617357001973,
          0.32741617357001973,
          0.32938856015779094,
          0.32938856015779094,
          0.3333333333333333,
          0.3333333333333333,
          0.33530571992110453,
          0.33530571992110453,
          0.33925049309664695,
          0.33925049309664695,
          0.3431952662721893,
          0.3431952662721893,
          0.34516765285996054,
          0.34516765285996054,
          0.3510848126232742,
          0.3510848126232742,
          0.3530571992110454,
          0.3530571992110454,
          0.3629191321499014,
          0.3629191321499014,
          0.36489151873767256,
          0.36489151873767256,
          0.3708086785009862,
          0.3708086785009862,
          0.3727810650887574,
          0.3727810650887574,
          0.378698224852071,
          0.378698224852071,
          0.3806706114398422,
          0.3806706114398422,
          0.3826429980276134,
          0.3826429980276134,
          0.38461538461538464,
          0.38461538461538464,
          0.388560157790927,
          0.388560157790927,
          0.39644970414201186,
          0.39644970414201186,
          0.398422090729783,
          0.398422090729783,
          0.40039447731755423,
          0.40039447731755423,
          0.40236686390532544,
          0.40236686390532544,
          0.40828402366863903,
          0.40828402366863903,
          0.4161735700197239,
          0.4161735700197239,
          0.4260355029585799,
          0.4260355029585799,
          0.4280078895463511,
          0.4280078895463511,
          0.42998027613412226,
          0.42998027613412226,
          0.43984220907297833,
          0.43984220907297833,
          0.4477317554240631,
          0.4477317554240631,
          0.4516765285996055,
          0.4516765285996055,
          0.45759368836291914,
          0.45759368836291914,
          0.46153846153846156,
          0.46153846153846156,
          0.4635108481262327,
          0.4635108481262327,
          0.46942800788954636,
          0.46942800788954636,
          0.4714003944773176,
          0.4714003944773176,
          0.47534516765285995,
          0.47534516765285995,
          0.4832347140039448,
          0.4832347140039448,
          0.48520710059171596,
          0.48520710059171596,
          0.49506903353057197,
          0.49506903353057197,
          0.5009861932938856,
          0.5009861932938856,
          0.5069033530571992,
          0.5069033530571992,
          0.5108481262327417,
          0.5108481262327417,
          0.5128205128205128,
          0.5128205128205128,
          0.514792899408284,
          0.514792899408284,
          0.5167652859960552,
          0.5167652859960552,
          0.5226824457593688,
          0.5226824457593688,
          0.52465483234714,
          0.52465483234714,
          0.5285996055226825,
          0.5285996055226825,
          0.5305719921104537,
          0.5305719921104537,
          0.5325443786982249,
          0.5325443786982249,
          0.5384615384615384,
          0.5384615384615384,
          0.5404339250493096,
          0.5404339250493096,
          0.5424063116370809,
          0.5424063116370809,
          0.5443786982248521,
          0.5443786982248521,
          0.5463510848126233,
          0.5463510848126233,
          0.5483234714003945,
          0.5483234714003945,
          0.5502958579881657,
          0.5502958579881657,
          0.5542406311637081,
          0.5542406311637081,
          0.5562130177514792,
          0.5562130177514792,
          0.5581854043392505,
          0.5581854043392505,
          0.5601577909270217,
          0.5601577909270217,
          0.5641025641025641,
          0.5641025641025641,
          0.5660749506903353,
          0.5660749506903353,
          0.5680473372781065,
          0.5680473372781065,
          0.5739644970414202,
          0.5739644970414202,
          0.5759368836291914,
          0.5759368836291914,
          0.5779092702169625,
          0.5779092702169625,
          0.5798816568047337,
          0.5798816568047337,
          0.5818540433925049,
          0.5818540433925049,
          0.5838264299802761,
          0.5838264299802761,
          0.5857988165680473,
          0.5857988165680473,
          0.5877712031558185,
          0.5877712031558185,
          0.5897435897435898,
          0.5897435897435898,
          0.591715976331361,
          0.591715976331361,
          0.5976331360946746,
          0.5976331360946746,
          0.5996055226824457,
          0.5996055226824457,
          0.611439842209073,
          0.611439842209073,
          0.6134122287968442,
          0.6134122287968442,
          0.6173570019723866,
          0.6173570019723866,
          0.6252465483234714,
          0.6252465483234714,
          0.6272189349112426,
          0.6272189349112426,
          0.6291913214990138,
          0.6291913214990138,
          0.631163708086785,
          0.631163708086785,
          0.6331360946745562,
          0.6331360946745562,
          0.6429980276134122,
          0.6429980276134122,
          0.6489151873767258,
          0.6489151873767258,
          0.650887573964497,
          0.650887573964497,
          0.6587771203155819,
          0.6587771203155819,
          0.6607495069033531,
          0.6607495069033531,
          0.6627218934911243,
          0.6627218934911243,
          0.6686390532544378,
          0.6686390532544378,
          0.6725838264299803,
          0.6725838264299803,
          0.6765285996055227,
          0.6765285996055227,
          0.6785009861932939,
          0.6785009861932939,
          0.6824457593688363,
          0.6824457593688363,
          0.6903353057199211,
          0.6903353057199211,
          0.6942800788954635,
          0.6942800788954635,
          0.6962524654832347,
          0.6962524654832347,
          0.6982248520710059,
          0.6982248520710059,
          0.7001972386587771,
          0.7001972386587771,
          0.7021696252465484,
          0.7021696252465484,
          0.7041420118343196,
          0.7041420118343196,
          0.7080867850098619,
          0.7080867850098619,
          0.7120315581854043,
          0.7120315581854043,
          0.7140039447731755,
          0.7140039447731755,
          0.7159763313609467,
          0.7159763313609467,
          0.7218934911242604,
          0.7218934911242604,
          0.7238658777120316,
          0.7238658777120316,
          0.7258382642998028,
          0.7258382642998028,
          0.7297830374753451,
          0.7297830374753451,
          0.7317554240631163,
          0.7317554240631163,
          0.73767258382643,
          0.73767258382643,
          0.7455621301775148,
          0.7455621301775148,
          0.7495069033530573,
          0.7495069033530573,
          0.7534516765285996,
          0.7534516765285996,
          0.757396449704142,
          0.757396449704142,
          0.7672583826429981,
          0.7672583826429981,
          0.7712031558185405,
          0.7712031558185405,
          0.7731755424063116,
          0.7731755424063116,
          0.7751479289940828,
          0.7751479289940828,
          0.777120315581854,
          0.777120315581854,
          0.7948717948717948,
          0.7948717948717948,
          0.7988165680473372,
          0.7988165680473372,
          0.8007889546351085,
          0.8007889546351085,
          0.8027613412228797,
          0.8027613412228797,
          0.8086785009861933,
          0.8086785009861933,
          0.8165680473372781,
          0.8165680473372781,
          0.8185404339250493,
          0.8185404339250493,
          0.8224852071005917,
          0.8224852071005917,
          0.8264299802761341,
          0.8264299802761341,
          0.834319526627219,
          0.834319526627219,
          0.8382642998027613,
          0.8382642998027613,
          0.8402366863905325,
          0.8402366863905325,
          0.8422090729783037,
          0.8422090729783037,
          0.8461538461538461,
          0.8461538461538461,
          0.8481262327416174,
          0.8481262327416174,
          0.8500986193293886,
          0.8500986193293886,
          0.8560157790927022,
          0.8560157790927022,
          0.8599605522682445,
          0.8599605522682445,
          0.8619329388560157,
          0.8619329388560157,
          0.8698224852071006,
          0.8698224852071006,
          0.8717948717948718,
          0.8717948717948718,
          0.8777120315581854,
          0.8777120315581854,
          0.883629191321499,
          0.883629191321499,
          0.8856015779092702,
          0.8856015779092702,
          0.8875739644970414,
          0.8875739644970414,
          0.8915187376725838,
          0.8915187376725838,
          0.8954635108481263,
          0.8954635108481263,
          0.8994082840236687,
          0.8994082840236687,
          0.903353057199211,
          0.903353057199211,
          0.9072978303747534,
          0.9072978303747534,
          0.9092702169625246,
          0.9092702169625246,
          0.9132149901380671,
          0.9132149901380671,
          0.9191321499013807,
          0.9191321499013807,
          0.9270216962524654,
          0.9270216962524654,
          0.9309664694280079,
          0.9309664694280079,
          0.9329388560157791,
          0.9329388560157791,
          0.9349112426035503,
          0.9349112426035503,
          0.9368836291913215,
          0.9368836291913215,
          0.9388560157790927,
          0.9388560157790927,
          0.9408284023668639,
          0.9408284023668639,
          0.9428007889546351,
          0.9428007889546351,
          0.9447731755424064,
          0.9447731755424064,
          0.9487179487179487,
          0.9487179487179487,
          0.9526627218934911,
          0.9526627218934911,
          0.9546351084812623,
          0.9546351084812623,
          0.9566074950690335,
          0.9566074950690335,
          0.9625246548323472,
          0.9625246548323472,
          0.9644970414201184,
          0.9644970414201184,
          0.9664694280078896,
          0.9664694280078896,
          0.9684418145956607,
          0.9684418145956607,
          0.9704142011834319,
          0.9704142011834319,
          0.9763313609467456,
          0.9763313609467456,
          0.9842209072978304,
          0.9842209072978304,
          0.9861932938856016,
          0.9861932938856016,
          0.9901380670611439,
          0.9901380670611439,
          0.9921104536489151,
          0.9921104536489151,
          0.9980276134122288,
          0.9980276134122288,
          1
         ],
         "xaxis": "x",
         "y": [
          0,
          0,
          0.002028397565922921,
          0.002028397565922921,
          0.008113590263691683,
          0.008113590263691683,
          0.014198782961460446,
          0.014198782961460446,
          0.016227180527383367,
          0.016227180527383367,
          0.02434077079107505,
          0.02434077079107505,
          0.02636916835699797,
          0.02636916835699797,
          0.032454361054766734,
          0.032454361054766734,
          0.036511156186612576,
          0.036511156186612576,
          0.04462474645030426,
          0.04462474645030426,
          0.04665314401622718,
          0.04665314401622718,
          0.0486815415821501,
          0.0486815415821501,
          0.056795131845841784,
          0.056795131845841784,
          0.060851926977687626,
          0.060851926977687626,
          0.06490872210953347,
          0.06490872210953347,
          0.07505070993914807,
          0.07505070993914807,
          0.08113590263691683,
          0.08113590263691683,
          0.08316430020283976,
          0.08316430020283976,
          0.08519269776876268,
          0.08519269776876268,
          0.0872210953346856,
          0.0872210953346856,
          0.09533468559837728,
          0.09533468559837728,
          0.0973630831643002,
          0.0973630831643002,
          0.09939148073022312,
          0.09939148073022312,
          0.10141987829614604,
          0.10141987829614604,
          0.10547667342799188,
          0.10547667342799188,
          0.1075050709939148,
          0.1075050709939148,
          0.11359026369168357,
          0.11359026369168357,
          0.11561866125760649,
          0.11561866125760649,
          0.11764705882352941,
          0.11764705882352941,
          0.12373225152129817,
          0.12373225152129817,
          0.1257606490872211,
          0.1257606490872211,
          0.12981744421906694,
          0.12981744421906694,
          0.13387423935091278,
          0.13387423935091278,
          0.13793103448275862,
          0.13793103448275862,
          0.14807302231237324,
          0.14807302231237324,
          0.15010141987829614,
          0.15010141987829614,
          0.15415821501014199,
          0.15415821501014199,
          0.15618661257606492,
          0.15618661257606492,
          0.16024340770791076,
          0.16024340770791076,
          0.16227180527383367,
          0.16227180527383367,
          0.1663286004056795,
          0.1663286004056795,
          0.17038539553752535,
          0.17038539553752535,
          0.17647058823529413,
          0.17647058823529413,
          0.17849898580121704,
          0.17849898580121704,
          0.18052738336713997,
          0.18052738336713997,
          0.1845841784989858,
          0.1845841784989858,
          0.18864097363083165,
          0.18864097363083165,
          0.19066937119675456,
          0.19066937119675456,
          0.1926977687626775,
          0.1926977687626775,
          0.1947261663286004,
          0.1947261663286004,
          0.19675456389452334,
          0.19675456389452334,
          0.19878296146044624,
          0.19878296146044624,
          0.20081135902636918,
          0.20081135902636918,
          0.20486815415821502,
          0.20486815415821502,
          0.20689655172413793,
          0.20689655172413793,
          0.20892494929006086,
          0.20892494929006086,
          0.21095334685598377,
          0.21095334685598377,
          0.21703853955375255,
          0.21703853955375255,
          0.2231237322515213,
          0.2231237322515213,
          0.22515212981744423,
          0.22515212981744423,
          0.22718052738336714,
          0.22718052738336714,
          0.22920892494929007,
          0.22920892494929007,
          0.23123732251521298,
          0.23123732251521298,
          0.23529411764705882,
          0.23529411764705882,
          0.23732251521298176,
          0.23732251521298176,
          0.2434077079107505,
          0.2434077079107505,
          0.24746450304259635,
          0.24746450304259635,
          0.24949290060851928,
          0.24949290060851928,
          0.2515212981744422,
          0.2515212981744422,
          0.2535496957403651,
          0.2535496957403651,
          0.25760649087221094,
          0.25760649087221094,
          0.25963488843813387,
          0.25963488843813387,
          0.2657200811359026,
          0.2657200811359026,
          0.26774847870182555,
          0.26774847870182555,
          0.2697768762677485,
          0.2697768762677485,
          0.27586206896551724,
          0.27586206896551724,
          0.2839756592292089,
          0.2839756592292089,
          0.2920892494929006,
          0.2920892494929006,
          0.3002028397565923,
          0.3002028397565923,
          0.30425963488843816,
          0.30425963488843816,
          0.30831643002028397,
          0.30831643002028397,
          0.3103448275862069,
          0.3103448275862069,
          0.3144016227180527,
          0.3144016227180527,
          0.31643002028397565,
          0.31643002028397565,
          0.3204868154158215,
          0.3204868154158215,
          0.3225152129817444,
          0.3225152129817444,
          0.32454361054766734,
          0.32454361054766734,
          0.3265720081135903,
          0.3265720081135903,
          0.33468559837728196,
          0.33468559837728196,
          0.3367139959432049,
          0.3367139959432049,
          0.3407707910750507,
          0.3407707910750507,
          0.3448275862068966,
          0.3448275862068966,
          0.3488843813387424,
          0.3488843813387424,
          0.3509127789046653,
          0.3509127789046653,
          0.35496957403651114,
          0.35496957403651114,
          0.35699797160243407,
          0.35699797160243407,
          0.3630831643002028,
          0.3630831643002028,
          0.36511156186612576,
          0.36511156186612576,
          0.3671399594320487,
          0.3671399594320487,
          0.3691683569979716,
          0.3691683569979716,
          0.3813387423935091,
          0.3813387423935091,
          0.38742393509127787,
          0.38742393509127787,
          0.3894523326572008,
          0.3894523326572008,
          0.39148073022312374,
          0.39148073022312374,
          0.39553752535496955,
          0.39553752535496955,
          0.3995943204868154,
          0.3995943204868154,
          0.40365111561866124,
          0.40365111561866124,
          0.4117647058823529,
          0.4117647058823529,
          0.4158215010141988,
          0.4158215010141988,
          0.4239350912778905,
          0.4239350912778905,
          0.43204868154158216,
          0.43204868154158216,
          0.4381338742393509,
          0.4381338742393509,
          0.44016227180527384,
          0.44016227180527384,
          0.4462474645030426,
          0.4462474645030426,
          0.45233265720081134,
          0.45233265720081134,
          0.45841784989858014,
          0.45841784989858014,
          0.46247464503042596,
          0.46247464503042596,
          0.4645030425963489,
          0.4645030425963489,
          0.4665314401622718,
          0.4665314401622718,
          0.4787018255578093,
          0.4787018255578093,
          0.4847870182555781,
          0.4847870182555781,
          0.486815415821501,
          0.486815415821501,
          0.48884381338742394,
          0.48884381338742394,
          0.4908722109533469,
          0.4908722109533469,
          0.49898580121703856,
          0.49898580121703856,
          0.5030425963488844,
          0.5030425963488844,
          0.5070993914807302,
          0.5070993914807302,
          0.5091277890466531,
          0.5091277890466531,
          0.5172413793103449,
          0.5172413793103449,
          0.5192697768762677,
          0.5192697768762677,
          0.5233265720081136,
          0.5233265720081136,
          0.5253549695740365,
          0.5253549695740365,
          0.5273833671399595,
          0.5273833671399595,
          0.5314401622718052,
          0.5314401622718052,
          0.5334685598377282,
          0.5334685598377282,
          0.537525354969574,
          0.537525354969574,
          0.5415821501014199,
          0.5415821501014199,
          0.5456389452332657,
          0.5456389452332657,
          0.5476673427991886,
          0.5476673427991886,
          0.5517241379310345,
          0.5517241379310345,
          0.5598377281947262,
          0.5598377281947262,
          0.563894523326572,
          0.563894523326572,
          0.565922920892495,
          0.565922920892495,
          0.5720081135902637,
          0.5720081135902637,
          0.5760649087221096,
          0.5760649087221096,
          0.5821501014198783,
          0.5821501014198783,
          0.5841784989858012,
          0.5841784989858012,
          0.5882352941176471,
          0.5882352941176471,
          0.59026369168357,
          0.59026369168357,
          0.592292089249493,
          0.592292089249493,
          0.5943204868154158,
          0.5943204868154158,
          0.5963488843813387,
          0.5963488843813387,
          0.5983772819472617,
          0.5983772819472617,
          0.6044624746450304,
          0.6044624746450304,
          0.6064908722109533,
          0.6064908722109533,
          0.6105476673427992,
          0.6105476673427992,
          0.6146044624746451,
          0.6146044624746451,
          0.6227180527383367,
          0.6227180527383367,
          0.6348884381338742,
          0.6348884381338742,
          0.6369168356997972,
          0.6369168356997972,
          0.6389452332657201,
          0.6389452332657201,
          0.640973630831643,
          0.640973630831643,
          0.6430020283975659,
          0.6430020283975659,
          0.6490872210953347,
          0.6490872210953347,
          0.6531440162271805,
          0.6531440162271805,
          0.6551724137931034,
          0.6551724137931034,
          0.6592292089249493,
          0.6592292089249493,
          0.6632860040567952,
          0.6632860040567952,
          0.6693711967545639,
          0.6693711967545639,
          0.6734279918864098,
          0.6734279918864098,
          0.6795131845841785,
          0.6795131845841785,
          0.6815415821501014,
          0.6815415821501014,
          0.6855983772819473,
          0.6855983772819473,
          0.6876267748478702,
          0.6876267748478702,
          0.6896551724137931,
          0.6896551724137931,
          0.6957403651115619,
          0.6957403651115619,
          0.7038539553752535,
          0.7038539553752535,
          0.7058823529411765,
          0.7058823529411765,
          0.7139959432048681,
          0.7139959432048681,
          0.716024340770791,
          0.716024340770791,
          0.7200811359026369,
          0.7200811359026369,
          0.7221095334685599,
          0.7221095334685599,
          0.7241379310344828,
          0.7241379310344828,
          0.7281947261663286,
          0.7281947261663286,
          0.7302231237322515,
          0.7302231237322515,
          0.7322515212981744,
          0.7322515212981744,
          0.7342799188640974,
          0.7342799188640974,
          0.7403651115618661,
          0.7403651115618661,
          0.742393509127789,
          0.742393509127789,
          0.744421906693712,
          0.744421906693712,
          0.7464503042596349,
          0.7464503042596349,
          0.7484787018255578,
          0.7484787018255578,
          0.7586206896551724,
          0.7586206896551724,
          0.7606490872210954,
          0.7606490872210954,
          0.7626774847870182,
          0.7626774847870182,
          0.7647058823529411,
          0.7647058823529411,
          0.7667342799188641,
          0.7667342799188641,
          0.7728194726166329,
          0.7728194726166329,
          0.7748478701825557,
          0.7748478701825557,
          0.7789046653144016,
          0.7789046653144016,
          0.7809330628803245,
          0.7809330628803245,
          0.7829614604462475,
          0.7829614604462475,
          0.7890466531440162,
          0.7890466531440162,
          0.7910750507099391,
          0.7910750507099391,
          0.795131845841785,
          0.795131845841785,
          0.7991886409736308,
          0.7991886409736308,
          0.8012170385395537,
          0.8012170385395537,
          0.8032454361054767,
          0.8032454361054767,
          0.8073022312373225,
          0.8073022312373225,
          0.8133874239350912,
          0.8133874239350912,
          0.8154158215010142,
          0.8154158215010142,
          0.8174442190669371,
          0.8174442190669371,
          0.8194726166328601,
          0.8194726166328601,
          0.8255578093306288,
          0.8255578093306288,
          0.8275862068965517,
          0.8275862068965517,
          0.8296146044624746,
          0.8296146044624746,
          0.8316430020283976,
          0.8316430020283976,
          0.8397565922920892,
          0.8397565922920892,
          0.8417849898580122,
          0.8417849898580122,
          0.8438133874239351,
          0.8438133874239351,
          0.8498985801217038,
          0.8498985801217038,
          0.8519269776876268,
          0.8519269776876268,
          0.8539553752535497,
          0.8539553752535497,
          0.8559837728194726,
          0.8559837728194726,
          0.8580121703853956,
          0.8580121703853956,
          0.8620689655172413,
          0.8620689655172413,
          0.8722109533468559,
          0.8722109533468559,
          0.8782961460446247,
          0.8782961460446247,
          0.8803245436105477,
          0.8803245436105477,
          0.8823529411764706,
          0.8823529411764706,
          0.8843813387423936,
          0.8843813387423936,
          0.8864097363083164,
          0.8864097363083164,
          0.8985801217038539,
          0.8985801217038539,
          0.9026369168356998,
          0.9026369168356998,
          0.9087221095334685,
          0.9087221095334685,
          0.9107505070993914,
          0.9107505070993914,
          0.9127789046653144,
          0.9127789046653144,
          0.922920892494929,
          0.922920892494929,
          0.9249492900608519,
          0.9249492900608519,
          0.9290060851926978,
          0.9290060851926978,
          0.9350912778904665,
          0.9350912778904665,
          0.9371196754563894,
          0.9371196754563894,
          0.9411764705882353,
          0.9411764705882353,
          0.9432048681541582,
          0.9432048681541582,
          0.9452332657200812,
          0.9452332657200812,
          0.947261663286004,
          0.947261663286004,
          0.949290060851927,
          0.949290060851927,
          0.9513184584178499,
          0.9513184584178499,
          0.9533468559837728,
          0.9533468559837728,
          0.9553752535496958,
          0.9553752535496958,
          0.973630831643002,
          0.973630831643002,
          0.9756592292089249,
          0.9756592292089249,
          0.9817444219066938,
          0.9817444219066938,
          0.9858012170385395,
          0.9858012170385395,
          0.9878296146044625,
          0.9878296146044625,
          0.9898580121703854,
          0.9898580121703854,
          0.9979716024340771,
          0.9979716024340771,
          1,
          1
         ],
         "yaxis": "y"
        }
       ],
       "layout": {
        "autosize": true,
        "legend": {
         "tracegroupgap": 0
        },
        "shapes": [
         {
          "line": {
           "dash": "dash"
          },
          "type": "line",
          "x0": 0,
          "x1": 1,
          "y0": 0,
          "y1": 1
         }
        ],
        "template": {
         "data": {
          "bar": [
           {
            "error_x": {
             "color": "#2a3f5f"
            },
            "error_y": {
             "color": "#2a3f5f"
            },
            "marker": {
             "line": {
              "color": "#E5ECF6",
              "width": 0.5
             },
             "pattern": {
              "fillmode": "overlay",
              "size": 10,
              "solidity": 0.2
             }
            },
            "type": "bar"
           }
          ],
          "barpolar": [
           {
            "marker": {
             "line": {
              "color": "#E5ECF6",
              "width": 0.5
             },
             "pattern": {
              "fillmode": "overlay",
              "size": 10,
              "solidity": 0.2
             }
            },
            "type": "barpolar"
           }
          ],
          "carpet": [
           {
            "aaxis": {
             "endlinecolor": "#2a3f5f",
             "gridcolor": "white",
             "linecolor": "white",
             "minorgridcolor": "white",
             "startlinecolor": "#2a3f5f"
            },
            "baxis": {
             "endlinecolor": "#2a3f5f",
             "gridcolor": "white",
             "linecolor": "white",
             "minorgridcolor": "white",
             "startlinecolor": "#2a3f5f"
            },
            "type": "carpet"
           }
          ],
          "choropleth": [
           {
            "colorbar": {
             "outlinewidth": 0,
             "ticks": ""
            },
            "type": "choropleth"
           }
          ],
          "contour": [
           {
            "colorbar": {
             "outlinewidth": 0,
             "ticks": ""
            },
            "colorscale": [
             [
              0,
              "#0d0887"
             ],
             [
              0.1111111111111111,
              "#46039f"
             ],
             [
              0.2222222222222222,
              "#7201a8"
             ],
             [
              0.3333333333333333,
              "#9c179e"
             ],
             [
              0.4444444444444444,
              "#bd3786"
             ],
             [
              0.5555555555555556,
              "#d8576b"
             ],
             [
              0.6666666666666666,
              "#ed7953"
             ],
             [
              0.7777777777777778,
              "#fb9f3a"
             ],
             [
              0.8888888888888888,
              "#fdca26"
             ],
             [
              1,
              "#f0f921"
             ]
            ],
            "type": "contour"
           }
          ],
          "contourcarpet": [
           {
            "colorbar": {
             "outlinewidth": 0,
             "ticks": ""
            },
            "type": "contourcarpet"
           }
          ],
          "heatmap": [
           {
            "colorbar": {
             "outlinewidth": 0,
             "ticks": ""
            },
            "colorscale": [
             [
              0,
              "#0d0887"
             ],
             [
              0.1111111111111111,
              "#46039f"
             ],
             [
              0.2222222222222222,
              "#7201a8"
             ],
             [
              0.3333333333333333,
              "#9c179e"
             ],
             [
              0.4444444444444444,
              "#bd3786"
             ],
             [
              0.5555555555555556,
              "#d8576b"
             ],
             [
              0.6666666666666666,
              "#ed7953"
             ],
             [
              0.7777777777777778,
              "#fb9f3a"
             ],
             [
              0.8888888888888888,
              "#fdca26"
             ],
             [
              1,
              "#f0f921"
             ]
            ],
            "type": "heatmap"
           }
          ],
          "heatmapgl": [
           {
            "colorbar": {
             "outlinewidth": 0,
             "ticks": ""
            },
            "colorscale": [
             [
              0,
              "#0d0887"
             ],
             [
              0.1111111111111111,
              "#46039f"
             ],
             [
              0.2222222222222222,
              "#7201a8"
             ],
             [
              0.3333333333333333,
              "#9c179e"
             ],
             [
              0.4444444444444444,
              "#bd3786"
             ],
             [
              0.5555555555555556,
              "#d8576b"
             ],
             [
              0.6666666666666666,
              "#ed7953"
             ],
             [
              0.7777777777777778,
              "#fb9f3a"
             ],
             [
              0.8888888888888888,
              "#fdca26"
             ],
             [
              1,
              "#f0f921"
             ]
            ],
            "type": "heatmapgl"
           }
          ],
          "histogram": [
           {
            "marker": {
             "pattern": {
              "fillmode": "overlay",
              "size": 10,
              "solidity": 0.2
             }
            },
            "type": "histogram"
           }
          ],
          "histogram2d": [
           {
            "colorbar": {
             "outlinewidth": 0,
             "ticks": ""
            },
            "colorscale": [
             [
              0,
              "#0d0887"
             ],
             [
              0.1111111111111111,
              "#46039f"
             ],
             [
              0.2222222222222222,
              "#7201a8"
             ],
             [
              0.3333333333333333,
              "#9c179e"
             ],
             [
              0.4444444444444444,
              "#bd3786"
             ],
             [
              0.5555555555555556,
              "#d8576b"
             ],
             [
              0.6666666666666666,
              "#ed7953"
             ],
             [
              0.7777777777777778,
              "#fb9f3a"
             ],
             [
              0.8888888888888888,
              "#fdca26"
             ],
             [
              1,
              "#f0f921"
             ]
            ],
            "type": "histogram2d"
           }
          ],
          "histogram2dcontour": [
           {
            "colorbar": {
             "outlinewidth": 0,
             "ticks": ""
            },
            "colorscale": [
             [
              0,
              "#0d0887"
             ],
             [
              0.1111111111111111,
              "#46039f"
             ],
             [
              0.2222222222222222,
              "#7201a8"
             ],
             [
              0.3333333333333333,
              "#9c179e"
             ],
             [
              0.4444444444444444,
              "#bd3786"
             ],
             [
              0.5555555555555556,
              "#d8576b"
             ],
             [
              0.6666666666666666,
              "#ed7953"
             ],
             [
              0.7777777777777778,
              "#fb9f3a"
             ],
             [
              0.8888888888888888,
              "#fdca26"
             ],
             [
              1,
              "#f0f921"
             ]
            ],
            "type": "histogram2dcontour"
           }
          ],
          "mesh3d": [
           {
            "colorbar": {
             "outlinewidth": 0,
             "ticks": ""
            },
            "type": "mesh3d"
           }
          ],
          "parcoords": [
           {
            "line": {
             "colorbar": {
              "outlinewidth": 0,
              "ticks": ""
             }
            },
            "type": "parcoords"
           }
          ],
          "pie": [
           {
            "automargin": true,
            "type": "pie"
           }
          ],
          "scatter": [
           {
            "fillpattern": {
             "fillmode": "overlay",
             "size": 10,
             "solidity": 0.2
            },
            "type": "scatter"
           }
          ],
          "scatter3d": [
           {
            "line": {
             "colorbar": {
              "outlinewidth": 0,
              "ticks": ""
             }
            },
            "marker": {
             "colorbar": {
              "outlinewidth": 0,
              "ticks": ""
             }
            },
            "type": "scatter3d"
           }
          ],
          "scattercarpet": [
           {
            "marker": {
             "colorbar": {
              "outlinewidth": 0,
              "ticks": ""
             }
            },
            "type": "scattercarpet"
           }
          ],
          "scattergeo": [
           {
            "marker": {
             "colorbar": {
              "outlinewidth": 0,
              "ticks": ""
             }
            },
            "type": "scattergeo"
           }
          ],
          "scattergl": [
           {
            "marker": {
             "colorbar": {
              "outlinewidth": 0,
              "ticks": ""
             }
            },
            "type": "scattergl"
           }
          ],
          "scattermapbox": [
           {
            "marker": {
             "colorbar": {
              "outlinewidth": 0,
              "ticks": ""
             }
            },
            "type": "scattermapbox"
           }
          ],
          "scatterpolar": [
           {
            "marker": {
             "colorbar": {
              "outlinewidth": 0,
              "ticks": ""
             }
            },
            "type": "scatterpolar"
           }
          ],
          "scatterpolargl": [
           {
            "marker": {
             "colorbar": {
              "outlinewidth": 0,
              "ticks": ""
             }
            },
            "type": "scatterpolargl"
           }
          ],
          "scatterternary": [
           {
            "marker": {
             "colorbar": {
              "outlinewidth": 0,
              "ticks": ""
             }
            },
            "type": "scatterternary"
           }
          ],
          "surface": [
           {
            "colorbar": {
             "outlinewidth": 0,
             "ticks": ""
            },
            "colorscale": [
             [
              0,
              "#0d0887"
             ],
             [
              0.1111111111111111,
              "#46039f"
             ],
             [
              0.2222222222222222,
              "#7201a8"
             ],
             [
              0.3333333333333333,
              "#9c179e"
             ],
             [
              0.4444444444444444,
              "#bd3786"
             ],
             [
              0.5555555555555556,
              "#d8576b"
             ],
             [
              0.6666666666666666,
              "#ed7953"
             ],
             [
              0.7777777777777778,
              "#fb9f3a"
             ],
             [
              0.8888888888888888,
              "#fdca26"
             ],
             [
              1,
              "#f0f921"
             ]
            ],
            "type": "surface"
           }
          ],
          "table": [
           {
            "cells": {
             "fill": {
              "color": "#EBF0F8"
             },
             "line": {
              "color": "white"
             }
            },
            "header": {
             "fill": {
              "color": "#C8D4E3"
             },
             "line": {
              "color": "white"
             }
            },
            "type": "table"
           }
          ]
         },
         "layout": {
          "annotationdefaults": {
           "arrowcolor": "#2a3f5f",
           "arrowhead": 0,
           "arrowwidth": 1
          },
          "autotypenumbers": "strict",
          "coloraxis": {
           "colorbar": {
            "outlinewidth": 0,
            "ticks": ""
           }
          },
          "colorscale": {
           "diverging": [
            [
             0,
             "#8e0152"
            ],
            [
             0.1,
             "#c51b7d"
            ],
            [
             0.2,
             "#de77ae"
            ],
            [
             0.3,
             "#f1b6da"
            ],
            [
             0.4,
             "#fde0ef"
            ],
            [
             0.5,
             "#f7f7f7"
            ],
            [
             0.6,
             "#e6f5d0"
            ],
            [
             0.7,
             "#b8e186"
            ],
            [
             0.8,
             "#7fbc41"
            ],
            [
             0.9,
             "#4d9221"
            ],
            [
             1,
             "#276419"
            ]
           ],
           "sequential": [
            [
             0,
             "#0d0887"
            ],
            [
             0.1111111111111111,
             "#46039f"
            ],
            [
             0.2222222222222222,
             "#7201a8"
            ],
            [
             0.3333333333333333,
             "#9c179e"
            ],
            [
             0.4444444444444444,
             "#bd3786"
            ],
            [
             0.5555555555555556,
             "#d8576b"
            ],
            [
             0.6666666666666666,
             "#ed7953"
            ],
            [
             0.7777777777777778,
             "#fb9f3a"
            ],
            [
             0.8888888888888888,
             "#fdca26"
            ],
            [
             1,
             "#f0f921"
            ]
           ],
           "sequentialminus": [
            [
             0,
             "#0d0887"
            ],
            [
             0.1111111111111111,
             "#46039f"
            ],
            [
             0.2222222222222222,
             "#7201a8"
            ],
            [
             0.3333333333333333,
             "#9c179e"
            ],
            [
             0.4444444444444444,
             "#bd3786"
            ],
            [
             0.5555555555555556,
             "#d8576b"
            ],
            [
             0.6666666666666666,
             "#ed7953"
            ],
            [
             0.7777777777777778,
             "#fb9f3a"
            ],
            [
             0.8888888888888888,
             "#fdca26"
            ],
            [
             1,
             "#f0f921"
            ]
           ]
          },
          "colorway": [
           "#636efa",
           "#EF553B",
           "#00cc96",
           "#ab63fa",
           "#FFA15A",
           "#19d3f3",
           "#FF6692",
           "#B6E880",
           "#FF97FF",
           "#FECB52"
          ],
          "font": {
           "color": "#2a3f5f"
          },
          "geo": {
           "bgcolor": "white",
           "lakecolor": "white",
           "landcolor": "#E5ECF6",
           "showlakes": true,
           "showland": true,
           "subunitcolor": "white"
          },
          "hoverlabel": {
           "align": "left"
          },
          "hovermode": "closest",
          "mapbox": {
           "style": "light"
          },
          "paper_bgcolor": "white",
          "plot_bgcolor": "#E5ECF6",
          "polar": {
           "angularaxis": {
            "gridcolor": "white",
            "linecolor": "white",
            "ticks": ""
           },
           "bgcolor": "#E5ECF6",
           "radialaxis": {
            "gridcolor": "white",
            "linecolor": "white",
            "ticks": ""
           }
          },
          "scene": {
           "xaxis": {
            "backgroundcolor": "#E5ECF6",
            "gridcolor": "white",
            "gridwidth": 2,
            "linecolor": "white",
            "showbackground": true,
            "ticks": "",
            "zerolinecolor": "white"
           },
           "yaxis": {
            "backgroundcolor": "#E5ECF6",
            "gridcolor": "white",
            "gridwidth": 2,
            "linecolor": "white",
            "showbackground": true,
            "ticks": "",
            "zerolinecolor": "white"
           },
           "zaxis": {
            "backgroundcolor": "#E5ECF6",
            "gridcolor": "white",
            "gridwidth": 2,
            "linecolor": "white",
            "showbackground": true,
            "ticks": "",
            "zerolinecolor": "white"
           }
          },
          "shapedefaults": {
           "line": {
            "color": "#2a3f5f"
           }
          },
          "ternary": {
           "aaxis": {
            "gridcolor": "white",
            "linecolor": "white",
            "ticks": ""
           },
           "baxis": {
            "gridcolor": "white",
            "linecolor": "white",
            "ticks": ""
           },
           "bgcolor": "#E5ECF6",
           "caxis": {
            "gridcolor": "white",
            "linecolor": "white",
            "ticks": ""
           }
          },
          "title": {
           "x": 0.05
          },
          "xaxis": {
           "automargin": true,
           "gridcolor": "white",
           "linecolor": "white",
           "ticks": "",
           "title": {
            "standoff": 15
           },
           "zerolinecolor": "white",
           "zerolinewidth": 2
          },
          "yaxis": {
           "automargin": true,
           "gridcolor": "white",
           "linecolor": "white",
           "ticks": "",
           "title": {
            "standoff": 15
           },
           "zerolinecolor": "white",
           "zerolinewidth": 2
          }
         }
        },
        "title": {
         "text": "ROC Curve (AUC=0.4866)"
        },
        "xaxis": {
         "anchor": "y",
         "constrain": "domain",
         "domain": [
          0,
          1
         ],
         "title": {
          "text": "False Positive Rate"
         }
        },
        "yaxis": {
         "anchor": "x",
         "domain": [
          0,
          1
         ],
         "scaleanchor": "x",
         "scaleratio": 1,
         "title": {
          "text": "True Positive Rate"
         }
        }
       }
      },
      "text/html": [
       "<div>                            <div id=\"0090d62f-abc8-4ac7-818d-6e10a536a19d\" class=\"plotly-graph-div\" style=\"height:525px; width:100%;\"></div>            <script type=\"text/javascript\">                require([\"plotly\"], function(Plotly) {                    window.PLOTLYENV=window.PLOTLYENV || {};                                    if (document.getElementById(\"0090d62f-abc8-4ac7-818d-6e10a536a19d\")) {                    Plotly.newPlot(                        \"0090d62f-abc8-4ac7-818d-6e10a536a19d\",                        [{\"fillpattern\":{\"shape\":\"\"},\"hovertemplate\":\"False Positive Rate=%{x}<br>True Positive Rate=%{y}<extra></extra>\",\"legendgroup\":\"\",\"line\":{\"color\":\"#636efa\"},\"marker\":{\"symbol\":\"circle\"},\"mode\":\"lines\",\"name\":\"\",\"orientation\":\"v\",\"showlegend\":false,\"stackgroup\":\"1\",\"x\":[0.0,0.0019723865877712033,0.0019723865877712033,0.023668639053254437,0.023668639053254437,0.02564102564102564,0.02564102564102564,0.027613412228796843,0.027613412228796843,0.03353057199211045,0.03353057199211045,0.03550295857988166,0.03550295857988166,0.03747534516765286,0.03747534516765286,0.045364891518737675,0.045364891518737675,0.047337278106508875,0.047337278106508875,0.04930966469428008,0.04930966469428008,0.05917159763313609,0.05917159763313609,0.0631163708086785,0.0631163708086785,0.07297830374753451,0.07297830374753451,0.07495069033530571,0.07495069033530571,0.07692307692307693,0.07692307692307693,0.08086785009861933,0.08086785009861933,0.08481262327416174,0.08481262327416174,0.08678500986193294,0.08678500986193294,0.09072978303747535,0.09072978303747535,0.10059171597633136,0.10059171597633136,0.10256410256410256,0.10256410256410256,0.11045364891518737,0.11045364891518737,0.11242603550295859,0.11242603550295859,0.11439842209072978,0.11439842209072978,0.11637080867850098,0.11637080867850098,0.1203155818540434,0.1203155818540434,0.1242603550295858,0.1242603550295858,0.126232741617357,0.126232741617357,0.1301775147928994,0.1301775147928994,0.1341222879684418,0.1341222879684418,0.13609467455621302,0.13609467455621302,0.14398422090729784,0.14398422090729784,0.15187376725838264,0.15187376725838264,0.15384615384615385,0.15384615384615385,0.15581854043392504,0.15581854043392504,0.15779092702169625,0.15779092702169625,0.16370808678500987,0.16370808678500987,0.16765285996055226,0.16765285996055226,0.17159763313609466,0.17159763313609466,0.1794871794871795,0.1794871794871795,0.1834319526627219,0.1834319526627219,0.1913214990138067,0.1913214990138067,0.1932938856015779,0.1932938856015779,0.20315581854043394,0.20315581854043394,0.21104536489151873,0.21104536489151873,0.21301775147928995,0.21301775147928995,0.21696252465483234,0.21696252465483234,0.21893491124260356,0.21893491124260356,0.22287968441814596,0.22287968441814596,0.22682445759368836,0.22682445759368836,0.23274161735700197,0.23274161735700197,0.23471400394477318,0.23471400394477318,0.23865877712031558,0.23865877712031558,0.2406311637080868,0.2406311637080868,0.24260355029585798,0.24260355029585798,0.2485207100591716,0.2485207100591716,0.2504930966469428,0.2504930966469428,0.252465483234714,0.252465483234714,0.25443786982248523,0.25443786982248523,0.2603550295857988,0.2603550295857988,0.26627218934911245,0.26627218934911245,0.2682445759368836,0.2682445759368836,0.2702169625246548,0.2702169625246548,0.27218934911242604,0.27218934911242604,0.2781065088757396,0.2781065088757396,0.28007889546351084,0.28007889546351084,0.28402366863905326,0.28402366863905326,0.2879684418145957,0.2879684418145957,0.28994082840236685,0.28994082840236685,0.2938856015779093,0.2938856015779093,0.2978303747534517,0.2978303747534517,0.29980276134122286,0.29980276134122286,0.30177514792899407,0.30177514792899407,0.3076923076923077,0.3076923076923077,0.3096646942800789,0.3096646942800789,0.3175542406311637,0.3175542406311637,0.31952662721893493,0.31952662721893493,0.3234714003944773,0.3234714003944773,0.3254437869822485,0.3254437869822485,0.32741617357001973,0.32741617357001973,0.32938856015779094,0.32938856015779094,0.3333333333333333,0.3333333333333333,0.33530571992110453,0.33530571992110453,0.33925049309664695,0.33925049309664695,0.3431952662721893,0.3431952662721893,0.34516765285996054,0.34516765285996054,0.3510848126232742,0.3510848126232742,0.3530571992110454,0.3530571992110454,0.3629191321499014,0.3629191321499014,0.36489151873767256,0.36489151873767256,0.3708086785009862,0.3708086785009862,0.3727810650887574,0.3727810650887574,0.378698224852071,0.378698224852071,0.3806706114398422,0.3806706114398422,0.3826429980276134,0.3826429980276134,0.38461538461538464,0.38461538461538464,0.388560157790927,0.388560157790927,0.39644970414201186,0.39644970414201186,0.398422090729783,0.398422090729783,0.40039447731755423,0.40039447731755423,0.40236686390532544,0.40236686390532544,0.40828402366863903,0.40828402366863903,0.4161735700197239,0.4161735700197239,0.4260355029585799,0.4260355029585799,0.4280078895463511,0.4280078895463511,0.42998027613412226,0.42998027613412226,0.43984220907297833,0.43984220907297833,0.4477317554240631,0.4477317554240631,0.4516765285996055,0.4516765285996055,0.45759368836291914,0.45759368836291914,0.46153846153846156,0.46153846153846156,0.4635108481262327,0.4635108481262327,0.46942800788954636,0.46942800788954636,0.4714003944773176,0.4714003944773176,0.47534516765285995,0.47534516765285995,0.4832347140039448,0.4832347140039448,0.48520710059171596,0.48520710059171596,0.49506903353057197,0.49506903353057197,0.5009861932938856,0.5009861932938856,0.5069033530571992,0.5069033530571992,0.5108481262327417,0.5108481262327417,0.5128205128205128,0.5128205128205128,0.514792899408284,0.514792899408284,0.5167652859960552,0.5167652859960552,0.5226824457593688,0.5226824457593688,0.52465483234714,0.52465483234714,0.5285996055226825,0.5285996055226825,0.5305719921104537,0.5305719921104537,0.5325443786982249,0.5325443786982249,0.5384615384615384,0.5384615384615384,0.5404339250493096,0.5404339250493096,0.5424063116370809,0.5424063116370809,0.5443786982248521,0.5443786982248521,0.5463510848126233,0.5463510848126233,0.5483234714003945,0.5483234714003945,0.5502958579881657,0.5502958579881657,0.5542406311637081,0.5542406311637081,0.5562130177514792,0.5562130177514792,0.5581854043392505,0.5581854043392505,0.5601577909270217,0.5601577909270217,0.5641025641025641,0.5641025641025641,0.5660749506903353,0.5660749506903353,0.5680473372781065,0.5680473372781065,0.5739644970414202,0.5739644970414202,0.5759368836291914,0.5759368836291914,0.5779092702169625,0.5779092702169625,0.5798816568047337,0.5798816568047337,0.5818540433925049,0.5818540433925049,0.5838264299802761,0.5838264299802761,0.5857988165680473,0.5857988165680473,0.5877712031558185,0.5877712031558185,0.5897435897435898,0.5897435897435898,0.591715976331361,0.591715976331361,0.5976331360946746,0.5976331360946746,0.5996055226824457,0.5996055226824457,0.611439842209073,0.611439842209073,0.6134122287968442,0.6134122287968442,0.6173570019723866,0.6173570019723866,0.6252465483234714,0.6252465483234714,0.6272189349112426,0.6272189349112426,0.6291913214990138,0.6291913214990138,0.631163708086785,0.631163708086785,0.6331360946745562,0.6331360946745562,0.6429980276134122,0.6429980276134122,0.6489151873767258,0.6489151873767258,0.650887573964497,0.650887573964497,0.6587771203155819,0.6587771203155819,0.6607495069033531,0.6607495069033531,0.6627218934911243,0.6627218934911243,0.6686390532544378,0.6686390532544378,0.6725838264299803,0.6725838264299803,0.6765285996055227,0.6765285996055227,0.6785009861932939,0.6785009861932939,0.6824457593688363,0.6824457593688363,0.6903353057199211,0.6903353057199211,0.6942800788954635,0.6942800788954635,0.6962524654832347,0.6962524654832347,0.6982248520710059,0.6982248520710059,0.7001972386587771,0.7001972386587771,0.7021696252465484,0.7021696252465484,0.7041420118343196,0.7041420118343196,0.7080867850098619,0.7080867850098619,0.7120315581854043,0.7120315581854043,0.7140039447731755,0.7140039447731755,0.7159763313609467,0.7159763313609467,0.7218934911242604,0.7218934911242604,0.7238658777120316,0.7238658777120316,0.7258382642998028,0.7258382642998028,0.7297830374753451,0.7297830374753451,0.7317554240631163,0.7317554240631163,0.73767258382643,0.73767258382643,0.7455621301775148,0.7455621301775148,0.7495069033530573,0.7495069033530573,0.7534516765285996,0.7534516765285996,0.757396449704142,0.757396449704142,0.7672583826429981,0.7672583826429981,0.7712031558185405,0.7712031558185405,0.7731755424063116,0.7731755424063116,0.7751479289940828,0.7751479289940828,0.777120315581854,0.777120315581854,0.7948717948717948,0.7948717948717948,0.7988165680473372,0.7988165680473372,0.8007889546351085,0.8007889546351085,0.8027613412228797,0.8027613412228797,0.8086785009861933,0.8086785009861933,0.8165680473372781,0.8165680473372781,0.8185404339250493,0.8185404339250493,0.8224852071005917,0.8224852071005917,0.8264299802761341,0.8264299802761341,0.834319526627219,0.834319526627219,0.8382642998027613,0.8382642998027613,0.8402366863905325,0.8402366863905325,0.8422090729783037,0.8422090729783037,0.8461538461538461,0.8461538461538461,0.8481262327416174,0.8481262327416174,0.8500986193293886,0.8500986193293886,0.8560157790927022,0.8560157790927022,0.8599605522682445,0.8599605522682445,0.8619329388560157,0.8619329388560157,0.8698224852071006,0.8698224852071006,0.8717948717948718,0.8717948717948718,0.8777120315581854,0.8777120315581854,0.883629191321499,0.883629191321499,0.8856015779092702,0.8856015779092702,0.8875739644970414,0.8875739644970414,0.8915187376725838,0.8915187376725838,0.8954635108481263,0.8954635108481263,0.8994082840236687,0.8994082840236687,0.903353057199211,0.903353057199211,0.9072978303747534,0.9072978303747534,0.9092702169625246,0.9092702169625246,0.9132149901380671,0.9132149901380671,0.9191321499013807,0.9191321499013807,0.9270216962524654,0.9270216962524654,0.9309664694280079,0.9309664694280079,0.9329388560157791,0.9329388560157791,0.9349112426035503,0.9349112426035503,0.9368836291913215,0.9368836291913215,0.9388560157790927,0.9388560157790927,0.9408284023668639,0.9408284023668639,0.9428007889546351,0.9428007889546351,0.9447731755424064,0.9447731755424064,0.9487179487179487,0.9487179487179487,0.9526627218934911,0.9526627218934911,0.9546351084812623,0.9546351084812623,0.9566074950690335,0.9566074950690335,0.9625246548323472,0.9625246548323472,0.9644970414201184,0.9644970414201184,0.9664694280078896,0.9664694280078896,0.9684418145956607,0.9684418145956607,0.9704142011834319,0.9704142011834319,0.9763313609467456,0.9763313609467456,0.9842209072978304,0.9842209072978304,0.9861932938856016,0.9861932938856016,0.9901380670611439,0.9901380670611439,0.9921104536489151,0.9921104536489151,0.9980276134122288,0.9980276134122288,1.0],\"xaxis\":\"x\",\"y\":[0.0,0.0,0.002028397565922921,0.002028397565922921,0.008113590263691683,0.008113590263691683,0.014198782961460446,0.014198782961460446,0.016227180527383367,0.016227180527383367,0.02434077079107505,0.02434077079107505,0.02636916835699797,0.02636916835699797,0.032454361054766734,0.032454361054766734,0.036511156186612576,0.036511156186612576,0.04462474645030426,0.04462474645030426,0.04665314401622718,0.04665314401622718,0.0486815415821501,0.0486815415821501,0.056795131845841784,0.056795131845841784,0.060851926977687626,0.060851926977687626,0.06490872210953347,0.06490872210953347,0.07505070993914807,0.07505070993914807,0.08113590263691683,0.08113590263691683,0.08316430020283976,0.08316430020283976,0.08519269776876268,0.08519269776876268,0.0872210953346856,0.0872210953346856,0.09533468559837728,0.09533468559837728,0.0973630831643002,0.0973630831643002,0.09939148073022312,0.09939148073022312,0.10141987829614604,0.10141987829614604,0.10547667342799188,0.10547667342799188,0.1075050709939148,0.1075050709939148,0.11359026369168357,0.11359026369168357,0.11561866125760649,0.11561866125760649,0.11764705882352941,0.11764705882352941,0.12373225152129817,0.12373225152129817,0.1257606490872211,0.1257606490872211,0.12981744421906694,0.12981744421906694,0.13387423935091278,0.13387423935091278,0.13793103448275862,0.13793103448275862,0.14807302231237324,0.14807302231237324,0.15010141987829614,0.15010141987829614,0.15415821501014199,0.15415821501014199,0.15618661257606492,0.15618661257606492,0.16024340770791076,0.16024340770791076,0.16227180527383367,0.16227180527383367,0.1663286004056795,0.1663286004056795,0.17038539553752535,0.17038539553752535,0.17647058823529413,0.17647058823529413,0.17849898580121704,0.17849898580121704,0.18052738336713997,0.18052738336713997,0.1845841784989858,0.1845841784989858,0.18864097363083165,0.18864097363083165,0.19066937119675456,0.19066937119675456,0.1926977687626775,0.1926977687626775,0.1947261663286004,0.1947261663286004,0.19675456389452334,0.19675456389452334,0.19878296146044624,0.19878296146044624,0.20081135902636918,0.20081135902636918,0.20486815415821502,0.20486815415821502,0.20689655172413793,0.20689655172413793,0.20892494929006086,0.20892494929006086,0.21095334685598377,0.21095334685598377,0.21703853955375255,0.21703853955375255,0.2231237322515213,0.2231237322515213,0.22515212981744423,0.22515212981744423,0.22718052738336714,0.22718052738336714,0.22920892494929007,0.22920892494929007,0.23123732251521298,0.23123732251521298,0.23529411764705882,0.23529411764705882,0.23732251521298176,0.23732251521298176,0.2434077079107505,0.2434077079107505,0.24746450304259635,0.24746450304259635,0.24949290060851928,0.24949290060851928,0.2515212981744422,0.2515212981744422,0.2535496957403651,0.2535496957403651,0.25760649087221094,0.25760649087221094,0.25963488843813387,0.25963488843813387,0.2657200811359026,0.2657200811359026,0.26774847870182555,0.26774847870182555,0.2697768762677485,0.2697768762677485,0.27586206896551724,0.27586206896551724,0.2839756592292089,0.2839756592292089,0.2920892494929006,0.2920892494929006,0.3002028397565923,0.3002028397565923,0.30425963488843816,0.30425963488843816,0.30831643002028397,0.30831643002028397,0.3103448275862069,0.3103448275862069,0.3144016227180527,0.3144016227180527,0.31643002028397565,0.31643002028397565,0.3204868154158215,0.3204868154158215,0.3225152129817444,0.3225152129817444,0.32454361054766734,0.32454361054766734,0.3265720081135903,0.3265720081135903,0.33468559837728196,0.33468559837728196,0.3367139959432049,0.3367139959432049,0.3407707910750507,0.3407707910750507,0.3448275862068966,0.3448275862068966,0.3488843813387424,0.3488843813387424,0.3509127789046653,0.3509127789046653,0.35496957403651114,0.35496957403651114,0.35699797160243407,0.35699797160243407,0.3630831643002028,0.3630831643002028,0.36511156186612576,0.36511156186612576,0.3671399594320487,0.3671399594320487,0.3691683569979716,0.3691683569979716,0.3813387423935091,0.3813387423935091,0.38742393509127787,0.38742393509127787,0.3894523326572008,0.3894523326572008,0.39148073022312374,0.39148073022312374,0.39553752535496955,0.39553752535496955,0.3995943204868154,0.3995943204868154,0.40365111561866124,0.40365111561866124,0.4117647058823529,0.4117647058823529,0.4158215010141988,0.4158215010141988,0.4239350912778905,0.4239350912778905,0.43204868154158216,0.43204868154158216,0.4381338742393509,0.4381338742393509,0.44016227180527384,0.44016227180527384,0.4462474645030426,0.4462474645030426,0.45233265720081134,0.45233265720081134,0.45841784989858014,0.45841784989858014,0.46247464503042596,0.46247464503042596,0.4645030425963489,0.4645030425963489,0.4665314401622718,0.4665314401622718,0.4787018255578093,0.4787018255578093,0.4847870182555781,0.4847870182555781,0.486815415821501,0.486815415821501,0.48884381338742394,0.48884381338742394,0.4908722109533469,0.4908722109533469,0.49898580121703856,0.49898580121703856,0.5030425963488844,0.5030425963488844,0.5070993914807302,0.5070993914807302,0.5091277890466531,0.5091277890466531,0.5172413793103449,0.5172413793103449,0.5192697768762677,0.5192697768762677,0.5233265720081136,0.5233265720081136,0.5253549695740365,0.5253549695740365,0.5273833671399595,0.5273833671399595,0.5314401622718052,0.5314401622718052,0.5334685598377282,0.5334685598377282,0.537525354969574,0.537525354969574,0.5415821501014199,0.5415821501014199,0.5456389452332657,0.5456389452332657,0.5476673427991886,0.5476673427991886,0.5517241379310345,0.5517241379310345,0.5598377281947262,0.5598377281947262,0.563894523326572,0.563894523326572,0.565922920892495,0.565922920892495,0.5720081135902637,0.5720081135902637,0.5760649087221096,0.5760649087221096,0.5821501014198783,0.5821501014198783,0.5841784989858012,0.5841784989858012,0.5882352941176471,0.5882352941176471,0.59026369168357,0.59026369168357,0.592292089249493,0.592292089249493,0.5943204868154158,0.5943204868154158,0.5963488843813387,0.5963488843813387,0.5983772819472617,0.5983772819472617,0.6044624746450304,0.6044624746450304,0.6064908722109533,0.6064908722109533,0.6105476673427992,0.6105476673427992,0.6146044624746451,0.6146044624746451,0.6227180527383367,0.6227180527383367,0.6348884381338742,0.6348884381338742,0.6369168356997972,0.6369168356997972,0.6389452332657201,0.6389452332657201,0.640973630831643,0.640973630831643,0.6430020283975659,0.6430020283975659,0.6490872210953347,0.6490872210953347,0.6531440162271805,0.6531440162271805,0.6551724137931034,0.6551724137931034,0.6592292089249493,0.6592292089249493,0.6632860040567952,0.6632860040567952,0.6693711967545639,0.6693711967545639,0.6734279918864098,0.6734279918864098,0.6795131845841785,0.6795131845841785,0.6815415821501014,0.6815415821501014,0.6855983772819473,0.6855983772819473,0.6876267748478702,0.6876267748478702,0.6896551724137931,0.6896551724137931,0.6957403651115619,0.6957403651115619,0.7038539553752535,0.7038539553752535,0.7058823529411765,0.7058823529411765,0.7139959432048681,0.7139959432048681,0.716024340770791,0.716024340770791,0.7200811359026369,0.7200811359026369,0.7221095334685599,0.7221095334685599,0.7241379310344828,0.7241379310344828,0.7281947261663286,0.7281947261663286,0.7302231237322515,0.7302231237322515,0.7322515212981744,0.7322515212981744,0.7342799188640974,0.7342799188640974,0.7403651115618661,0.7403651115618661,0.742393509127789,0.742393509127789,0.744421906693712,0.744421906693712,0.7464503042596349,0.7464503042596349,0.7484787018255578,0.7484787018255578,0.7586206896551724,0.7586206896551724,0.7606490872210954,0.7606490872210954,0.7626774847870182,0.7626774847870182,0.7647058823529411,0.7647058823529411,0.7667342799188641,0.7667342799188641,0.7728194726166329,0.7728194726166329,0.7748478701825557,0.7748478701825557,0.7789046653144016,0.7789046653144016,0.7809330628803245,0.7809330628803245,0.7829614604462475,0.7829614604462475,0.7890466531440162,0.7890466531440162,0.7910750507099391,0.7910750507099391,0.795131845841785,0.795131845841785,0.7991886409736308,0.7991886409736308,0.8012170385395537,0.8012170385395537,0.8032454361054767,0.8032454361054767,0.8073022312373225,0.8073022312373225,0.8133874239350912,0.8133874239350912,0.8154158215010142,0.8154158215010142,0.8174442190669371,0.8174442190669371,0.8194726166328601,0.8194726166328601,0.8255578093306288,0.8255578093306288,0.8275862068965517,0.8275862068965517,0.8296146044624746,0.8296146044624746,0.8316430020283976,0.8316430020283976,0.8397565922920892,0.8397565922920892,0.8417849898580122,0.8417849898580122,0.8438133874239351,0.8438133874239351,0.8498985801217038,0.8498985801217038,0.8519269776876268,0.8519269776876268,0.8539553752535497,0.8539553752535497,0.8559837728194726,0.8559837728194726,0.8580121703853956,0.8580121703853956,0.8620689655172413,0.8620689655172413,0.8722109533468559,0.8722109533468559,0.8782961460446247,0.8782961460446247,0.8803245436105477,0.8803245436105477,0.8823529411764706,0.8823529411764706,0.8843813387423936,0.8843813387423936,0.8864097363083164,0.8864097363083164,0.8985801217038539,0.8985801217038539,0.9026369168356998,0.9026369168356998,0.9087221095334685,0.9087221095334685,0.9107505070993914,0.9107505070993914,0.9127789046653144,0.9127789046653144,0.922920892494929,0.922920892494929,0.9249492900608519,0.9249492900608519,0.9290060851926978,0.9290060851926978,0.9350912778904665,0.9350912778904665,0.9371196754563894,0.9371196754563894,0.9411764705882353,0.9411764705882353,0.9432048681541582,0.9432048681541582,0.9452332657200812,0.9452332657200812,0.947261663286004,0.947261663286004,0.949290060851927,0.949290060851927,0.9513184584178499,0.9513184584178499,0.9533468559837728,0.9533468559837728,0.9553752535496958,0.9553752535496958,0.973630831643002,0.973630831643002,0.9756592292089249,0.9756592292089249,0.9817444219066938,0.9817444219066938,0.9858012170385395,0.9858012170385395,0.9878296146044625,0.9878296146044625,0.9898580121703854,0.9898580121703854,0.9979716024340771,0.9979716024340771,1.0,1.0],\"yaxis\":\"y\",\"type\":\"scatter\"}],                        {\"template\":{\"data\":{\"histogram2dcontour\":[{\"type\":\"histogram2dcontour\",\"colorbar\":{\"outlinewidth\":0,\"ticks\":\"\"},\"colorscale\":[[0.0,\"#0d0887\"],[0.1111111111111111,\"#46039f\"],[0.2222222222222222,\"#7201a8\"],[0.3333333333333333,\"#9c179e\"],[0.4444444444444444,\"#bd3786\"],[0.5555555555555556,\"#d8576b\"],[0.6666666666666666,\"#ed7953\"],[0.7777777777777778,\"#fb9f3a\"],[0.8888888888888888,\"#fdca26\"],[1.0,\"#f0f921\"]]}],\"choropleth\":[{\"type\":\"choropleth\",\"colorbar\":{\"outlinewidth\":0,\"ticks\":\"\"}}],\"histogram2d\":[{\"type\":\"histogram2d\",\"colorbar\":{\"outlinewidth\":0,\"ticks\":\"\"},\"colorscale\":[[0.0,\"#0d0887\"],[0.1111111111111111,\"#46039f\"],[0.2222222222222222,\"#7201a8\"],[0.3333333333333333,\"#9c179e\"],[0.4444444444444444,\"#bd3786\"],[0.5555555555555556,\"#d8576b\"],[0.6666666666666666,\"#ed7953\"],[0.7777777777777778,\"#fb9f3a\"],[0.8888888888888888,\"#fdca26\"],[1.0,\"#f0f921\"]]}],\"heatmap\":[{\"type\":\"heatmap\",\"colorbar\":{\"outlinewidth\":0,\"ticks\":\"\"},\"colorscale\":[[0.0,\"#0d0887\"],[0.1111111111111111,\"#46039f\"],[0.2222222222222222,\"#7201a8\"],[0.3333333333333333,\"#9c179e\"],[0.4444444444444444,\"#bd3786\"],[0.5555555555555556,\"#d8576b\"],[0.6666666666666666,\"#ed7953\"],[0.7777777777777778,\"#fb9f3a\"],[0.8888888888888888,\"#fdca26\"],[1.0,\"#f0f921\"]]}],\"heatmapgl\":[{\"type\":\"heatmapgl\",\"colorbar\":{\"outlinewidth\":0,\"ticks\":\"\"},\"colorscale\":[[0.0,\"#0d0887\"],[0.1111111111111111,\"#46039f\"],[0.2222222222222222,\"#7201a8\"],[0.3333333333333333,\"#9c179e\"],[0.4444444444444444,\"#bd3786\"],[0.5555555555555556,\"#d8576b\"],[0.6666666666666666,\"#ed7953\"],[0.7777777777777778,\"#fb9f3a\"],[0.8888888888888888,\"#fdca26\"],[1.0,\"#f0f921\"]]}],\"contourcarpet\":[{\"type\":\"contourcarpet\",\"colorbar\":{\"outlinewidth\":0,\"ticks\":\"\"}}],\"contour\":[{\"type\":\"contour\",\"colorbar\":{\"outlinewidth\":0,\"ticks\":\"\"},\"colorscale\":[[0.0,\"#0d0887\"],[0.1111111111111111,\"#46039f\"],[0.2222222222222222,\"#7201a8\"],[0.3333333333333333,\"#9c179e\"],[0.4444444444444444,\"#bd3786\"],[0.5555555555555556,\"#d8576b\"],[0.6666666666666666,\"#ed7953\"],[0.7777777777777778,\"#fb9f3a\"],[0.8888888888888888,\"#fdca26\"],[1.0,\"#f0f921\"]]}],\"surface\":[{\"type\":\"surface\",\"colorbar\":{\"outlinewidth\":0,\"ticks\":\"\"},\"colorscale\":[[0.0,\"#0d0887\"],[0.1111111111111111,\"#46039f\"],[0.2222222222222222,\"#7201a8\"],[0.3333333333333333,\"#9c179e\"],[0.4444444444444444,\"#bd3786\"],[0.5555555555555556,\"#d8576b\"],[0.6666666666666666,\"#ed7953\"],[0.7777777777777778,\"#fb9f3a\"],[0.8888888888888888,\"#fdca26\"],[1.0,\"#f0f921\"]]}],\"mesh3d\":[{\"type\":\"mesh3d\",\"colorbar\":{\"outlinewidth\":0,\"ticks\":\"\"}}],\"scatter\":[{\"fillpattern\":{\"fillmode\":\"overlay\",\"size\":10,\"solidity\":0.2},\"type\":\"scatter\"}],\"parcoords\":[{\"type\":\"parcoords\",\"line\":{\"colorbar\":{\"outlinewidth\":0,\"ticks\":\"\"}}}],\"scatterpolargl\":[{\"type\":\"scatterpolargl\",\"marker\":{\"colorbar\":{\"outlinewidth\":0,\"ticks\":\"\"}}}],\"bar\":[{\"error_x\":{\"color\":\"#2a3f5f\"},\"error_y\":{\"color\":\"#2a3f5f\"},\"marker\":{\"line\":{\"color\":\"#E5ECF6\",\"width\":0.5},\"pattern\":{\"fillmode\":\"overlay\",\"size\":10,\"solidity\":0.2}},\"type\":\"bar\"}],\"scattergeo\":[{\"type\":\"scattergeo\",\"marker\":{\"colorbar\":{\"outlinewidth\":0,\"ticks\":\"\"}}}],\"scatterpolar\":[{\"type\":\"scatterpolar\",\"marker\":{\"colorbar\":{\"outlinewidth\":0,\"ticks\":\"\"}}}],\"histogram\":[{\"marker\":{\"pattern\":{\"fillmode\":\"overlay\",\"size\":10,\"solidity\":0.2}},\"type\":\"histogram\"}],\"scattergl\":[{\"type\":\"scattergl\",\"marker\":{\"colorbar\":{\"outlinewidth\":0,\"ticks\":\"\"}}}],\"scatter3d\":[{\"type\":\"scatter3d\",\"line\":{\"colorbar\":{\"outlinewidth\":0,\"ticks\":\"\"}},\"marker\":{\"colorbar\":{\"outlinewidth\":0,\"ticks\":\"\"}}}],\"scattermapbox\":[{\"type\":\"scattermapbox\",\"marker\":{\"colorbar\":{\"outlinewidth\":0,\"ticks\":\"\"}}}],\"scatterternary\":[{\"type\":\"scatterternary\",\"marker\":{\"colorbar\":{\"outlinewidth\":0,\"ticks\":\"\"}}}],\"scattercarpet\":[{\"type\":\"scattercarpet\",\"marker\":{\"colorbar\":{\"outlinewidth\":0,\"ticks\":\"\"}}}],\"carpet\":[{\"aaxis\":{\"endlinecolor\":\"#2a3f5f\",\"gridcolor\":\"white\",\"linecolor\":\"white\",\"minorgridcolor\":\"white\",\"startlinecolor\":\"#2a3f5f\"},\"baxis\":{\"endlinecolor\":\"#2a3f5f\",\"gridcolor\":\"white\",\"linecolor\":\"white\",\"minorgridcolor\":\"white\",\"startlinecolor\":\"#2a3f5f\"},\"type\":\"carpet\"}],\"table\":[{\"cells\":{\"fill\":{\"color\":\"#EBF0F8\"},\"line\":{\"color\":\"white\"}},\"header\":{\"fill\":{\"color\":\"#C8D4E3\"},\"line\":{\"color\":\"white\"}},\"type\":\"table\"}],\"barpolar\":[{\"marker\":{\"line\":{\"color\":\"#E5ECF6\",\"width\":0.5},\"pattern\":{\"fillmode\":\"overlay\",\"size\":10,\"solidity\":0.2}},\"type\":\"barpolar\"}],\"pie\":[{\"automargin\":true,\"type\":\"pie\"}]},\"layout\":{\"autotypenumbers\":\"strict\",\"colorway\":[\"#636efa\",\"#EF553B\",\"#00cc96\",\"#ab63fa\",\"#FFA15A\",\"#19d3f3\",\"#FF6692\",\"#B6E880\",\"#FF97FF\",\"#FECB52\"],\"font\":{\"color\":\"#2a3f5f\"},\"hovermode\":\"closest\",\"hoverlabel\":{\"align\":\"left\"},\"paper_bgcolor\":\"white\",\"plot_bgcolor\":\"#E5ECF6\",\"polar\":{\"bgcolor\":\"#E5ECF6\",\"angularaxis\":{\"gridcolor\":\"white\",\"linecolor\":\"white\",\"ticks\":\"\"},\"radialaxis\":{\"gridcolor\":\"white\",\"linecolor\":\"white\",\"ticks\":\"\"}},\"ternary\":{\"bgcolor\":\"#E5ECF6\",\"aaxis\":{\"gridcolor\":\"white\",\"linecolor\":\"white\",\"ticks\":\"\"},\"baxis\":{\"gridcolor\":\"white\",\"linecolor\":\"white\",\"ticks\":\"\"},\"caxis\":{\"gridcolor\":\"white\",\"linecolor\":\"white\",\"ticks\":\"\"}},\"coloraxis\":{\"colorbar\":{\"outlinewidth\":0,\"ticks\":\"\"}},\"colorscale\":{\"sequential\":[[0.0,\"#0d0887\"],[0.1111111111111111,\"#46039f\"],[0.2222222222222222,\"#7201a8\"],[0.3333333333333333,\"#9c179e\"],[0.4444444444444444,\"#bd3786\"],[0.5555555555555556,\"#d8576b\"],[0.6666666666666666,\"#ed7953\"],[0.7777777777777778,\"#fb9f3a\"],[0.8888888888888888,\"#fdca26\"],[1.0,\"#f0f921\"]],\"sequentialminus\":[[0.0,\"#0d0887\"],[0.1111111111111111,\"#46039f\"],[0.2222222222222222,\"#7201a8\"],[0.3333333333333333,\"#9c179e\"],[0.4444444444444444,\"#bd3786\"],[0.5555555555555556,\"#d8576b\"],[0.6666666666666666,\"#ed7953\"],[0.7777777777777778,\"#fb9f3a\"],[0.8888888888888888,\"#fdca26\"],[1.0,\"#f0f921\"]],\"diverging\":[[0,\"#8e0152\"],[0.1,\"#c51b7d\"],[0.2,\"#de77ae\"],[0.3,\"#f1b6da\"],[0.4,\"#fde0ef\"],[0.5,\"#f7f7f7\"],[0.6,\"#e6f5d0\"],[0.7,\"#b8e186\"],[0.8,\"#7fbc41\"],[0.9,\"#4d9221\"],[1,\"#276419\"]]},\"xaxis\":{\"gridcolor\":\"white\",\"linecolor\":\"white\",\"ticks\":\"\",\"title\":{\"standoff\":15},\"zerolinecolor\":\"white\",\"automargin\":true,\"zerolinewidth\":2},\"yaxis\":{\"gridcolor\":\"white\",\"linecolor\":\"white\",\"ticks\":\"\",\"title\":{\"standoff\":15},\"zerolinecolor\":\"white\",\"automargin\":true,\"zerolinewidth\":2},\"scene\":{\"xaxis\":{\"backgroundcolor\":\"#E5ECF6\",\"gridcolor\":\"white\",\"linecolor\":\"white\",\"showbackground\":true,\"ticks\":\"\",\"zerolinecolor\":\"white\",\"gridwidth\":2},\"yaxis\":{\"backgroundcolor\":\"#E5ECF6\",\"gridcolor\":\"white\",\"linecolor\":\"white\",\"showbackground\":true,\"ticks\":\"\",\"zerolinecolor\":\"white\",\"gridwidth\":2},\"zaxis\":{\"backgroundcolor\":\"#E5ECF6\",\"gridcolor\":\"white\",\"linecolor\":\"white\",\"showbackground\":true,\"ticks\":\"\",\"zerolinecolor\":\"white\",\"gridwidth\":2}},\"shapedefaults\":{\"line\":{\"color\":\"#2a3f5f\"}},\"annotationdefaults\":{\"arrowcolor\":\"#2a3f5f\",\"arrowhead\":0,\"arrowwidth\":1},\"geo\":{\"bgcolor\":\"white\",\"landcolor\":\"#E5ECF6\",\"subunitcolor\":\"white\",\"showland\":true,\"showlakes\":true,\"lakecolor\":\"white\"},\"title\":{\"x\":0.05},\"mapbox\":{\"style\":\"light\"}}},\"xaxis\":{\"anchor\":\"y\",\"domain\":[0.0,1.0],\"title\":{\"text\":\"False Positive Rate\"},\"constrain\":\"domain\"},\"yaxis\":{\"anchor\":\"x\",\"domain\":[0.0,1.0],\"title\":{\"text\":\"True Positive Rate\"},\"scaleanchor\":\"x\",\"scaleratio\":1},\"legend\":{\"tracegroupgap\":0},\"title\":{\"text\":\"ROC Curve (AUC=0.4866)\"},\"shapes\":[{\"line\":{\"dash\":\"dash\"},\"type\":\"line\",\"x0\":0,\"x1\":1,\"y0\":0,\"y1\":1}],\"autosize\":true},                        {\"responsive\": true}                    ).then(function(){\n",
       "                            \n",
       "var gd = document.getElementById('0090d62f-abc8-4ac7-818d-6e10a536a19d');\n",
       "var x = new MutationObserver(function (mutations, observer) {{\n",
       "        var display = window.getComputedStyle(gd).display;\n",
       "        if (!display || display === 'none') {{\n",
       "            console.log([gd, 'removed!']);\n",
       "            Plotly.purge(gd);\n",
       "            observer.disconnect();\n",
       "        }}\n",
       "}});\n",
       "\n",
       "// Listen for the removal of the full notebook cells\n",
       "var notebookContainer = gd.closest('#notebook-container');\n",
       "if (notebookContainer) {{\n",
       "    x.observe(notebookContainer, {childList: true});\n",
       "}}\n",
       "\n",
       "// Listen for the clearing of the current output cell\n",
       "var outputEl = gd.closest('.output');\n",
       "if (outputEl) {{\n",
       "    x.observe(outputEl, {childList: true});\n",
       "}}\n",
       "\n",
       "                        })                };                });            </script>        </div>"
      ]
     },
     "metadata": {},
     "output_type": "display_data"
    }
   ],
   "source": [
    "import plotly.express as px\n",
    "\n",
    "fig = px.area(\n",
    "    x=fpr, y=tpr,\n",
    "    title=f'ROC Curve (AUC={metrics.auc(fpr, tpr):.4f})',\n",
    "    labels=dict(x='False Positive Rate', y='True Positive Rate'),\n",
    "    # width=1000, height=500\n",
    ")\n",
    "fig.add_shape(\n",
    "    type='line', line=dict(dash='dash'),\n",
    "    x0=0, x1=1, y0=0, y1=1\n",
    ")\n",
    "fig.update_layout(autosize=True)\n",
    "\n",
    "fig.update_yaxes(scaleanchor=\"x\", scaleratio=1)\n",
    "fig.update_xaxes(constrain='domain')\n",
    "fig.show()"
   ]
  },
  {
   "cell_type": "code",
   "execution_count": 9,
   "metadata": {},
   "outputs": [
    {
     "data": {
      "application/vnd.plotly.v1+json": {
       "config": {
        "plotlyServerURL": "https://plot.ly"
       },
       "data": [
        {
         "line": {
          "color": "blue",
          "width": 2
         },
         "marker": {
          "color": "red",
          "size": 10
         },
         "mode": "lines+markers",
         "type": "scatter",
         "x": [
          0,
          0.002028397565922921,
          0.004056795131845842,
          0.004056795131845842,
          0.010141987829614604,
          0.010141987829614604,
          0.016227180527383367,
          0.016227180527383367,
          0.02028397565922921,
          0.02028397565922921,
          0.02231237322515213,
          0.02231237322515213,
          0.02636916835699797,
          0.02636916835699797,
          0.030425963488843813,
          0.030425963488843813,
          0.032454361054766734,
          0.032454361054766734,
          0.034482758620689655,
          0.034482758620689655,
          0.036511156186612576,
          0.036511156186612576,
          0.04665314401622718,
          0.04665314401622718,
          0.0486815415821501,
          0.0486815415821501,
          0.05476673427991886,
          0.05476673427991886,
          0.058823529411764705,
          0.058823529411764705,
          0.06288032454361055,
          0.06288032454361055,
          0.06896551724137931,
          0.06896551724137931,
          0.07099391480730223,
          0.07099391480730223,
          0.07302231237322515,
          0.07302231237322515,
          0.07707910750507099,
          0.07707910750507099,
          0.08113590263691683,
          0.08113590263691683,
          0.08316430020283976,
          0.08316430020283976,
          0.0872210953346856,
          0.0872210953346856,
          0.09127789046653144,
          0.09127789046653144,
          0.09330628803245436,
          0.09330628803245436,
          0.0973630831643002,
          0.0973630831643002,
          0.10344827586206896,
          0.10344827586206896,
          0.10547667342799188,
          0.10547667342799188,
          0.1075050709939148,
          0.1075050709939148,
          0.10953346855983773,
          0.10953346855983773,
          0.11561866125760649,
          0.11561866125760649,
          0.12170385395537525,
          0.12170385395537525,
          0.12373225152129817,
          0.12373225152129817,
          0.12778904665314403,
          0.12778904665314403,
          0.13184584178498987,
          0.13184584178498987,
          0.13387423935091278,
          0.13387423935091278,
          0.1440162271805274,
          0.1440162271805274,
          0.1460446247464503,
          0.1460446247464503,
          0.14807302231237324,
          0.14807302231237324,
          0.15010141987829614,
          0.15010141987829614,
          0.15212981744421908,
          0.15212981744421908,
          0.15618661257606492,
          0.15618661257606492,
          0.15821501014198783,
          0.15821501014198783,
          0.1663286004056795,
          0.1663286004056795,
          0.16835699797160245,
          0.16835699797160245,
          0.17038539553752535,
          0.17038539553752535,
          0.1724137931034483,
          0.1724137931034483,
          0.1744421906693712,
          0.1744421906693712,
          0.17849898580121704,
          0.17849898580121704,
          0.18052738336713997,
          0.18052738336713997,
          0.18661257606490872,
          0.18661257606490872,
          0.18864097363083165,
          0.18864097363083165,
          0.1926977687626775,
          0.1926977687626775,
          0.1947261663286004,
          0.1947261663286004,
          0.20486815415821502,
          0.20486815415821502,
          0.20689655172413793,
          0.20689655172413793,
          0.20892494929006086,
          0.20892494929006086,
          0.21095334685598377,
          0.21095334685598377,
          0.21703853955375255,
          0.21703853955375255,
          0.2231237322515213,
          0.2231237322515213,
          0.22920892494929007,
          0.22920892494929007,
          0.2332657200811359,
          0.2332657200811359,
          0.23935091277890466,
          0.23935091277890466,
          0.24949290060851928,
          0.24949290060851928,
          0.2515212981744422,
          0.2515212981744422,
          0.2657200811359026,
          0.2657200811359026,
          0.26774847870182555,
          0.26774847870182555,
          0.2718052738336714,
          0.2718052738336714,
          0.2738336713995943,
          0.2738336713995943,
          0.27586206896551724,
          0.27586206896551724,
          0.2839756592292089,
          0.2839756592292089,
          0.2880324543610548,
          0.2880324543610548,
          0.29006085192697767,
          0.29006085192697767,
          0.2920892494929006,
          0.2920892494929006,
          0.2961460446247465,
          0.2961460446247465,
          0.3002028397565923,
          0.3002028397565923,
          0.3022312373225152,
          0.3022312373225152,
          0.30425963488843816,
          0.30425963488843816,
          0.31643002028397565,
          0.31643002028397565,
          0.3225152129817444,
          0.3225152129817444,
          0.3265720081135903,
          0.3265720081135903,
          0.3306288032454361,
          0.3306288032454361,
          0.332657200811359,
          0.332657200811359,
          0.33468559837728196,
          0.33468559837728196,
          0.3367139959432049,
          0.3367139959432049,
          0.33874239350912777,
          0.33874239350912777,
          0.3488843813387424,
          0.3488843813387424,
          0.3509127789046653,
          0.3509127789046653,
          0.35496957403651114,
          0.35496957403651114,
          0.359026369168357,
          0.359026369168357,
          0.3630831643002028,
          0.3630831643002028,
          0.3671399594320487,
          0.3671399594320487,
          0.3691683569979716,
          0.3691683569979716,
          0.3711967545638945,
          0.3711967545638945,
          0.3752535496957404,
          0.3752535496957404,
          0.3793103448275862,
          0.3793103448275862,
          0.3813387423935091,
          0.3813387423935091,
          0.385395537525355,
          0.385395537525355,
          0.3975659229208925,
          0.3975659229208925,
          0.3995943204868154,
          0.3995943204868154,
          0.4117647058823529,
          0.4117647058823529,
          0.41379310344827586,
          0.41379310344827586,
          0.4158215010141988,
          0.4158215010141988,
          0.4279918864097363,
          0.4279918864097363,
          0.4300202839756592,
          0.4300202839756592,
          0.43204868154158216,
          0.43204868154158216,
          0.4381338742393509,
          0.4381338742393509,
          0.4421906693711968,
          0.4421906693711968,
          0.44421906693711966,
          0.44421906693711966,
          0.4462474645030426,
          0.4462474645030426,
          0.4482758620689655,
          0.4482758620689655,
          0.45233265720081134,
          0.45233265720081134,
          0.4543610547667343,
          0.4543610547667343,
          0.4563894523326572,
          0.4563894523326572,
          0.4685598377281947,
          0.4685598377281947,
          0.47058823529411764,
          0.47058823529411764,
          0.4726166328600406,
          0.4726166328600406,
          0.4787018255578093,
          0.4787018255578093,
          0.48073022312373226,
          0.48073022312373226,
          0.4827586206896552,
          0.4827586206896552,
          0.4847870182555781,
          0.4847870182555781,
          0.486815415821501,
          0.486815415821501,
          0.48884381338742394,
          0.48884381338742394,
          0.49290060851926976,
          0.49290060851926976,
          0.4949290060851927,
          0.4949290060851927,
          0.4969574036511156,
          0.4969574036511156,
          0.49898580121703856,
          0.49898580121703856,
          0.5030425963488844,
          0.5030425963488844,
          0.5050709939148073,
          0.5050709939148073,
          0.5091277890466531,
          0.5091277890466531,
          0.5111561866125761,
          0.5111561866125761,
          0.513184584178499,
          0.513184584178499,
          0.5172413793103449,
          0.5172413793103449,
          0.5192697768762677,
          0.5192697768762677,
          0.5233265720081136,
          0.5233265720081136,
          0.5253549695740365,
          0.5253549695740365,
          0.5273833671399595,
          0.5273833671399595,
          0.5314401622718052,
          0.5314401622718052,
          0.539553752535497,
          0.539553752535497,
          0.5415821501014199,
          0.5415821501014199,
          0.5436105476673428,
          0.5436105476673428,
          0.5517241379310345,
          0.5517241379310345,
          0.5537525354969574,
          0.5537525354969574,
          0.5578093306288032,
          0.5578093306288032,
          0.5598377281947262,
          0.5598377281947262,
          0.5618661257606491,
          0.5618661257606491,
          0.565922920892495,
          0.565922920892495,
          0.5720081135902637,
          0.5720081135902637,
          0.5760649087221096,
          0.5760649087221096,
          0.5780933062880325,
          0.5780933062880325,
          0.5801217038539553,
          0.5801217038539553,
          0.5841784989858012,
          0.5841784989858012,
          0.5862068965517241,
          0.5862068965517241,
          0.5882352941176471,
          0.5882352941176471,
          0.59026369168357,
          0.59026369168357,
          0.5943204868154158,
          0.5943204868154158,
          0.5963488843813387,
          0.5963488843813387,
          0.5983772819472617,
          0.5983772819472617,
          0.6004056795131846,
          0.6004056795131846,
          0.6024340770791075,
          0.6024340770791075,
          0.6044624746450304,
          0.6044624746450304,
          0.6085192697768763,
          0.6085192697768763,
          0.6105476673427992,
          0.6105476673427992,
          0.6125760649087221,
          0.6125760649087221,
          0.6166328600405679,
          0.6166328600405679,
          0.6227180527383367,
          0.6227180527383367,
          0.6247464503042597,
          0.6247464503042597,
          0.6288032454361054,
          0.6288032454361054,
          0.6308316430020284,
          0.6308316430020284,
          0.6328600405679513,
          0.6328600405679513,
          0.6348884381338742,
          0.6348884381338742,
          0.640973630831643,
          0.640973630831643,
          0.6490872210953347,
          0.6490872210953347,
          0.6531440162271805,
          0.6531440162271805,
          0.6551724137931034,
          0.6551724137931034,
          0.6572008113590264,
          0.6572008113590264,
          0.6592292089249493,
          0.6592292089249493,
          0.6612576064908722,
          0.6612576064908722,
          0.6693711967545639,
          0.6693711967545639,
          0.6713995943204868,
          0.6713995943204868,
          0.6734279918864098,
          0.6734279918864098,
          0.6754563894523327,
          0.6754563894523327,
          0.6774847870182555,
          0.6774847870182555,
          0.6855983772819473,
          0.6855983772819473,
          0.6957403651115619,
          0.6957403651115619,
          0.7018255578093306,
          0.7018255578093306,
          0.7038539553752535,
          0.7038539553752535,
          0.7079107505070994,
          0.7079107505070994,
          0.7119675456389453,
          0.7119675456389453,
          0.7139959432048681,
          0.7139959432048681,
          0.716024340770791,
          0.716024340770791,
          0.7221095334685599,
          0.7221095334685599,
          0.7261663286004056,
          0.7261663286004056,
          0.7281947261663286,
          0.7281947261663286,
          0.7322515212981744,
          0.7322515212981744,
          0.7342799188640974,
          0.7342799188640974,
          0.7545638945233266,
          0.7545638945233266,
          0.7565922920892495,
          0.7565922920892495,
          0.7728194726166329,
          0.7728194726166329,
          0.7748478701825557,
          0.7748478701825557,
          0.7768762677484787,
          0.7768762677484787,
          0.7849898580121704,
          0.7849898580121704,
          0.7931034482758621,
          0.7931034482758621,
          0.7991886409736308,
          0.7991886409736308,
          0.8032454361054767,
          0.8032454361054767,
          0.8093306288032455,
          0.8093306288032455,
          0.8113590263691683,
          0.8113590263691683,
          0.8133874239350912,
          0.8133874239350912,
          0.8154158215010142,
          0.8154158215010142,
          0.8194726166328601,
          0.8194726166328601,
          0.8235294117647058,
          0.8235294117647058,
          0.8275862068965517,
          0.8275862068965517,
          0.8296146044624746,
          0.8296146044624746,
          0.8336713995943205,
          0.8336713995943205,
          0.845841784989858,
          0.845841784989858,
          0.847870182555781,
          0.847870182555781,
          0.8498985801217038,
          0.8498985801217038,
          0.8539553752535497,
          0.8539553752535497,
          0.8580121703853956,
          0.8580121703853956,
          0.8600405679513184,
          0.8600405679513184,
          0.8640973630831643,
          0.8640973630831643,
          0.8661257606490872,
          0.8661257606490872,
          0.8681541582150102,
          0.8681541582150102,
          0.8701825557809331,
          0.8701825557809331,
          0.8742393509127789,
          0.8742393509127789,
          0.8762677484787018,
          0.8762677484787018,
          0.8823529411764706,
          0.8823529411764706,
          0.8864097363083164,
          0.8864097363083164,
          0.8884381338742393,
          0.8884381338742393,
          0.8945233265720081,
          0.8945233265720081,
          0.896551724137931,
          0.896551724137931,
          0.9006085192697769,
          0.9006085192697769,
          0.9046653144016227,
          0.9046653144016227,
          0.9066937119675457,
          0.9066937119675457,
          0.9107505070993914,
          0.9107505070993914,
          0.9127789046653144,
          0.9127789046653144,
          0.9168356997971603,
          0.9168356997971603,
          0.9188640973630832,
          0.9188640973630832,
          0.920892494929006,
          0.920892494929006,
          0.9330628803245437,
          0.9330628803245437,
          0.9350912778904665,
          0.9350912778904665,
          0.9371196754563894,
          0.9371196754563894,
          0.9411764705882353,
          0.9411764705882353,
          0.9432048681541582,
          0.9432048681541582,
          0.9452332657200812,
          0.9452332657200812,
          0.949290060851927,
          0.949290060851927,
          0.9513184584178499,
          0.9513184584178499,
          0.9553752535496958,
          0.9553752535496958,
          0.9634888438133874,
          0.9634888438133874,
          0.9655172413793104,
          0.9655172413793104,
          0.9675456389452333,
          0.9675456389452333,
          0.9695740365111561,
          0.9695740365111561,
          0.9817444219066938,
          0.9817444219066938,
          0.9858012170385395,
          0.9858012170385395,
          0.9898580121703854,
          0.9898580121703854,
          0.9918864097363083,
          0.9918864097363083,
          0.9939148073022313,
          0.9939148073022313,
          0.9959432048681541,
          0.9959432048681541,
          0.9979716024340771,
          0.9979716024340771,
          1,
          1
         ],
         "y": [
          0,
          0,
          0,
          0.005917159763313609,
          0.005917159763313609,
          0.009861932938856016,
          0.009861932938856016,
          0.011834319526627219,
          0.011834319526627219,
          0.021696252465483234,
          0.021696252465483234,
          0.023668639053254437,
          0.023668639053254437,
          0.029585798816568046,
          0.029585798816568046,
          0.03155818540433925,
          0.03155818540433925,
          0.03353057199211045,
          0.03353057199211045,
          0.03550295857988166,
          0.03550295857988166,
          0.03747534516765286,
          0.03747534516765286,
          0.04142011834319527,
          0.04142011834319527,
          0.047337278106508875,
          0.047337278106508875,
          0.055226824457593686,
          0.055226824457593686,
          0.0650887573964497,
          0.0650887573964497,
          0.06903353057199212,
          0.06903353057199212,
          0.07297830374753451,
          0.07297830374753451,
          0.07495069033530571,
          0.07495069033530571,
          0.08086785009861933,
          0.08086785009861933,
          0.08284023668639054,
          0.08284023668639054,
          0.08481262327416174,
          0.08481262327416174,
          0.09072978303747535,
          0.09072978303747535,
          0.09270216962524655,
          0.09270216962524655,
          0.09467455621301775,
          0.09467455621301775,
          0.09664694280078895,
          0.09664694280078895,
          0.09861932938856016,
          0.09861932938856016,
          0.10059171597633136,
          0.10059171597633136,
          0.10650887573964497,
          0.10650887573964497,
          0.11045364891518737,
          0.11045364891518737,
          0.11242603550295859,
          0.11242603550295859,
          0.11439842209072978,
          0.11439842209072978,
          0.1203155818540434,
          0.1203155818540434,
          0.126232741617357,
          0.126232741617357,
          0.1282051282051282,
          0.1282051282051282,
          0.1341222879684418,
          0.1341222879684418,
          0.13609467455621302,
          0.13609467455621302,
          0.14003944773175542,
          0.14003944773175542,
          0.14201183431952663,
          0.14201183431952663,
          0.14990138067061143,
          0.14990138067061143,
          0.15384615384615385,
          0.15384615384615385,
          0.15581854043392504,
          0.15581854043392504,
          0.16370808678500987,
          0.16370808678500987,
          0.16765285996055226,
          0.16765285996055226,
          0.16962524654832348,
          0.16962524654832348,
          0.17159763313609466,
          0.17159763313609466,
          0.17357001972386588,
          0.17357001972386588,
          0.1755424063116371,
          0.1755424063116371,
          0.17751479289940827,
          0.17751479289940827,
          0.1794871794871795,
          0.1794871794871795,
          0.1814595660749507,
          0.1814595660749507,
          0.1834319526627219,
          0.1834319526627219,
          0.1854043392504931,
          0.1854043392504931,
          0.1873767258382643,
          0.1873767258382643,
          0.1893491124260355,
          0.1893491124260355,
          0.1913214990138067,
          0.1913214990138067,
          0.1932938856015779,
          0.1932938856015779,
          0.1952662721893491,
          0.1952662721893491,
          0.1992110453648915,
          0.1992110453648915,
          0.20315581854043394,
          0.20315581854043394,
          0.20512820512820512,
          0.20512820512820512,
          0.20710059171597633,
          0.20710059171597633,
          0.22090729783037474,
          0.22090729783037474,
          0.22287968441814596,
          0.22287968441814596,
          0.22879684418145957,
          0.22879684418145957,
          0.23274161735700197,
          0.23274161735700197,
          0.23471400394477318,
          0.23471400394477318,
          0.23865877712031558,
          0.23865877712031558,
          0.2406311637080868,
          0.2406311637080868,
          0.2445759368836292,
          0.2445759368836292,
          0.2465483234714004,
          0.2465483234714004,
          0.2485207100591716,
          0.2485207100591716,
          0.252465483234714,
          0.252465483234714,
          0.25443786982248523,
          0.25443786982248523,
          0.2564102564102564,
          0.2564102564102564,
          0.2603550295857988,
          0.2603550295857988,
          0.26627218934911245,
          0.26627218934911245,
          0.27613412228796846,
          0.27613412228796846,
          0.28205128205128205,
          0.28205128205128205,
          0.28402366863905326,
          0.28402366863905326,
          0.2958579881656805,
          0.2958579881656805,
          0.2978303747534517,
          0.2978303747534517,
          0.29980276134122286,
          0.29980276134122286,
          0.3057199211045365,
          0.3057199211045365,
          0.3116370808678501,
          0.3116370808678501,
          0.3234714003944773,
          0.3234714003944773,
          0.3254437869822485,
          0.3254437869822485,
          0.32741617357001973,
          0.32741617357001973,
          0.32938856015779094,
          0.32938856015779094,
          0.33136094674556216,
          0.33136094674556216,
          0.33530571992110453,
          0.33530571992110453,
          0.33925049309664695,
          0.33925049309664695,
          0.3431952662721893,
          0.3431952662721893,
          0.34516765285996054,
          0.34516765285996054,
          0.34714003944773175,
          0.34714003944773175,
          0.34911242603550297,
          0.34911242603550297,
          0.3530571992110454,
          0.3530571992110454,
          0.35502958579881655,
          0.35502958579881655,
          0.3609467455621302,
          0.3609467455621302,
          0.3629191321499014,
          0.3629191321499014,
          0.36489151873767256,
          0.36489151873767256,
          0.3668639053254438,
          0.3668639053254438,
          0.368836291913215,
          0.368836291913215,
          0.3727810650887574,
          0.3727810650887574,
          0.3767258382642998,
          0.3767258382642998,
          0.378698224852071,
          0.378698224852071,
          0.398422090729783,
          0.398422090729783,
          0.40433925049309666,
          0.40433925049309666,
          0.40631163708086787,
          0.40631163708086787,
          0.41420118343195267,
          0.41420118343195267,
          0.42209072978303747,
          0.42209072978303747,
          0.4240631163708087,
          0.4240631163708087,
          0.4280078895463511,
          0.4280078895463511,
          0.42998027613412226,
          0.42998027613412226,
          0.4339250493096647,
          0.4339250493096647,
          0.4378698224852071,
          0.4378698224852071,
          0.43984220907297833,
          0.43984220907297833,
          0.4437869822485207,
          0.4437869822485207,
          0.4477317554240631,
          0.4477317554240631,
          0.4516765285996055,
          0.4516765285996055,
          0.4536489151873767,
          0.4536489151873767,
          0.45759368836291914,
          0.45759368836291914,
          0.45956607495069035,
          0.45956607495069035,
          0.46745562130177515,
          0.46745562130177515,
          0.46942800788954636,
          0.46942800788954636,
          0.4714003944773176,
          0.4714003944773176,
          0.47731755424063116,
          0.47731755424063116,
          0.4832347140039448,
          0.4832347140039448,
          0.48520710059171596,
          0.48520710059171596,
          0.5009861932938856,
          0.5009861932938856,
          0.504930966469428,
          0.504930966469428,
          0.5069033530571992,
          0.5069033530571992,
          0.5088757396449705,
          0.5088757396449705,
          0.5128205128205128,
          0.5128205128205128,
          0.5167652859960552,
          0.5167652859960552,
          0.5187376725838264,
          0.5187376725838264,
          0.5207100591715976,
          0.5207100591715976,
          0.5226824457593688,
          0.5226824457593688,
          0.5325443786982249,
          0.5325443786982249,
          0.5404339250493096,
          0.5404339250493096,
          0.5424063116370809,
          0.5424063116370809,
          0.5443786982248521,
          0.5443786982248521,
          0.5463510848126233,
          0.5463510848126233,
          0.5502958579881657,
          0.5502958579881657,
          0.5522682445759369,
          0.5522682445759369,
          0.5562130177514792,
          0.5562130177514792,
          0.5601577909270217,
          0.5601577909270217,
          0.5660749506903353,
          0.5660749506903353,
          0.5700197238658777,
          0.5700197238658777,
          0.571992110453649,
          0.571992110453649,
          0.5739644970414202,
          0.5739644970414202,
          0.5759368836291914,
          0.5759368836291914,
          0.5798816568047337,
          0.5798816568047337,
          0.5818540433925049,
          0.5818540433925049,
          0.5838264299802761,
          0.5838264299802761,
          0.6055226824457594,
          0.6055226824457594,
          0.6094674556213018,
          0.6094674556213018,
          0.6134122287968442,
          0.6134122287968442,
          0.621301775147929,
          0.621301775147929,
          0.6252465483234714,
          0.6252465483234714,
          0.6272189349112426,
          0.6272189349112426,
          0.6291913214990138,
          0.6291913214990138,
          0.631163708086785,
          0.631163708086785,
          0.6331360946745562,
          0.6331360946745562,
          0.6351084812623274,
          0.6351084812623274,
          0.6390532544378699,
          0.6390532544378699,
          0.6410256410256411,
          0.6410256410256411,
          0.6429980276134122,
          0.6429980276134122,
          0.6449704142011834,
          0.6449704142011834,
          0.6469428007889546,
          0.6469428007889546,
          0.650887573964497,
          0.650887573964497,
          0.6528599605522682,
          0.6528599605522682,
          0.6607495069033531,
          0.6607495069033531,
          0.6627218934911243,
          0.6627218934911243,
          0.6706114398422091,
          0.6706114398422091,
          0.6863905325443787,
          0.6863905325443787,
          0.6883629191321499,
          0.6883629191321499,
          0.6942800788954635,
          0.6942800788954635,
          0.6962524654832347,
          0.6962524654832347,
          0.6982248520710059,
          0.6982248520710059,
          0.7001972386587771,
          0.7001972386587771,
          0.7041420118343196,
          0.7041420118343196,
          0.7061143984220908,
          0.7061143984220908,
          0.7080867850098619,
          0.7080867850098619,
          0.7120315581854043,
          0.7120315581854043,
          0.7140039447731755,
          0.7140039447731755,
          0.7159763313609467,
          0.7159763313609467,
          0.7199211045364892,
          0.7199211045364892,
          0.7317554240631163,
          0.7317554240631163,
          0.7337278106508875,
          0.7337278106508875,
          0.7396449704142012,
          0.7396449704142012,
          0.747534516765286,
          0.747534516765286,
          0.7514792899408284,
          0.7514792899408284,
          0.7554240631163708,
          0.7554240631163708,
          0.757396449704142,
          0.757396449704142,
          0.7593688362919132,
          0.7593688362919132,
          0.7613412228796844,
          0.7613412228796844,
          0.7652859960552268,
          0.7652859960552268,
          0.7712031558185405,
          0.7712031558185405,
          0.7731755424063116,
          0.7731755424063116,
          0.7790927021696252,
          0.7790927021696252,
          0.7810650887573964,
          0.7810650887573964,
          0.7830374753451677,
          0.7830374753451677,
          0.7850098619329389,
          0.7850098619329389,
          0.7889546351084813,
          0.7889546351084813,
          0.7928994082840237,
          0.7928994082840237,
          0.8027613412228797,
          0.8027613412228797,
          0.8047337278106509,
          0.8047337278106509,
          0.8086785009861933,
          0.8086785009861933,
          0.8126232741617357,
          0.8126232741617357,
          0.814595660749507,
          0.814595660749507,
          0.8205128205128205,
          0.8205128205128205,
          0.8224852071005917,
          0.8224852071005917,
          0.8244575936883629,
          0.8244575936883629,
          0.8264299802761341,
          0.8264299802761341,
          0.834319526627219,
          0.834319526627219,
          0.8362919132149902,
          0.8362919132149902,
          0.8422090729783037,
          0.8422090729783037,
          0.8520710059171598,
          0.8520710059171598,
          0.854043392504931,
          0.854043392504931,
          0.8560157790927022,
          0.8560157790927022,
          0.8619329388560157,
          0.8619329388560157,
          0.863905325443787,
          0.863905325443787,
          0.8678500986193294,
          0.8678500986193294,
          0.8698224852071006,
          0.8698224852071006,
          0.873767258382643,
          0.873767258382643,
          0.8757396449704142,
          0.8757396449704142,
          0.8796844181459567,
          0.8796844181459567,
          0.883629191321499,
          0.883629191321499,
          0.8856015779092702,
          0.8856015779092702,
          0.8895463510848126,
          0.8895463510848126,
          0.8994082840236687,
          0.8994082840236687,
          0.9013806706114399,
          0.9013806706114399,
          0.903353057199211,
          0.903353057199211,
          0.9072978303747534,
          0.9072978303747534,
          0.9132149901380671,
          0.9132149901380671,
          0.9171597633136095,
          0.9171597633136095,
          0.9270216962524654,
          0.9270216962524654,
          0.9289940828402367,
          0.9289940828402367,
          0.9309664694280079,
          0.9309664694280079,
          0.9349112426035503,
          0.9349112426035503,
          0.9428007889546351,
          0.9428007889546351,
          0.9487179487179487,
          0.9487179487179487,
          0.9506903353057199,
          0.9506903353057199,
          0.9546351084812623,
          0.9546351084812623,
          0.9566074950690335,
          0.9566074950690335,
          0.960552268244576,
          0.960552268244576,
          0.9644970414201184,
          0.9644970414201184,
          0.9664694280078896,
          0.9664694280078896,
          0.9684418145956607,
          0.9684418145956607,
          0.9704142011834319,
          0.9704142011834319,
          0.9723865877712031,
          0.9723865877712031,
          0.9743589743589743,
          0.9743589743589743,
          0.9763313609467456,
          0.9763313609467456,
          0.9783037475345168,
          0.9783037475345168,
          0.9822485207100592,
          0.9822485207100592,
          0.9842209072978304,
          0.9842209072978304,
          0.9861932938856016,
          0.9861932938856016,
          0.9960552268244576,
          0.9960552268244576,
          0.9980276134122288,
          0.9980276134122288,
          1
         ]
        }
       ],
       "layout": {
        "template": {
         "data": {
          "bar": [
           {
            "error_x": {
             "color": "#2a3f5f"
            },
            "error_y": {
             "color": "#2a3f5f"
            },
            "marker": {
             "line": {
              "color": "#E5ECF6",
              "width": 0.5
             },
             "pattern": {
              "fillmode": "overlay",
              "size": 10,
              "solidity": 0.2
             }
            },
            "type": "bar"
           }
          ],
          "barpolar": [
           {
            "marker": {
             "line": {
              "color": "#E5ECF6",
              "width": 0.5
             },
             "pattern": {
              "fillmode": "overlay",
              "size": 10,
              "solidity": 0.2
             }
            },
            "type": "barpolar"
           }
          ],
          "carpet": [
           {
            "aaxis": {
             "endlinecolor": "#2a3f5f",
             "gridcolor": "white",
             "linecolor": "white",
             "minorgridcolor": "white",
             "startlinecolor": "#2a3f5f"
            },
            "baxis": {
             "endlinecolor": "#2a3f5f",
             "gridcolor": "white",
             "linecolor": "white",
             "minorgridcolor": "white",
             "startlinecolor": "#2a3f5f"
            },
            "type": "carpet"
           }
          ],
          "choropleth": [
           {
            "colorbar": {
             "outlinewidth": 0,
             "ticks": ""
            },
            "type": "choropleth"
           }
          ],
          "contour": [
           {
            "colorbar": {
             "outlinewidth": 0,
             "ticks": ""
            },
            "colorscale": [
             [
              0,
              "#0d0887"
             ],
             [
              0.1111111111111111,
              "#46039f"
             ],
             [
              0.2222222222222222,
              "#7201a8"
             ],
             [
              0.3333333333333333,
              "#9c179e"
             ],
             [
              0.4444444444444444,
              "#bd3786"
             ],
             [
              0.5555555555555556,
              "#d8576b"
             ],
             [
              0.6666666666666666,
              "#ed7953"
             ],
             [
              0.7777777777777778,
              "#fb9f3a"
             ],
             [
              0.8888888888888888,
              "#fdca26"
             ],
             [
              1,
              "#f0f921"
             ]
            ],
            "type": "contour"
           }
          ],
          "contourcarpet": [
           {
            "colorbar": {
             "outlinewidth": 0,
             "ticks": ""
            },
            "type": "contourcarpet"
           }
          ],
          "heatmap": [
           {
            "colorbar": {
             "outlinewidth": 0,
             "ticks": ""
            },
            "colorscale": [
             [
              0,
              "#0d0887"
             ],
             [
              0.1111111111111111,
              "#46039f"
             ],
             [
              0.2222222222222222,
              "#7201a8"
             ],
             [
              0.3333333333333333,
              "#9c179e"
             ],
             [
              0.4444444444444444,
              "#bd3786"
             ],
             [
              0.5555555555555556,
              "#d8576b"
             ],
             [
              0.6666666666666666,
              "#ed7953"
             ],
             [
              0.7777777777777778,
              "#fb9f3a"
             ],
             [
              0.8888888888888888,
              "#fdca26"
             ],
             [
              1,
              "#f0f921"
             ]
            ],
            "type": "heatmap"
           }
          ],
          "heatmapgl": [
           {
            "colorbar": {
             "outlinewidth": 0,
             "ticks": ""
            },
            "colorscale": [
             [
              0,
              "#0d0887"
             ],
             [
              0.1111111111111111,
              "#46039f"
             ],
             [
              0.2222222222222222,
              "#7201a8"
             ],
             [
              0.3333333333333333,
              "#9c179e"
             ],
             [
              0.4444444444444444,
              "#bd3786"
             ],
             [
              0.5555555555555556,
              "#d8576b"
             ],
             [
              0.6666666666666666,
              "#ed7953"
             ],
             [
              0.7777777777777778,
              "#fb9f3a"
             ],
             [
              0.8888888888888888,
              "#fdca26"
             ],
             [
              1,
              "#f0f921"
             ]
            ],
            "type": "heatmapgl"
           }
          ],
          "histogram": [
           {
            "marker": {
             "pattern": {
              "fillmode": "overlay",
              "size": 10,
              "solidity": 0.2
             }
            },
            "type": "histogram"
           }
          ],
          "histogram2d": [
           {
            "colorbar": {
             "outlinewidth": 0,
             "ticks": ""
            },
            "colorscale": [
             [
              0,
              "#0d0887"
             ],
             [
              0.1111111111111111,
              "#46039f"
             ],
             [
              0.2222222222222222,
              "#7201a8"
             ],
             [
              0.3333333333333333,
              "#9c179e"
             ],
             [
              0.4444444444444444,
              "#bd3786"
             ],
             [
              0.5555555555555556,
              "#d8576b"
             ],
             [
              0.6666666666666666,
              "#ed7953"
             ],
             [
              0.7777777777777778,
              "#fb9f3a"
             ],
             [
              0.8888888888888888,
              "#fdca26"
             ],
             [
              1,
              "#f0f921"
             ]
            ],
            "type": "histogram2d"
           }
          ],
          "histogram2dcontour": [
           {
            "colorbar": {
             "outlinewidth": 0,
             "ticks": ""
            },
            "colorscale": [
             [
              0,
              "#0d0887"
             ],
             [
              0.1111111111111111,
              "#46039f"
             ],
             [
              0.2222222222222222,
              "#7201a8"
             ],
             [
              0.3333333333333333,
              "#9c179e"
             ],
             [
              0.4444444444444444,
              "#bd3786"
             ],
             [
              0.5555555555555556,
              "#d8576b"
             ],
             [
              0.6666666666666666,
              "#ed7953"
             ],
             [
              0.7777777777777778,
              "#fb9f3a"
             ],
             [
              0.8888888888888888,
              "#fdca26"
             ],
             [
              1,
              "#f0f921"
             ]
            ],
            "type": "histogram2dcontour"
           }
          ],
          "mesh3d": [
           {
            "colorbar": {
             "outlinewidth": 0,
             "ticks": ""
            },
            "type": "mesh3d"
           }
          ],
          "parcoords": [
           {
            "line": {
             "colorbar": {
              "outlinewidth": 0,
              "ticks": ""
             }
            },
            "type": "parcoords"
           }
          ],
          "pie": [
           {
            "automargin": true,
            "type": "pie"
           }
          ],
          "scatter": [
           {
            "fillpattern": {
             "fillmode": "overlay",
             "size": 10,
             "solidity": 0.2
            },
            "type": "scatter"
           }
          ],
          "scatter3d": [
           {
            "line": {
             "colorbar": {
              "outlinewidth": 0,
              "ticks": ""
             }
            },
            "marker": {
             "colorbar": {
              "outlinewidth": 0,
              "ticks": ""
             }
            },
            "type": "scatter3d"
           }
          ],
          "scattercarpet": [
           {
            "marker": {
             "colorbar": {
              "outlinewidth": 0,
              "ticks": ""
             }
            },
            "type": "scattercarpet"
           }
          ],
          "scattergeo": [
           {
            "marker": {
             "colorbar": {
              "outlinewidth": 0,
              "ticks": ""
             }
            },
            "type": "scattergeo"
           }
          ],
          "scattergl": [
           {
            "marker": {
             "colorbar": {
              "outlinewidth": 0,
              "ticks": ""
             }
            },
            "type": "scattergl"
           }
          ],
          "scattermapbox": [
           {
            "marker": {
             "colorbar": {
              "outlinewidth": 0,
              "ticks": ""
             }
            },
            "type": "scattermapbox"
           }
          ],
          "scatterpolar": [
           {
            "marker": {
             "colorbar": {
              "outlinewidth": 0,
              "ticks": ""
             }
            },
            "type": "scatterpolar"
           }
          ],
          "scatterpolargl": [
           {
            "marker": {
             "colorbar": {
              "outlinewidth": 0,
              "ticks": ""
             }
            },
            "type": "scatterpolargl"
           }
          ],
          "scatterternary": [
           {
            "marker": {
             "colorbar": {
              "outlinewidth": 0,
              "ticks": ""
             }
            },
            "type": "scatterternary"
           }
          ],
          "surface": [
           {
            "colorbar": {
             "outlinewidth": 0,
             "ticks": ""
            },
            "colorscale": [
             [
              0,
              "#0d0887"
             ],
             [
              0.1111111111111111,
              "#46039f"
             ],
             [
              0.2222222222222222,
              "#7201a8"
             ],
             [
              0.3333333333333333,
              "#9c179e"
             ],
             [
              0.4444444444444444,
              "#bd3786"
             ],
             [
              0.5555555555555556,
              "#d8576b"
             ],
             [
              0.6666666666666666,
              "#ed7953"
             ],
             [
              0.7777777777777778,
              "#fb9f3a"
             ],
             [
              0.8888888888888888,
              "#fdca26"
             ],
             [
              1,
              "#f0f921"
             ]
            ],
            "type": "surface"
           }
          ],
          "table": [
           {
            "cells": {
             "fill": {
              "color": "#EBF0F8"
             },
             "line": {
              "color": "white"
             }
            },
            "header": {
             "fill": {
              "color": "#C8D4E3"
             },
             "line": {
              "color": "white"
             }
            },
            "type": "table"
           }
          ]
         },
         "layout": {
          "annotationdefaults": {
           "arrowcolor": "#2a3f5f",
           "arrowhead": 0,
           "arrowwidth": 1
          },
          "autotypenumbers": "strict",
          "coloraxis": {
           "colorbar": {
            "outlinewidth": 0,
            "ticks": ""
           }
          },
          "colorscale": {
           "diverging": [
            [
             0,
             "#8e0152"
            ],
            [
             0.1,
             "#c51b7d"
            ],
            [
             0.2,
             "#de77ae"
            ],
            [
             0.3,
             "#f1b6da"
            ],
            [
             0.4,
             "#fde0ef"
            ],
            [
             0.5,
             "#f7f7f7"
            ],
            [
             0.6,
             "#e6f5d0"
            ],
            [
             0.7,
             "#b8e186"
            ],
            [
             0.8,
             "#7fbc41"
            ],
            [
             0.9,
             "#4d9221"
            ],
            [
             1,
             "#276419"
            ]
           ],
           "sequential": [
            [
             0,
             "#0d0887"
            ],
            [
             0.1111111111111111,
             "#46039f"
            ],
            [
             0.2222222222222222,
             "#7201a8"
            ],
            [
             0.3333333333333333,
             "#9c179e"
            ],
            [
             0.4444444444444444,
             "#bd3786"
            ],
            [
             0.5555555555555556,
             "#d8576b"
            ],
            [
             0.6666666666666666,
             "#ed7953"
            ],
            [
             0.7777777777777778,
             "#fb9f3a"
            ],
            [
             0.8888888888888888,
             "#fdca26"
            ],
            [
             1,
             "#f0f921"
            ]
           ],
           "sequentialminus": [
            [
             0,
             "#0d0887"
            ],
            [
             0.1111111111111111,
             "#46039f"
            ],
            [
             0.2222222222222222,
             "#7201a8"
            ],
            [
             0.3333333333333333,
             "#9c179e"
            ],
            [
             0.4444444444444444,
             "#bd3786"
            ],
            [
             0.5555555555555556,
             "#d8576b"
            ],
            [
             0.6666666666666666,
             "#ed7953"
            ],
            [
             0.7777777777777778,
             "#fb9f3a"
            ],
            [
             0.8888888888888888,
             "#fdca26"
            ],
            [
             1,
             "#f0f921"
            ]
           ]
          },
          "colorway": [
           "#636efa",
           "#EF553B",
           "#00cc96",
           "#ab63fa",
           "#FFA15A",
           "#19d3f3",
           "#FF6692",
           "#B6E880",
           "#FF97FF",
           "#FECB52"
          ],
          "font": {
           "color": "#2a3f5f"
          },
          "geo": {
           "bgcolor": "white",
           "lakecolor": "white",
           "landcolor": "#E5ECF6",
           "showlakes": true,
           "showland": true,
           "subunitcolor": "white"
          },
          "hoverlabel": {
           "align": "left"
          },
          "hovermode": "closest",
          "mapbox": {
           "style": "light"
          },
          "paper_bgcolor": "white",
          "plot_bgcolor": "#E5ECF6",
          "polar": {
           "angularaxis": {
            "gridcolor": "white",
            "linecolor": "white",
            "ticks": ""
           },
           "bgcolor": "#E5ECF6",
           "radialaxis": {
            "gridcolor": "white",
            "linecolor": "white",
            "ticks": ""
           }
          },
          "scene": {
           "xaxis": {
            "backgroundcolor": "#E5ECF6",
            "gridcolor": "white",
            "gridwidth": 2,
            "linecolor": "white",
            "showbackground": true,
            "ticks": "",
            "zerolinecolor": "white"
           },
           "yaxis": {
            "backgroundcolor": "#E5ECF6",
            "gridcolor": "white",
            "gridwidth": 2,
            "linecolor": "white",
            "showbackground": true,
            "ticks": "",
            "zerolinecolor": "white"
           },
           "zaxis": {
            "backgroundcolor": "#E5ECF6",
            "gridcolor": "white",
            "gridwidth": 2,
            "linecolor": "white",
            "showbackground": true,
            "ticks": "",
            "zerolinecolor": "white"
           }
          },
          "shapedefaults": {
           "line": {
            "color": "#2a3f5f"
           }
          },
          "ternary": {
           "aaxis": {
            "gridcolor": "white",
            "linecolor": "white",
            "ticks": ""
           },
           "baxis": {
            "gridcolor": "white",
            "linecolor": "white",
            "ticks": ""
           },
           "bgcolor": "#E5ECF6",
           "caxis": {
            "gridcolor": "white",
            "linecolor": "white",
            "ticks": ""
           }
          },
          "title": {
           "x": 0.05
          },
          "xaxis": {
           "automargin": true,
           "gridcolor": "white",
           "linecolor": "white",
           "ticks": "",
           "title": {
            "standoff": 15
           },
           "zerolinecolor": "white",
           "zerolinewidth": 2
          },
          "yaxis": {
           "automargin": true,
           "gridcolor": "white",
           "linecolor": "white",
           "ticks": "",
           "title": {
            "standoff": 15
           },
           "zerolinecolor": "white",
           "zerolinewidth": 2
          }
         }
        }
       }
      },
      "text/html": [
       "<div>                            <div id=\"d9fdb668-c41b-4287-b177-152475bf5f4f\" class=\"plotly-graph-div\" style=\"height:525px; width:100%;\"></div>            <script type=\"text/javascript\">                require([\"plotly\"], function(Plotly) {                    window.PLOTLYENV=window.PLOTLYENV || {};                                    if (document.getElementById(\"d9fdb668-c41b-4287-b177-152475bf5f4f\")) {                    Plotly.newPlot(                        \"d9fdb668-c41b-4287-b177-152475bf5f4f\",                        [{\"x\":[0.0,0.002028397565922921,0.004056795131845842,0.004056795131845842,0.010141987829614604,0.010141987829614604,0.016227180527383367,0.016227180527383367,0.02028397565922921,0.02028397565922921,0.02231237322515213,0.02231237322515213,0.02636916835699797,0.02636916835699797,0.030425963488843813,0.030425963488843813,0.032454361054766734,0.032454361054766734,0.034482758620689655,0.034482758620689655,0.036511156186612576,0.036511156186612576,0.04665314401622718,0.04665314401622718,0.0486815415821501,0.0486815415821501,0.05476673427991886,0.05476673427991886,0.058823529411764705,0.058823529411764705,0.06288032454361055,0.06288032454361055,0.06896551724137931,0.06896551724137931,0.07099391480730223,0.07099391480730223,0.07302231237322515,0.07302231237322515,0.07707910750507099,0.07707910750507099,0.08113590263691683,0.08113590263691683,0.08316430020283976,0.08316430020283976,0.0872210953346856,0.0872210953346856,0.09127789046653144,0.09127789046653144,0.09330628803245436,0.09330628803245436,0.0973630831643002,0.0973630831643002,0.10344827586206896,0.10344827586206896,0.10547667342799188,0.10547667342799188,0.1075050709939148,0.1075050709939148,0.10953346855983773,0.10953346855983773,0.11561866125760649,0.11561866125760649,0.12170385395537525,0.12170385395537525,0.12373225152129817,0.12373225152129817,0.12778904665314403,0.12778904665314403,0.13184584178498987,0.13184584178498987,0.13387423935091278,0.13387423935091278,0.1440162271805274,0.1440162271805274,0.1460446247464503,0.1460446247464503,0.14807302231237324,0.14807302231237324,0.15010141987829614,0.15010141987829614,0.15212981744421908,0.15212981744421908,0.15618661257606492,0.15618661257606492,0.15821501014198783,0.15821501014198783,0.1663286004056795,0.1663286004056795,0.16835699797160245,0.16835699797160245,0.17038539553752535,0.17038539553752535,0.1724137931034483,0.1724137931034483,0.1744421906693712,0.1744421906693712,0.17849898580121704,0.17849898580121704,0.18052738336713997,0.18052738336713997,0.18661257606490872,0.18661257606490872,0.18864097363083165,0.18864097363083165,0.1926977687626775,0.1926977687626775,0.1947261663286004,0.1947261663286004,0.20486815415821502,0.20486815415821502,0.20689655172413793,0.20689655172413793,0.20892494929006086,0.20892494929006086,0.21095334685598377,0.21095334685598377,0.21703853955375255,0.21703853955375255,0.2231237322515213,0.2231237322515213,0.22920892494929007,0.22920892494929007,0.2332657200811359,0.2332657200811359,0.23935091277890466,0.23935091277890466,0.24949290060851928,0.24949290060851928,0.2515212981744422,0.2515212981744422,0.2657200811359026,0.2657200811359026,0.26774847870182555,0.26774847870182555,0.2718052738336714,0.2718052738336714,0.2738336713995943,0.2738336713995943,0.27586206896551724,0.27586206896551724,0.2839756592292089,0.2839756592292089,0.2880324543610548,0.2880324543610548,0.29006085192697767,0.29006085192697767,0.2920892494929006,0.2920892494929006,0.2961460446247465,0.2961460446247465,0.3002028397565923,0.3002028397565923,0.3022312373225152,0.3022312373225152,0.30425963488843816,0.30425963488843816,0.31643002028397565,0.31643002028397565,0.3225152129817444,0.3225152129817444,0.3265720081135903,0.3265720081135903,0.3306288032454361,0.3306288032454361,0.332657200811359,0.332657200811359,0.33468559837728196,0.33468559837728196,0.3367139959432049,0.3367139959432049,0.33874239350912777,0.33874239350912777,0.3488843813387424,0.3488843813387424,0.3509127789046653,0.3509127789046653,0.35496957403651114,0.35496957403651114,0.359026369168357,0.359026369168357,0.3630831643002028,0.3630831643002028,0.3671399594320487,0.3671399594320487,0.3691683569979716,0.3691683569979716,0.3711967545638945,0.3711967545638945,0.3752535496957404,0.3752535496957404,0.3793103448275862,0.3793103448275862,0.3813387423935091,0.3813387423935091,0.385395537525355,0.385395537525355,0.3975659229208925,0.3975659229208925,0.3995943204868154,0.3995943204868154,0.4117647058823529,0.4117647058823529,0.41379310344827586,0.41379310344827586,0.4158215010141988,0.4158215010141988,0.4279918864097363,0.4279918864097363,0.4300202839756592,0.4300202839756592,0.43204868154158216,0.43204868154158216,0.4381338742393509,0.4381338742393509,0.4421906693711968,0.4421906693711968,0.44421906693711966,0.44421906693711966,0.4462474645030426,0.4462474645030426,0.4482758620689655,0.4482758620689655,0.45233265720081134,0.45233265720081134,0.4543610547667343,0.4543610547667343,0.4563894523326572,0.4563894523326572,0.4685598377281947,0.4685598377281947,0.47058823529411764,0.47058823529411764,0.4726166328600406,0.4726166328600406,0.4787018255578093,0.4787018255578093,0.48073022312373226,0.48073022312373226,0.4827586206896552,0.4827586206896552,0.4847870182555781,0.4847870182555781,0.486815415821501,0.486815415821501,0.48884381338742394,0.48884381338742394,0.49290060851926976,0.49290060851926976,0.4949290060851927,0.4949290060851927,0.4969574036511156,0.4969574036511156,0.49898580121703856,0.49898580121703856,0.5030425963488844,0.5030425963488844,0.5050709939148073,0.5050709939148073,0.5091277890466531,0.5091277890466531,0.5111561866125761,0.5111561866125761,0.513184584178499,0.513184584178499,0.5172413793103449,0.5172413793103449,0.5192697768762677,0.5192697768762677,0.5233265720081136,0.5233265720081136,0.5253549695740365,0.5253549695740365,0.5273833671399595,0.5273833671399595,0.5314401622718052,0.5314401622718052,0.539553752535497,0.539553752535497,0.5415821501014199,0.5415821501014199,0.5436105476673428,0.5436105476673428,0.5517241379310345,0.5517241379310345,0.5537525354969574,0.5537525354969574,0.5578093306288032,0.5578093306288032,0.5598377281947262,0.5598377281947262,0.5618661257606491,0.5618661257606491,0.565922920892495,0.565922920892495,0.5720081135902637,0.5720081135902637,0.5760649087221096,0.5760649087221096,0.5780933062880325,0.5780933062880325,0.5801217038539553,0.5801217038539553,0.5841784989858012,0.5841784989858012,0.5862068965517241,0.5862068965517241,0.5882352941176471,0.5882352941176471,0.59026369168357,0.59026369168357,0.5943204868154158,0.5943204868154158,0.5963488843813387,0.5963488843813387,0.5983772819472617,0.5983772819472617,0.6004056795131846,0.6004056795131846,0.6024340770791075,0.6024340770791075,0.6044624746450304,0.6044624746450304,0.6085192697768763,0.6085192697768763,0.6105476673427992,0.6105476673427992,0.6125760649087221,0.6125760649087221,0.6166328600405679,0.6166328600405679,0.6227180527383367,0.6227180527383367,0.6247464503042597,0.6247464503042597,0.6288032454361054,0.6288032454361054,0.6308316430020284,0.6308316430020284,0.6328600405679513,0.6328600405679513,0.6348884381338742,0.6348884381338742,0.640973630831643,0.640973630831643,0.6490872210953347,0.6490872210953347,0.6531440162271805,0.6531440162271805,0.6551724137931034,0.6551724137931034,0.6572008113590264,0.6572008113590264,0.6592292089249493,0.6592292089249493,0.6612576064908722,0.6612576064908722,0.6693711967545639,0.6693711967545639,0.6713995943204868,0.6713995943204868,0.6734279918864098,0.6734279918864098,0.6754563894523327,0.6754563894523327,0.6774847870182555,0.6774847870182555,0.6855983772819473,0.6855983772819473,0.6957403651115619,0.6957403651115619,0.7018255578093306,0.7018255578093306,0.7038539553752535,0.7038539553752535,0.7079107505070994,0.7079107505070994,0.7119675456389453,0.7119675456389453,0.7139959432048681,0.7139959432048681,0.716024340770791,0.716024340770791,0.7221095334685599,0.7221095334685599,0.7261663286004056,0.7261663286004056,0.7281947261663286,0.7281947261663286,0.7322515212981744,0.7322515212981744,0.7342799188640974,0.7342799188640974,0.7545638945233266,0.7545638945233266,0.7565922920892495,0.7565922920892495,0.7728194726166329,0.7728194726166329,0.7748478701825557,0.7748478701825557,0.7768762677484787,0.7768762677484787,0.7849898580121704,0.7849898580121704,0.7931034482758621,0.7931034482758621,0.7991886409736308,0.7991886409736308,0.8032454361054767,0.8032454361054767,0.8093306288032455,0.8093306288032455,0.8113590263691683,0.8113590263691683,0.8133874239350912,0.8133874239350912,0.8154158215010142,0.8154158215010142,0.8194726166328601,0.8194726166328601,0.8235294117647058,0.8235294117647058,0.8275862068965517,0.8275862068965517,0.8296146044624746,0.8296146044624746,0.8336713995943205,0.8336713995943205,0.845841784989858,0.845841784989858,0.847870182555781,0.847870182555781,0.8498985801217038,0.8498985801217038,0.8539553752535497,0.8539553752535497,0.8580121703853956,0.8580121703853956,0.8600405679513184,0.8600405679513184,0.8640973630831643,0.8640973630831643,0.8661257606490872,0.8661257606490872,0.8681541582150102,0.8681541582150102,0.8701825557809331,0.8701825557809331,0.8742393509127789,0.8742393509127789,0.8762677484787018,0.8762677484787018,0.8823529411764706,0.8823529411764706,0.8864097363083164,0.8864097363083164,0.8884381338742393,0.8884381338742393,0.8945233265720081,0.8945233265720081,0.896551724137931,0.896551724137931,0.9006085192697769,0.9006085192697769,0.9046653144016227,0.9046653144016227,0.9066937119675457,0.9066937119675457,0.9107505070993914,0.9107505070993914,0.9127789046653144,0.9127789046653144,0.9168356997971603,0.9168356997971603,0.9188640973630832,0.9188640973630832,0.920892494929006,0.920892494929006,0.9330628803245437,0.9330628803245437,0.9350912778904665,0.9350912778904665,0.9371196754563894,0.9371196754563894,0.9411764705882353,0.9411764705882353,0.9432048681541582,0.9432048681541582,0.9452332657200812,0.9452332657200812,0.949290060851927,0.949290060851927,0.9513184584178499,0.9513184584178499,0.9553752535496958,0.9553752535496958,0.9634888438133874,0.9634888438133874,0.9655172413793104,0.9655172413793104,0.9675456389452333,0.9675456389452333,0.9695740365111561,0.9695740365111561,0.9817444219066938,0.9817444219066938,0.9858012170385395,0.9858012170385395,0.9898580121703854,0.9898580121703854,0.9918864097363083,0.9918864097363083,0.9939148073022313,0.9939148073022313,0.9959432048681541,0.9959432048681541,0.9979716024340771,0.9979716024340771,1.0,1.0],\"y\":[0.0,0.0,0.0,0.005917159763313609,0.005917159763313609,0.009861932938856016,0.009861932938856016,0.011834319526627219,0.011834319526627219,0.021696252465483234,0.021696252465483234,0.023668639053254437,0.023668639053254437,0.029585798816568046,0.029585798816568046,0.03155818540433925,0.03155818540433925,0.03353057199211045,0.03353057199211045,0.03550295857988166,0.03550295857988166,0.03747534516765286,0.03747534516765286,0.04142011834319527,0.04142011834319527,0.047337278106508875,0.047337278106508875,0.055226824457593686,0.055226824457593686,0.0650887573964497,0.0650887573964497,0.06903353057199212,0.06903353057199212,0.07297830374753451,0.07297830374753451,0.07495069033530571,0.07495069033530571,0.08086785009861933,0.08086785009861933,0.08284023668639054,0.08284023668639054,0.08481262327416174,0.08481262327416174,0.09072978303747535,0.09072978303747535,0.09270216962524655,0.09270216962524655,0.09467455621301775,0.09467455621301775,0.09664694280078895,0.09664694280078895,0.09861932938856016,0.09861932938856016,0.10059171597633136,0.10059171597633136,0.10650887573964497,0.10650887573964497,0.11045364891518737,0.11045364891518737,0.11242603550295859,0.11242603550295859,0.11439842209072978,0.11439842209072978,0.1203155818540434,0.1203155818540434,0.126232741617357,0.126232741617357,0.1282051282051282,0.1282051282051282,0.1341222879684418,0.1341222879684418,0.13609467455621302,0.13609467455621302,0.14003944773175542,0.14003944773175542,0.14201183431952663,0.14201183431952663,0.14990138067061143,0.14990138067061143,0.15384615384615385,0.15384615384615385,0.15581854043392504,0.15581854043392504,0.16370808678500987,0.16370808678500987,0.16765285996055226,0.16765285996055226,0.16962524654832348,0.16962524654832348,0.17159763313609466,0.17159763313609466,0.17357001972386588,0.17357001972386588,0.1755424063116371,0.1755424063116371,0.17751479289940827,0.17751479289940827,0.1794871794871795,0.1794871794871795,0.1814595660749507,0.1814595660749507,0.1834319526627219,0.1834319526627219,0.1854043392504931,0.1854043392504931,0.1873767258382643,0.1873767258382643,0.1893491124260355,0.1893491124260355,0.1913214990138067,0.1913214990138067,0.1932938856015779,0.1932938856015779,0.1952662721893491,0.1952662721893491,0.1992110453648915,0.1992110453648915,0.20315581854043394,0.20315581854043394,0.20512820512820512,0.20512820512820512,0.20710059171597633,0.20710059171597633,0.22090729783037474,0.22090729783037474,0.22287968441814596,0.22287968441814596,0.22879684418145957,0.22879684418145957,0.23274161735700197,0.23274161735700197,0.23471400394477318,0.23471400394477318,0.23865877712031558,0.23865877712031558,0.2406311637080868,0.2406311637080868,0.2445759368836292,0.2445759368836292,0.2465483234714004,0.2465483234714004,0.2485207100591716,0.2485207100591716,0.252465483234714,0.252465483234714,0.25443786982248523,0.25443786982248523,0.2564102564102564,0.2564102564102564,0.2603550295857988,0.2603550295857988,0.26627218934911245,0.26627218934911245,0.27613412228796846,0.27613412228796846,0.28205128205128205,0.28205128205128205,0.28402366863905326,0.28402366863905326,0.2958579881656805,0.2958579881656805,0.2978303747534517,0.2978303747534517,0.29980276134122286,0.29980276134122286,0.3057199211045365,0.3057199211045365,0.3116370808678501,0.3116370808678501,0.3234714003944773,0.3234714003944773,0.3254437869822485,0.3254437869822485,0.32741617357001973,0.32741617357001973,0.32938856015779094,0.32938856015779094,0.33136094674556216,0.33136094674556216,0.33530571992110453,0.33530571992110453,0.33925049309664695,0.33925049309664695,0.3431952662721893,0.3431952662721893,0.34516765285996054,0.34516765285996054,0.34714003944773175,0.34714003944773175,0.34911242603550297,0.34911242603550297,0.3530571992110454,0.3530571992110454,0.35502958579881655,0.35502958579881655,0.3609467455621302,0.3609467455621302,0.3629191321499014,0.3629191321499014,0.36489151873767256,0.36489151873767256,0.3668639053254438,0.3668639053254438,0.368836291913215,0.368836291913215,0.3727810650887574,0.3727810650887574,0.3767258382642998,0.3767258382642998,0.378698224852071,0.378698224852071,0.398422090729783,0.398422090729783,0.40433925049309666,0.40433925049309666,0.40631163708086787,0.40631163708086787,0.41420118343195267,0.41420118343195267,0.42209072978303747,0.42209072978303747,0.4240631163708087,0.4240631163708087,0.4280078895463511,0.4280078895463511,0.42998027613412226,0.42998027613412226,0.4339250493096647,0.4339250493096647,0.4378698224852071,0.4378698224852071,0.43984220907297833,0.43984220907297833,0.4437869822485207,0.4437869822485207,0.4477317554240631,0.4477317554240631,0.4516765285996055,0.4516765285996055,0.4536489151873767,0.4536489151873767,0.45759368836291914,0.45759368836291914,0.45956607495069035,0.45956607495069035,0.46745562130177515,0.46745562130177515,0.46942800788954636,0.46942800788954636,0.4714003944773176,0.4714003944773176,0.47731755424063116,0.47731755424063116,0.4832347140039448,0.4832347140039448,0.48520710059171596,0.48520710059171596,0.5009861932938856,0.5009861932938856,0.504930966469428,0.504930966469428,0.5069033530571992,0.5069033530571992,0.5088757396449705,0.5088757396449705,0.5128205128205128,0.5128205128205128,0.5167652859960552,0.5167652859960552,0.5187376725838264,0.5187376725838264,0.5207100591715976,0.5207100591715976,0.5226824457593688,0.5226824457593688,0.5325443786982249,0.5325443786982249,0.5404339250493096,0.5404339250493096,0.5424063116370809,0.5424063116370809,0.5443786982248521,0.5443786982248521,0.5463510848126233,0.5463510848126233,0.5502958579881657,0.5502958579881657,0.5522682445759369,0.5522682445759369,0.5562130177514792,0.5562130177514792,0.5601577909270217,0.5601577909270217,0.5660749506903353,0.5660749506903353,0.5700197238658777,0.5700197238658777,0.571992110453649,0.571992110453649,0.5739644970414202,0.5739644970414202,0.5759368836291914,0.5759368836291914,0.5798816568047337,0.5798816568047337,0.5818540433925049,0.5818540433925049,0.5838264299802761,0.5838264299802761,0.6055226824457594,0.6055226824457594,0.6094674556213018,0.6094674556213018,0.6134122287968442,0.6134122287968442,0.621301775147929,0.621301775147929,0.6252465483234714,0.6252465483234714,0.6272189349112426,0.6272189349112426,0.6291913214990138,0.6291913214990138,0.631163708086785,0.631163708086785,0.6331360946745562,0.6331360946745562,0.6351084812623274,0.6351084812623274,0.6390532544378699,0.6390532544378699,0.6410256410256411,0.6410256410256411,0.6429980276134122,0.6429980276134122,0.6449704142011834,0.6449704142011834,0.6469428007889546,0.6469428007889546,0.650887573964497,0.650887573964497,0.6528599605522682,0.6528599605522682,0.6607495069033531,0.6607495069033531,0.6627218934911243,0.6627218934911243,0.6706114398422091,0.6706114398422091,0.6863905325443787,0.6863905325443787,0.6883629191321499,0.6883629191321499,0.6942800788954635,0.6942800788954635,0.6962524654832347,0.6962524654832347,0.6982248520710059,0.6982248520710059,0.7001972386587771,0.7001972386587771,0.7041420118343196,0.7041420118343196,0.7061143984220908,0.7061143984220908,0.7080867850098619,0.7080867850098619,0.7120315581854043,0.7120315581854043,0.7140039447731755,0.7140039447731755,0.7159763313609467,0.7159763313609467,0.7199211045364892,0.7199211045364892,0.7317554240631163,0.7317554240631163,0.7337278106508875,0.7337278106508875,0.7396449704142012,0.7396449704142012,0.747534516765286,0.747534516765286,0.7514792899408284,0.7514792899408284,0.7554240631163708,0.7554240631163708,0.757396449704142,0.757396449704142,0.7593688362919132,0.7593688362919132,0.7613412228796844,0.7613412228796844,0.7652859960552268,0.7652859960552268,0.7712031558185405,0.7712031558185405,0.7731755424063116,0.7731755424063116,0.7790927021696252,0.7790927021696252,0.7810650887573964,0.7810650887573964,0.7830374753451677,0.7830374753451677,0.7850098619329389,0.7850098619329389,0.7889546351084813,0.7889546351084813,0.7928994082840237,0.7928994082840237,0.8027613412228797,0.8027613412228797,0.8047337278106509,0.8047337278106509,0.8086785009861933,0.8086785009861933,0.8126232741617357,0.8126232741617357,0.814595660749507,0.814595660749507,0.8205128205128205,0.8205128205128205,0.8224852071005917,0.8224852071005917,0.8244575936883629,0.8244575936883629,0.8264299802761341,0.8264299802761341,0.834319526627219,0.834319526627219,0.8362919132149902,0.8362919132149902,0.8422090729783037,0.8422090729783037,0.8520710059171598,0.8520710059171598,0.854043392504931,0.854043392504931,0.8560157790927022,0.8560157790927022,0.8619329388560157,0.8619329388560157,0.863905325443787,0.863905325443787,0.8678500986193294,0.8678500986193294,0.8698224852071006,0.8698224852071006,0.873767258382643,0.873767258382643,0.8757396449704142,0.8757396449704142,0.8796844181459567,0.8796844181459567,0.883629191321499,0.883629191321499,0.8856015779092702,0.8856015779092702,0.8895463510848126,0.8895463510848126,0.8994082840236687,0.8994082840236687,0.9013806706114399,0.9013806706114399,0.903353057199211,0.903353057199211,0.9072978303747534,0.9072978303747534,0.9132149901380671,0.9132149901380671,0.9171597633136095,0.9171597633136095,0.9270216962524654,0.9270216962524654,0.9289940828402367,0.9289940828402367,0.9309664694280079,0.9309664694280079,0.9349112426035503,0.9349112426035503,0.9428007889546351,0.9428007889546351,0.9487179487179487,0.9487179487179487,0.9506903353057199,0.9506903353057199,0.9546351084812623,0.9546351084812623,0.9566074950690335,0.9566074950690335,0.960552268244576,0.960552268244576,0.9644970414201184,0.9644970414201184,0.9664694280078896,0.9664694280078896,0.9684418145956607,0.9684418145956607,0.9704142011834319,0.9704142011834319,0.9723865877712031,0.9723865877712031,0.9743589743589743,0.9743589743589743,0.9763313609467456,0.9763313609467456,0.9783037475345168,0.9783037475345168,0.9822485207100592,0.9822485207100592,0.9842209072978304,0.9842209072978304,0.9861932938856016,0.9861932938856016,0.9960552268244576,0.9960552268244576,0.9980276134122288,0.9980276134122288,1.0],\"type\":\"scatter\",\"line\":{\"color\":\"blue\",\"width\":2},\"marker\":{\"color\":\"red\",\"size\":10},\"mode\":\"lines+markers\"}],                        {\"template\":{\"data\":{\"histogram2dcontour\":[{\"type\":\"histogram2dcontour\",\"colorbar\":{\"outlinewidth\":0,\"ticks\":\"\"},\"colorscale\":[[0.0,\"#0d0887\"],[0.1111111111111111,\"#46039f\"],[0.2222222222222222,\"#7201a8\"],[0.3333333333333333,\"#9c179e\"],[0.4444444444444444,\"#bd3786\"],[0.5555555555555556,\"#d8576b\"],[0.6666666666666666,\"#ed7953\"],[0.7777777777777778,\"#fb9f3a\"],[0.8888888888888888,\"#fdca26\"],[1.0,\"#f0f921\"]]}],\"choropleth\":[{\"type\":\"choropleth\",\"colorbar\":{\"outlinewidth\":0,\"ticks\":\"\"}}],\"histogram2d\":[{\"type\":\"histogram2d\",\"colorbar\":{\"outlinewidth\":0,\"ticks\":\"\"},\"colorscale\":[[0.0,\"#0d0887\"],[0.1111111111111111,\"#46039f\"],[0.2222222222222222,\"#7201a8\"],[0.3333333333333333,\"#9c179e\"],[0.4444444444444444,\"#bd3786\"],[0.5555555555555556,\"#d8576b\"],[0.6666666666666666,\"#ed7953\"],[0.7777777777777778,\"#fb9f3a\"],[0.8888888888888888,\"#fdca26\"],[1.0,\"#f0f921\"]]}],\"heatmap\":[{\"type\":\"heatmap\",\"colorbar\":{\"outlinewidth\":0,\"ticks\":\"\"},\"colorscale\":[[0.0,\"#0d0887\"],[0.1111111111111111,\"#46039f\"],[0.2222222222222222,\"#7201a8\"],[0.3333333333333333,\"#9c179e\"],[0.4444444444444444,\"#bd3786\"],[0.5555555555555556,\"#d8576b\"],[0.6666666666666666,\"#ed7953\"],[0.7777777777777778,\"#fb9f3a\"],[0.8888888888888888,\"#fdca26\"],[1.0,\"#f0f921\"]]}],\"heatmapgl\":[{\"type\":\"heatmapgl\",\"colorbar\":{\"outlinewidth\":0,\"ticks\":\"\"},\"colorscale\":[[0.0,\"#0d0887\"],[0.1111111111111111,\"#46039f\"],[0.2222222222222222,\"#7201a8\"],[0.3333333333333333,\"#9c179e\"],[0.4444444444444444,\"#bd3786\"],[0.5555555555555556,\"#d8576b\"],[0.6666666666666666,\"#ed7953\"],[0.7777777777777778,\"#fb9f3a\"],[0.8888888888888888,\"#fdca26\"],[1.0,\"#f0f921\"]]}],\"contourcarpet\":[{\"type\":\"contourcarpet\",\"colorbar\":{\"outlinewidth\":0,\"ticks\":\"\"}}],\"contour\":[{\"type\":\"contour\",\"colorbar\":{\"outlinewidth\":0,\"ticks\":\"\"},\"colorscale\":[[0.0,\"#0d0887\"],[0.1111111111111111,\"#46039f\"],[0.2222222222222222,\"#7201a8\"],[0.3333333333333333,\"#9c179e\"],[0.4444444444444444,\"#bd3786\"],[0.5555555555555556,\"#d8576b\"],[0.6666666666666666,\"#ed7953\"],[0.7777777777777778,\"#fb9f3a\"],[0.8888888888888888,\"#fdca26\"],[1.0,\"#f0f921\"]]}],\"surface\":[{\"type\":\"surface\",\"colorbar\":{\"outlinewidth\":0,\"ticks\":\"\"},\"colorscale\":[[0.0,\"#0d0887\"],[0.1111111111111111,\"#46039f\"],[0.2222222222222222,\"#7201a8\"],[0.3333333333333333,\"#9c179e\"],[0.4444444444444444,\"#bd3786\"],[0.5555555555555556,\"#d8576b\"],[0.6666666666666666,\"#ed7953\"],[0.7777777777777778,\"#fb9f3a\"],[0.8888888888888888,\"#fdca26\"],[1.0,\"#f0f921\"]]}],\"mesh3d\":[{\"type\":\"mesh3d\",\"colorbar\":{\"outlinewidth\":0,\"ticks\":\"\"}}],\"scatter\":[{\"fillpattern\":{\"fillmode\":\"overlay\",\"size\":10,\"solidity\":0.2},\"type\":\"scatter\"}],\"parcoords\":[{\"type\":\"parcoords\",\"line\":{\"colorbar\":{\"outlinewidth\":0,\"ticks\":\"\"}}}],\"scatterpolargl\":[{\"type\":\"scatterpolargl\",\"marker\":{\"colorbar\":{\"outlinewidth\":0,\"ticks\":\"\"}}}],\"bar\":[{\"error_x\":{\"color\":\"#2a3f5f\"},\"error_y\":{\"color\":\"#2a3f5f\"},\"marker\":{\"line\":{\"color\":\"#E5ECF6\",\"width\":0.5},\"pattern\":{\"fillmode\":\"overlay\",\"size\":10,\"solidity\":0.2}},\"type\":\"bar\"}],\"scattergeo\":[{\"type\":\"scattergeo\",\"marker\":{\"colorbar\":{\"outlinewidth\":0,\"ticks\":\"\"}}}],\"scatterpolar\":[{\"type\":\"scatterpolar\",\"marker\":{\"colorbar\":{\"outlinewidth\":0,\"ticks\":\"\"}}}],\"histogram\":[{\"marker\":{\"pattern\":{\"fillmode\":\"overlay\",\"size\":10,\"solidity\":0.2}},\"type\":\"histogram\"}],\"scattergl\":[{\"type\":\"scattergl\",\"marker\":{\"colorbar\":{\"outlinewidth\":0,\"ticks\":\"\"}}}],\"scatter3d\":[{\"type\":\"scatter3d\",\"line\":{\"colorbar\":{\"outlinewidth\":0,\"ticks\":\"\"}},\"marker\":{\"colorbar\":{\"outlinewidth\":0,\"ticks\":\"\"}}}],\"scattermapbox\":[{\"type\":\"scattermapbox\",\"marker\":{\"colorbar\":{\"outlinewidth\":0,\"ticks\":\"\"}}}],\"scatterternary\":[{\"type\":\"scatterternary\",\"marker\":{\"colorbar\":{\"outlinewidth\":0,\"ticks\":\"\"}}}],\"scattercarpet\":[{\"type\":\"scattercarpet\",\"marker\":{\"colorbar\":{\"outlinewidth\":0,\"ticks\":\"\"}}}],\"carpet\":[{\"aaxis\":{\"endlinecolor\":\"#2a3f5f\",\"gridcolor\":\"white\",\"linecolor\":\"white\",\"minorgridcolor\":\"white\",\"startlinecolor\":\"#2a3f5f\"},\"baxis\":{\"endlinecolor\":\"#2a3f5f\",\"gridcolor\":\"white\",\"linecolor\":\"white\",\"minorgridcolor\":\"white\",\"startlinecolor\":\"#2a3f5f\"},\"type\":\"carpet\"}],\"table\":[{\"cells\":{\"fill\":{\"color\":\"#EBF0F8\"},\"line\":{\"color\":\"white\"}},\"header\":{\"fill\":{\"color\":\"#C8D4E3\"},\"line\":{\"color\":\"white\"}},\"type\":\"table\"}],\"barpolar\":[{\"marker\":{\"line\":{\"color\":\"#E5ECF6\",\"width\":0.5},\"pattern\":{\"fillmode\":\"overlay\",\"size\":10,\"solidity\":0.2}},\"type\":\"barpolar\"}],\"pie\":[{\"automargin\":true,\"type\":\"pie\"}]},\"layout\":{\"autotypenumbers\":\"strict\",\"colorway\":[\"#636efa\",\"#EF553B\",\"#00cc96\",\"#ab63fa\",\"#FFA15A\",\"#19d3f3\",\"#FF6692\",\"#B6E880\",\"#FF97FF\",\"#FECB52\"],\"font\":{\"color\":\"#2a3f5f\"},\"hovermode\":\"closest\",\"hoverlabel\":{\"align\":\"left\"},\"paper_bgcolor\":\"white\",\"plot_bgcolor\":\"#E5ECF6\",\"polar\":{\"bgcolor\":\"#E5ECF6\",\"angularaxis\":{\"gridcolor\":\"white\",\"linecolor\":\"white\",\"ticks\":\"\"},\"radialaxis\":{\"gridcolor\":\"white\",\"linecolor\":\"white\",\"ticks\":\"\"}},\"ternary\":{\"bgcolor\":\"#E5ECF6\",\"aaxis\":{\"gridcolor\":\"white\",\"linecolor\":\"white\",\"ticks\":\"\"},\"baxis\":{\"gridcolor\":\"white\",\"linecolor\":\"white\",\"ticks\":\"\"},\"caxis\":{\"gridcolor\":\"white\",\"linecolor\":\"white\",\"ticks\":\"\"}},\"coloraxis\":{\"colorbar\":{\"outlinewidth\":0,\"ticks\":\"\"}},\"colorscale\":{\"sequential\":[[0.0,\"#0d0887\"],[0.1111111111111111,\"#46039f\"],[0.2222222222222222,\"#7201a8\"],[0.3333333333333333,\"#9c179e\"],[0.4444444444444444,\"#bd3786\"],[0.5555555555555556,\"#d8576b\"],[0.6666666666666666,\"#ed7953\"],[0.7777777777777778,\"#fb9f3a\"],[0.8888888888888888,\"#fdca26\"],[1.0,\"#f0f921\"]],\"sequentialminus\":[[0.0,\"#0d0887\"],[0.1111111111111111,\"#46039f\"],[0.2222222222222222,\"#7201a8\"],[0.3333333333333333,\"#9c179e\"],[0.4444444444444444,\"#bd3786\"],[0.5555555555555556,\"#d8576b\"],[0.6666666666666666,\"#ed7953\"],[0.7777777777777778,\"#fb9f3a\"],[0.8888888888888888,\"#fdca26\"],[1.0,\"#f0f921\"]],\"diverging\":[[0,\"#8e0152\"],[0.1,\"#c51b7d\"],[0.2,\"#de77ae\"],[0.3,\"#f1b6da\"],[0.4,\"#fde0ef\"],[0.5,\"#f7f7f7\"],[0.6,\"#e6f5d0\"],[0.7,\"#b8e186\"],[0.8,\"#7fbc41\"],[0.9,\"#4d9221\"],[1,\"#276419\"]]},\"xaxis\":{\"gridcolor\":\"white\",\"linecolor\":\"white\",\"ticks\":\"\",\"title\":{\"standoff\":15},\"zerolinecolor\":\"white\",\"automargin\":true,\"zerolinewidth\":2},\"yaxis\":{\"gridcolor\":\"white\",\"linecolor\":\"white\",\"ticks\":\"\",\"title\":{\"standoff\":15},\"zerolinecolor\":\"white\",\"automargin\":true,\"zerolinewidth\":2},\"scene\":{\"xaxis\":{\"backgroundcolor\":\"#E5ECF6\",\"gridcolor\":\"white\",\"linecolor\":\"white\",\"showbackground\":true,\"ticks\":\"\",\"zerolinecolor\":\"white\",\"gridwidth\":2},\"yaxis\":{\"backgroundcolor\":\"#E5ECF6\",\"gridcolor\":\"white\",\"linecolor\":\"white\",\"showbackground\":true,\"ticks\":\"\",\"zerolinecolor\":\"white\",\"gridwidth\":2},\"zaxis\":{\"backgroundcolor\":\"#E5ECF6\",\"gridcolor\":\"white\",\"linecolor\":\"white\",\"showbackground\":true,\"ticks\":\"\",\"zerolinecolor\":\"white\",\"gridwidth\":2}},\"shapedefaults\":{\"line\":{\"color\":\"#2a3f5f\"}},\"annotationdefaults\":{\"arrowcolor\":\"#2a3f5f\",\"arrowhead\":0,\"arrowwidth\":1},\"geo\":{\"bgcolor\":\"white\",\"landcolor\":\"#E5ECF6\",\"subunitcolor\":\"white\",\"showland\":true,\"showlakes\":true,\"lakecolor\":\"white\"},\"title\":{\"x\":0.05},\"mapbox\":{\"style\":\"light\"}}}},                        {\"responsive\": true}                    ).then(function(){\n",
       "                            \n",
       "var gd = document.getElementById('d9fdb668-c41b-4287-b177-152475bf5f4f');\n",
       "var x = new MutationObserver(function (mutations, observer) {{\n",
       "        var display = window.getComputedStyle(gd).display;\n",
       "        if (!display || display === 'none') {{\n",
       "            console.log([gd, 'removed!']);\n",
       "            Plotly.purge(gd);\n",
       "            observer.disconnect();\n",
       "        }}\n",
       "}});\n",
       "\n",
       "// Listen for the removal of the full notebook cells\n",
       "var notebookContainer = gd.closest('#notebook-container');\n",
       "if (notebookContainer) {{\n",
       "    x.observe(notebookContainer, {childList: true});\n",
       "}}\n",
       "\n",
       "// Listen for the clearing of the current output cell\n",
       "var outputEl = gd.closest('.output');\n",
       "if (outputEl) {{\n",
       "    x.observe(outputEl, {childList: true});\n",
       "}}\n",
       "\n",
       "                        })                };                });            </script>        </div>"
      ]
     },
     "metadata": {},
     "output_type": "display_data"
    }
   ],
   "source": [
    "import plotly.graph_objects as go\n",
    "from sklearn.metrics import roc_curve\n",
    "\n",
    "# Calculate the true positive rate and false positive rate at various thresholds\n",
    "fpr, tpr, thresholds = roc_curve(y_true, y_pred)\n",
    "\n",
    "# Plot the resulting points as a scatter plot\n",
    "fig = go.Figure()\n",
    "fig.add_trace(go.Scatter(x=fpr, y=tpr))\n",
    "\n",
    "# Customize the appearance of the curve\n",
    "fig.update_traces(mode='lines+markers',\n",
    "                  line=dict(color='blue', width=2),\n",
    "                  marker=dict(size=10, color='red'))\n",
    "\n",
    "# Show the figure\n",
    "fig.show()"
   ]
  },
  {
   "cell_type": "code",
   "execution_count": 10,
   "metadata": {},
   "outputs": [
    {
     "data": {
      "application/vnd.plotly.v1+json": {
       "config": {
        "plotlyServerURL": "https://plot.ly"
       },
       "data": [
        {
         "marker": {
          "color": "blue",
          "size": 6
         },
         "mode": "lines",
         "name": "ROC",
         "type": "scatter",
         "x": [
          0,
          0.002028397565922921,
          0.004056795131845842,
          0.004056795131845842,
          0.010141987829614604,
          0.010141987829614604,
          0.016227180527383367,
          0.016227180527383367,
          0.02028397565922921,
          0.02028397565922921,
          0.02231237322515213,
          0.02231237322515213,
          0.02636916835699797,
          0.02636916835699797,
          0.030425963488843813,
          0.030425963488843813,
          0.032454361054766734,
          0.032454361054766734,
          0.034482758620689655,
          0.034482758620689655,
          0.036511156186612576,
          0.036511156186612576,
          0.04665314401622718,
          0.04665314401622718,
          0.0486815415821501,
          0.0486815415821501,
          0.05476673427991886,
          0.05476673427991886,
          0.058823529411764705,
          0.058823529411764705,
          0.06288032454361055,
          0.06288032454361055,
          0.06896551724137931,
          0.06896551724137931,
          0.07099391480730223,
          0.07099391480730223,
          0.07302231237322515,
          0.07302231237322515,
          0.07707910750507099,
          0.07707910750507099,
          0.08113590263691683,
          0.08113590263691683,
          0.08316430020283976,
          0.08316430020283976,
          0.0872210953346856,
          0.0872210953346856,
          0.09127789046653144,
          0.09127789046653144,
          0.09330628803245436,
          0.09330628803245436,
          0.0973630831643002,
          0.0973630831643002,
          0.10344827586206896,
          0.10344827586206896,
          0.10547667342799188,
          0.10547667342799188,
          0.1075050709939148,
          0.1075050709939148,
          0.10953346855983773,
          0.10953346855983773,
          0.11561866125760649,
          0.11561866125760649,
          0.12170385395537525,
          0.12170385395537525,
          0.12373225152129817,
          0.12373225152129817,
          0.12778904665314403,
          0.12778904665314403,
          0.13184584178498987,
          0.13184584178498987,
          0.13387423935091278,
          0.13387423935091278,
          0.1440162271805274,
          0.1440162271805274,
          0.1460446247464503,
          0.1460446247464503,
          0.14807302231237324,
          0.14807302231237324,
          0.15010141987829614,
          0.15010141987829614,
          0.15212981744421908,
          0.15212981744421908,
          0.15618661257606492,
          0.15618661257606492,
          0.15821501014198783,
          0.15821501014198783,
          0.1663286004056795,
          0.1663286004056795,
          0.16835699797160245,
          0.16835699797160245,
          0.17038539553752535,
          0.17038539553752535,
          0.1724137931034483,
          0.1724137931034483,
          0.1744421906693712,
          0.1744421906693712,
          0.17849898580121704,
          0.17849898580121704,
          0.18052738336713997,
          0.18052738336713997,
          0.18661257606490872,
          0.18661257606490872,
          0.18864097363083165,
          0.18864097363083165,
          0.1926977687626775,
          0.1926977687626775,
          0.1947261663286004,
          0.1947261663286004,
          0.20486815415821502,
          0.20486815415821502,
          0.20689655172413793,
          0.20689655172413793,
          0.20892494929006086,
          0.20892494929006086,
          0.21095334685598377,
          0.21095334685598377,
          0.21703853955375255,
          0.21703853955375255,
          0.2231237322515213,
          0.2231237322515213,
          0.22920892494929007,
          0.22920892494929007,
          0.2332657200811359,
          0.2332657200811359,
          0.23935091277890466,
          0.23935091277890466,
          0.24949290060851928,
          0.24949290060851928,
          0.2515212981744422,
          0.2515212981744422,
          0.2657200811359026,
          0.2657200811359026,
          0.26774847870182555,
          0.26774847870182555,
          0.2718052738336714,
          0.2718052738336714,
          0.2738336713995943,
          0.2738336713995943,
          0.27586206896551724,
          0.27586206896551724,
          0.2839756592292089,
          0.2839756592292089,
          0.2880324543610548,
          0.2880324543610548,
          0.29006085192697767,
          0.29006085192697767,
          0.2920892494929006,
          0.2920892494929006,
          0.2961460446247465,
          0.2961460446247465,
          0.3002028397565923,
          0.3002028397565923,
          0.3022312373225152,
          0.3022312373225152,
          0.30425963488843816,
          0.30425963488843816,
          0.31643002028397565,
          0.31643002028397565,
          0.3225152129817444,
          0.3225152129817444,
          0.3265720081135903,
          0.3265720081135903,
          0.3306288032454361,
          0.3306288032454361,
          0.332657200811359,
          0.332657200811359,
          0.33468559837728196,
          0.33468559837728196,
          0.3367139959432049,
          0.3367139959432049,
          0.33874239350912777,
          0.33874239350912777,
          0.3488843813387424,
          0.3488843813387424,
          0.3509127789046653,
          0.3509127789046653,
          0.35496957403651114,
          0.35496957403651114,
          0.359026369168357,
          0.359026369168357,
          0.3630831643002028,
          0.3630831643002028,
          0.3671399594320487,
          0.3671399594320487,
          0.3691683569979716,
          0.3691683569979716,
          0.3711967545638945,
          0.3711967545638945,
          0.3752535496957404,
          0.3752535496957404,
          0.3793103448275862,
          0.3793103448275862,
          0.3813387423935091,
          0.3813387423935091,
          0.385395537525355,
          0.385395537525355,
          0.3975659229208925,
          0.3975659229208925,
          0.3995943204868154,
          0.3995943204868154,
          0.4117647058823529,
          0.4117647058823529,
          0.41379310344827586,
          0.41379310344827586,
          0.4158215010141988,
          0.4158215010141988,
          0.4279918864097363,
          0.4279918864097363,
          0.4300202839756592,
          0.4300202839756592,
          0.43204868154158216,
          0.43204868154158216,
          0.4381338742393509,
          0.4381338742393509,
          0.4421906693711968,
          0.4421906693711968,
          0.44421906693711966,
          0.44421906693711966,
          0.4462474645030426,
          0.4462474645030426,
          0.4482758620689655,
          0.4482758620689655,
          0.45233265720081134,
          0.45233265720081134,
          0.4543610547667343,
          0.4543610547667343,
          0.4563894523326572,
          0.4563894523326572,
          0.4685598377281947,
          0.4685598377281947,
          0.47058823529411764,
          0.47058823529411764,
          0.4726166328600406,
          0.4726166328600406,
          0.4787018255578093,
          0.4787018255578093,
          0.48073022312373226,
          0.48073022312373226,
          0.4827586206896552,
          0.4827586206896552,
          0.4847870182555781,
          0.4847870182555781,
          0.486815415821501,
          0.486815415821501,
          0.48884381338742394,
          0.48884381338742394,
          0.49290060851926976,
          0.49290060851926976,
          0.4949290060851927,
          0.4949290060851927,
          0.4969574036511156,
          0.4969574036511156,
          0.49898580121703856,
          0.49898580121703856,
          0.5030425963488844,
          0.5030425963488844,
          0.5050709939148073,
          0.5050709939148073,
          0.5091277890466531,
          0.5091277890466531,
          0.5111561866125761,
          0.5111561866125761,
          0.513184584178499,
          0.513184584178499,
          0.5172413793103449,
          0.5172413793103449,
          0.5192697768762677,
          0.5192697768762677,
          0.5233265720081136,
          0.5233265720081136,
          0.5253549695740365,
          0.5253549695740365,
          0.5273833671399595,
          0.5273833671399595,
          0.5314401622718052,
          0.5314401622718052,
          0.539553752535497,
          0.539553752535497,
          0.5415821501014199,
          0.5415821501014199,
          0.5436105476673428,
          0.5436105476673428,
          0.5517241379310345,
          0.5517241379310345,
          0.5537525354969574,
          0.5537525354969574,
          0.5578093306288032,
          0.5578093306288032,
          0.5598377281947262,
          0.5598377281947262,
          0.5618661257606491,
          0.5618661257606491,
          0.565922920892495,
          0.565922920892495,
          0.5720081135902637,
          0.5720081135902637,
          0.5760649087221096,
          0.5760649087221096,
          0.5780933062880325,
          0.5780933062880325,
          0.5801217038539553,
          0.5801217038539553,
          0.5841784989858012,
          0.5841784989858012,
          0.5862068965517241,
          0.5862068965517241,
          0.5882352941176471,
          0.5882352941176471,
          0.59026369168357,
          0.59026369168357,
          0.5943204868154158,
          0.5943204868154158,
          0.5963488843813387,
          0.5963488843813387,
          0.5983772819472617,
          0.5983772819472617,
          0.6004056795131846,
          0.6004056795131846,
          0.6024340770791075,
          0.6024340770791075,
          0.6044624746450304,
          0.6044624746450304,
          0.6085192697768763,
          0.6085192697768763,
          0.6105476673427992,
          0.6105476673427992,
          0.6125760649087221,
          0.6125760649087221,
          0.6166328600405679,
          0.6166328600405679,
          0.6227180527383367,
          0.6227180527383367,
          0.6247464503042597,
          0.6247464503042597,
          0.6288032454361054,
          0.6288032454361054,
          0.6308316430020284,
          0.6308316430020284,
          0.6328600405679513,
          0.6328600405679513,
          0.6348884381338742,
          0.6348884381338742,
          0.640973630831643,
          0.640973630831643,
          0.6490872210953347,
          0.6490872210953347,
          0.6531440162271805,
          0.6531440162271805,
          0.6551724137931034,
          0.6551724137931034,
          0.6572008113590264,
          0.6572008113590264,
          0.6592292089249493,
          0.6592292089249493,
          0.6612576064908722,
          0.6612576064908722,
          0.6693711967545639,
          0.6693711967545639,
          0.6713995943204868,
          0.6713995943204868,
          0.6734279918864098,
          0.6734279918864098,
          0.6754563894523327,
          0.6754563894523327,
          0.6774847870182555,
          0.6774847870182555,
          0.6855983772819473,
          0.6855983772819473,
          0.6957403651115619,
          0.6957403651115619,
          0.7018255578093306,
          0.7018255578093306,
          0.7038539553752535,
          0.7038539553752535,
          0.7079107505070994,
          0.7079107505070994,
          0.7119675456389453,
          0.7119675456389453,
          0.7139959432048681,
          0.7139959432048681,
          0.716024340770791,
          0.716024340770791,
          0.7221095334685599,
          0.7221095334685599,
          0.7261663286004056,
          0.7261663286004056,
          0.7281947261663286,
          0.7281947261663286,
          0.7322515212981744,
          0.7322515212981744,
          0.7342799188640974,
          0.7342799188640974,
          0.7545638945233266,
          0.7545638945233266,
          0.7565922920892495,
          0.7565922920892495,
          0.7728194726166329,
          0.7728194726166329,
          0.7748478701825557,
          0.7748478701825557,
          0.7768762677484787,
          0.7768762677484787,
          0.7849898580121704,
          0.7849898580121704,
          0.7931034482758621,
          0.7931034482758621,
          0.7991886409736308,
          0.7991886409736308,
          0.8032454361054767,
          0.8032454361054767,
          0.8093306288032455,
          0.8093306288032455,
          0.8113590263691683,
          0.8113590263691683,
          0.8133874239350912,
          0.8133874239350912,
          0.8154158215010142,
          0.8154158215010142,
          0.8194726166328601,
          0.8194726166328601,
          0.8235294117647058,
          0.8235294117647058,
          0.8275862068965517,
          0.8275862068965517,
          0.8296146044624746,
          0.8296146044624746,
          0.8336713995943205,
          0.8336713995943205,
          0.845841784989858,
          0.845841784989858,
          0.847870182555781,
          0.847870182555781,
          0.8498985801217038,
          0.8498985801217038,
          0.8539553752535497,
          0.8539553752535497,
          0.8580121703853956,
          0.8580121703853956,
          0.8600405679513184,
          0.8600405679513184,
          0.8640973630831643,
          0.8640973630831643,
          0.8661257606490872,
          0.8661257606490872,
          0.8681541582150102,
          0.8681541582150102,
          0.8701825557809331,
          0.8701825557809331,
          0.8742393509127789,
          0.8742393509127789,
          0.8762677484787018,
          0.8762677484787018,
          0.8823529411764706,
          0.8823529411764706,
          0.8864097363083164,
          0.8864097363083164,
          0.8884381338742393,
          0.8884381338742393,
          0.8945233265720081,
          0.8945233265720081,
          0.896551724137931,
          0.896551724137931,
          0.9006085192697769,
          0.9006085192697769,
          0.9046653144016227,
          0.9046653144016227,
          0.9066937119675457,
          0.9066937119675457,
          0.9107505070993914,
          0.9107505070993914,
          0.9127789046653144,
          0.9127789046653144,
          0.9168356997971603,
          0.9168356997971603,
          0.9188640973630832,
          0.9188640973630832,
          0.920892494929006,
          0.920892494929006,
          0.9330628803245437,
          0.9330628803245437,
          0.9350912778904665,
          0.9350912778904665,
          0.9371196754563894,
          0.9371196754563894,
          0.9411764705882353,
          0.9411764705882353,
          0.9432048681541582,
          0.9432048681541582,
          0.9452332657200812,
          0.9452332657200812,
          0.949290060851927,
          0.949290060851927,
          0.9513184584178499,
          0.9513184584178499,
          0.9553752535496958,
          0.9553752535496958,
          0.9634888438133874,
          0.9634888438133874,
          0.9655172413793104,
          0.9655172413793104,
          0.9675456389452333,
          0.9675456389452333,
          0.9695740365111561,
          0.9695740365111561,
          0.9817444219066938,
          0.9817444219066938,
          0.9858012170385395,
          0.9858012170385395,
          0.9898580121703854,
          0.9898580121703854,
          0.9918864097363083,
          0.9918864097363083,
          0.9939148073022313,
          0.9939148073022313,
          0.9959432048681541,
          0.9959432048681541,
          0.9979716024340771,
          0.9979716024340771,
          1,
          1
         ],
         "y": [
          0,
          0,
          0,
          0.005917159763313609,
          0.005917159763313609,
          0.009861932938856016,
          0.009861932938856016,
          0.011834319526627219,
          0.011834319526627219,
          0.021696252465483234,
          0.021696252465483234,
          0.023668639053254437,
          0.023668639053254437,
          0.029585798816568046,
          0.029585798816568046,
          0.03155818540433925,
          0.03155818540433925,
          0.03353057199211045,
          0.03353057199211045,
          0.03550295857988166,
          0.03550295857988166,
          0.03747534516765286,
          0.03747534516765286,
          0.04142011834319527,
          0.04142011834319527,
          0.047337278106508875,
          0.047337278106508875,
          0.055226824457593686,
          0.055226824457593686,
          0.0650887573964497,
          0.0650887573964497,
          0.06903353057199212,
          0.06903353057199212,
          0.07297830374753451,
          0.07297830374753451,
          0.07495069033530571,
          0.07495069033530571,
          0.08086785009861933,
          0.08086785009861933,
          0.08284023668639054,
          0.08284023668639054,
          0.08481262327416174,
          0.08481262327416174,
          0.09072978303747535,
          0.09072978303747535,
          0.09270216962524655,
          0.09270216962524655,
          0.09467455621301775,
          0.09467455621301775,
          0.09664694280078895,
          0.09664694280078895,
          0.09861932938856016,
          0.09861932938856016,
          0.10059171597633136,
          0.10059171597633136,
          0.10650887573964497,
          0.10650887573964497,
          0.11045364891518737,
          0.11045364891518737,
          0.11242603550295859,
          0.11242603550295859,
          0.11439842209072978,
          0.11439842209072978,
          0.1203155818540434,
          0.1203155818540434,
          0.126232741617357,
          0.126232741617357,
          0.1282051282051282,
          0.1282051282051282,
          0.1341222879684418,
          0.1341222879684418,
          0.13609467455621302,
          0.13609467455621302,
          0.14003944773175542,
          0.14003944773175542,
          0.14201183431952663,
          0.14201183431952663,
          0.14990138067061143,
          0.14990138067061143,
          0.15384615384615385,
          0.15384615384615385,
          0.15581854043392504,
          0.15581854043392504,
          0.16370808678500987,
          0.16370808678500987,
          0.16765285996055226,
          0.16765285996055226,
          0.16962524654832348,
          0.16962524654832348,
          0.17159763313609466,
          0.17159763313609466,
          0.17357001972386588,
          0.17357001972386588,
          0.1755424063116371,
          0.1755424063116371,
          0.17751479289940827,
          0.17751479289940827,
          0.1794871794871795,
          0.1794871794871795,
          0.1814595660749507,
          0.1814595660749507,
          0.1834319526627219,
          0.1834319526627219,
          0.1854043392504931,
          0.1854043392504931,
          0.1873767258382643,
          0.1873767258382643,
          0.1893491124260355,
          0.1893491124260355,
          0.1913214990138067,
          0.1913214990138067,
          0.1932938856015779,
          0.1932938856015779,
          0.1952662721893491,
          0.1952662721893491,
          0.1992110453648915,
          0.1992110453648915,
          0.20315581854043394,
          0.20315581854043394,
          0.20512820512820512,
          0.20512820512820512,
          0.20710059171597633,
          0.20710059171597633,
          0.22090729783037474,
          0.22090729783037474,
          0.22287968441814596,
          0.22287968441814596,
          0.22879684418145957,
          0.22879684418145957,
          0.23274161735700197,
          0.23274161735700197,
          0.23471400394477318,
          0.23471400394477318,
          0.23865877712031558,
          0.23865877712031558,
          0.2406311637080868,
          0.2406311637080868,
          0.2445759368836292,
          0.2445759368836292,
          0.2465483234714004,
          0.2465483234714004,
          0.2485207100591716,
          0.2485207100591716,
          0.252465483234714,
          0.252465483234714,
          0.25443786982248523,
          0.25443786982248523,
          0.2564102564102564,
          0.2564102564102564,
          0.2603550295857988,
          0.2603550295857988,
          0.26627218934911245,
          0.26627218934911245,
          0.27613412228796846,
          0.27613412228796846,
          0.28205128205128205,
          0.28205128205128205,
          0.28402366863905326,
          0.28402366863905326,
          0.2958579881656805,
          0.2958579881656805,
          0.2978303747534517,
          0.2978303747534517,
          0.29980276134122286,
          0.29980276134122286,
          0.3057199211045365,
          0.3057199211045365,
          0.3116370808678501,
          0.3116370808678501,
          0.3234714003944773,
          0.3234714003944773,
          0.3254437869822485,
          0.3254437869822485,
          0.32741617357001973,
          0.32741617357001973,
          0.32938856015779094,
          0.32938856015779094,
          0.33136094674556216,
          0.33136094674556216,
          0.33530571992110453,
          0.33530571992110453,
          0.33925049309664695,
          0.33925049309664695,
          0.3431952662721893,
          0.3431952662721893,
          0.34516765285996054,
          0.34516765285996054,
          0.34714003944773175,
          0.34714003944773175,
          0.34911242603550297,
          0.34911242603550297,
          0.3530571992110454,
          0.3530571992110454,
          0.35502958579881655,
          0.35502958579881655,
          0.3609467455621302,
          0.3609467455621302,
          0.3629191321499014,
          0.3629191321499014,
          0.36489151873767256,
          0.36489151873767256,
          0.3668639053254438,
          0.3668639053254438,
          0.368836291913215,
          0.368836291913215,
          0.3727810650887574,
          0.3727810650887574,
          0.3767258382642998,
          0.3767258382642998,
          0.378698224852071,
          0.378698224852071,
          0.398422090729783,
          0.398422090729783,
          0.40433925049309666,
          0.40433925049309666,
          0.40631163708086787,
          0.40631163708086787,
          0.41420118343195267,
          0.41420118343195267,
          0.42209072978303747,
          0.42209072978303747,
          0.4240631163708087,
          0.4240631163708087,
          0.4280078895463511,
          0.4280078895463511,
          0.42998027613412226,
          0.42998027613412226,
          0.4339250493096647,
          0.4339250493096647,
          0.4378698224852071,
          0.4378698224852071,
          0.43984220907297833,
          0.43984220907297833,
          0.4437869822485207,
          0.4437869822485207,
          0.4477317554240631,
          0.4477317554240631,
          0.4516765285996055,
          0.4516765285996055,
          0.4536489151873767,
          0.4536489151873767,
          0.45759368836291914,
          0.45759368836291914,
          0.45956607495069035,
          0.45956607495069035,
          0.46745562130177515,
          0.46745562130177515,
          0.46942800788954636,
          0.46942800788954636,
          0.4714003944773176,
          0.4714003944773176,
          0.47731755424063116,
          0.47731755424063116,
          0.4832347140039448,
          0.4832347140039448,
          0.48520710059171596,
          0.48520710059171596,
          0.5009861932938856,
          0.5009861932938856,
          0.504930966469428,
          0.504930966469428,
          0.5069033530571992,
          0.5069033530571992,
          0.5088757396449705,
          0.5088757396449705,
          0.5128205128205128,
          0.5128205128205128,
          0.5167652859960552,
          0.5167652859960552,
          0.5187376725838264,
          0.5187376725838264,
          0.5207100591715976,
          0.5207100591715976,
          0.5226824457593688,
          0.5226824457593688,
          0.5325443786982249,
          0.5325443786982249,
          0.5404339250493096,
          0.5404339250493096,
          0.5424063116370809,
          0.5424063116370809,
          0.5443786982248521,
          0.5443786982248521,
          0.5463510848126233,
          0.5463510848126233,
          0.5502958579881657,
          0.5502958579881657,
          0.5522682445759369,
          0.5522682445759369,
          0.5562130177514792,
          0.5562130177514792,
          0.5601577909270217,
          0.5601577909270217,
          0.5660749506903353,
          0.5660749506903353,
          0.5700197238658777,
          0.5700197238658777,
          0.571992110453649,
          0.571992110453649,
          0.5739644970414202,
          0.5739644970414202,
          0.5759368836291914,
          0.5759368836291914,
          0.5798816568047337,
          0.5798816568047337,
          0.5818540433925049,
          0.5818540433925049,
          0.5838264299802761,
          0.5838264299802761,
          0.6055226824457594,
          0.6055226824457594,
          0.6094674556213018,
          0.6094674556213018,
          0.6134122287968442,
          0.6134122287968442,
          0.621301775147929,
          0.621301775147929,
          0.6252465483234714,
          0.6252465483234714,
          0.6272189349112426,
          0.6272189349112426,
          0.6291913214990138,
          0.6291913214990138,
          0.631163708086785,
          0.631163708086785,
          0.6331360946745562,
          0.6331360946745562,
          0.6351084812623274,
          0.6351084812623274,
          0.6390532544378699,
          0.6390532544378699,
          0.6410256410256411,
          0.6410256410256411,
          0.6429980276134122,
          0.6429980276134122,
          0.6449704142011834,
          0.6449704142011834,
          0.6469428007889546,
          0.6469428007889546,
          0.650887573964497,
          0.650887573964497,
          0.6528599605522682,
          0.6528599605522682,
          0.6607495069033531,
          0.6607495069033531,
          0.6627218934911243,
          0.6627218934911243,
          0.6706114398422091,
          0.6706114398422091,
          0.6863905325443787,
          0.6863905325443787,
          0.6883629191321499,
          0.6883629191321499,
          0.6942800788954635,
          0.6942800788954635,
          0.6962524654832347,
          0.6962524654832347,
          0.6982248520710059,
          0.6982248520710059,
          0.7001972386587771,
          0.7001972386587771,
          0.7041420118343196,
          0.7041420118343196,
          0.7061143984220908,
          0.7061143984220908,
          0.7080867850098619,
          0.7080867850098619,
          0.7120315581854043,
          0.7120315581854043,
          0.7140039447731755,
          0.7140039447731755,
          0.7159763313609467,
          0.7159763313609467,
          0.7199211045364892,
          0.7199211045364892,
          0.7317554240631163,
          0.7317554240631163,
          0.7337278106508875,
          0.7337278106508875,
          0.7396449704142012,
          0.7396449704142012,
          0.747534516765286,
          0.747534516765286,
          0.7514792899408284,
          0.7514792899408284,
          0.7554240631163708,
          0.7554240631163708,
          0.757396449704142,
          0.757396449704142,
          0.7593688362919132,
          0.7593688362919132,
          0.7613412228796844,
          0.7613412228796844,
          0.7652859960552268,
          0.7652859960552268,
          0.7712031558185405,
          0.7712031558185405,
          0.7731755424063116,
          0.7731755424063116,
          0.7790927021696252,
          0.7790927021696252,
          0.7810650887573964,
          0.7810650887573964,
          0.7830374753451677,
          0.7830374753451677,
          0.7850098619329389,
          0.7850098619329389,
          0.7889546351084813,
          0.7889546351084813,
          0.7928994082840237,
          0.7928994082840237,
          0.8027613412228797,
          0.8027613412228797,
          0.8047337278106509,
          0.8047337278106509,
          0.8086785009861933,
          0.8086785009861933,
          0.8126232741617357,
          0.8126232741617357,
          0.814595660749507,
          0.814595660749507,
          0.8205128205128205,
          0.8205128205128205,
          0.8224852071005917,
          0.8224852071005917,
          0.8244575936883629,
          0.8244575936883629,
          0.8264299802761341,
          0.8264299802761341,
          0.834319526627219,
          0.834319526627219,
          0.8362919132149902,
          0.8362919132149902,
          0.8422090729783037,
          0.8422090729783037,
          0.8520710059171598,
          0.8520710059171598,
          0.854043392504931,
          0.854043392504931,
          0.8560157790927022,
          0.8560157790927022,
          0.8619329388560157,
          0.8619329388560157,
          0.863905325443787,
          0.863905325443787,
          0.8678500986193294,
          0.8678500986193294,
          0.8698224852071006,
          0.8698224852071006,
          0.873767258382643,
          0.873767258382643,
          0.8757396449704142,
          0.8757396449704142,
          0.8796844181459567,
          0.8796844181459567,
          0.883629191321499,
          0.883629191321499,
          0.8856015779092702,
          0.8856015779092702,
          0.8895463510848126,
          0.8895463510848126,
          0.8994082840236687,
          0.8994082840236687,
          0.9013806706114399,
          0.9013806706114399,
          0.903353057199211,
          0.903353057199211,
          0.9072978303747534,
          0.9072978303747534,
          0.9132149901380671,
          0.9132149901380671,
          0.9171597633136095,
          0.9171597633136095,
          0.9270216962524654,
          0.9270216962524654,
          0.9289940828402367,
          0.9289940828402367,
          0.9309664694280079,
          0.9309664694280079,
          0.9349112426035503,
          0.9349112426035503,
          0.9428007889546351,
          0.9428007889546351,
          0.9487179487179487,
          0.9487179487179487,
          0.9506903353057199,
          0.9506903353057199,
          0.9546351084812623,
          0.9546351084812623,
          0.9566074950690335,
          0.9566074950690335,
          0.960552268244576,
          0.960552268244576,
          0.9644970414201184,
          0.9644970414201184,
          0.9664694280078896,
          0.9664694280078896,
          0.9684418145956607,
          0.9684418145956607,
          0.9704142011834319,
          0.9704142011834319,
          0.9723865877712031,
          0.9723865877712031,
          0.9743589743589743,
          0.9743589743589743,
          0.9763313609467456,
          0.9763313609467456,
          0.9783037475345168,
          0.9783037475345168,
          0.9822485207100592,
          0.9822485207100592,
          0.9842209072978304,
          0.9842209072978304,
          0.9861932938856016,
          0.9861932938856016,
          0.9960552268244576,
          0.9960552268244576,
          0.9980276134122288,
          0.9980276134122288,
          1
         ]
        }
       ],
       "layout": {
        "showlegend": true,
        "template": {
         "data": {
          "bar": [
           {
            "error_x": {
             "color": "#2a3f5f"
            },
            "error_y": {
             "color": "#2a3f5f"
            },
            "marker": {
             "line": {
              "color": "#E5ECF6",
              "width": 0.5
             },
             "pattern": {
              "fillmode": "overlay",
              "size": 10,
              "solidity": 0.2
             }
            },
            "type": "bar"
           }
          ],
          "barpolar": [
           {
            "marker": {
             "line": {
              "color": "#E5ECF6",
              "width": 0.5
             },
             "pattern": {
              "fillmode": "overlay",
              "size": 10,
              "solidity": 0.2
             }
            },
            "type": "barpolar"
           }
          ],
          "carpet": [
           {
            "aaxis": {
             "endlinecolor": "#2a3f5f",
             "gridcolor": "white",
             "linecolor": "white",
             "minorgridcolor": "white",
             "startlinecolor": "#2a3f5f"
            },
            "baxis": {
             "endlinecolor": "#2a3f5f",
             "gridcolor": "white",
             "linecolor": "white",
             "minorgridcolor": "white",
             "startlinecolor": "#2a3f5f"
            },
            "type": "carpet"
           }
          ],
          "choropleth": [
           {
            "colorbar": {
             "outlinewidth": 0,
             "ticks": ""
            },
            "type": "choropleth"
           }
          ],
          "contour": [
           {
            "colorbar": {
             "outlinewidth": 0,
             "ticks": ""
            },
            "colorscale": [
             [
              0,
              "#0d0887"
             ],
             [
              0.1111111111111111,
              "#46039f"
             ],
             [
              0.2222222222222222,
              "#7201a8"
             ],
             [
              0.3333333333333333,
              "#9c179e"
             ],
             [
              0.4444444444444444,
              "#bd3786"
             ],
             [
              0.5555555555555556,
              "#d8576b"
             ],
             [
              0.6666666666666666,
              "#ed7953"
             ],
             [
              0.7777777777777778,
              "#fb9f3a"
             ],
             [
              0.8888888888888888,
              "#fdca26"
             ],
             [
              1,
              "#f0f921"
             ]
            ],
            "type": "contour"
           }
          ],
          "contourcarpet": [
           {
            "colorbar": {
             "outlinewidth": 0,
             "ticks": ""
            },
            "type": "contourcarpet"
           }
          ],
          "heatmap": [
           {
            "colorbar": {
             "outlinewidth": 0,
             "ticks": ""
            },
            "colorscale": [
             [
              0,
              "#0d0887"
             ],
             [
              0.1111111111111111,
              "#46039f"
             ],
             [
              0.2222222222222222,
              "#7201a8"
             ],
             [
              0.3333333333333333,
              "#9c179e"
             ],
             [
              0.4444444444444444,
              "#bd3786"
             ],
             [
              0.5555555555555556,
              "#d8576b"
             ],
             [
              0.6666666666666666,
              "#ed7953"
             ],
             [
              0.7777777777777778,
              "#fb9f3a"
             ],
             [
              0.8888888888888888,
              "#fdca26"
             ],
             [
              1,
              "#f0f921"
             ]
            ],
            "type": "heatmap"
           }
          ],
          "heatmapgl": [
           {
            "colorbar": {
             "outlinewidth": 0,
             "ticks": ""
            },
            "colorscale": [
             [
              0,
              "#0d0887"
             ],
             [
              0.1111111111111111,
              "#46039f"
             ],
             [
              0.2222222222222222,
              "#7201a8"
             ],
             [
              0.3333333333333333,
              "#9c179e"
             ],
             [
              0.4444444444444444,
              "#bd3786"
             ],
             [
              0.5555555555555556,
              "#d8576b"
             ],
             [
              0.6666666666666666,
              "#ed7953"
             ],
             [
              0.7777777777777778,
              "#fb9f3a"
             ],
             [
              0.8888888888888888,
              "#fdca26"
             ],
             [
              1,
              "#f0f921"
             ]
            ],
            "type": "heatmapgl"
           }
          ],
          "histogram": [
           {
            "marker": {
             "pattern": {
              "fillmode": "overlay",
              "size": 10,
              "solidity": 0.2
             }
            },
            "type": "histogram"
           }
          ],
          "histogram2d": [
           {
            "colorbar": {
             "outlinewidth": 0,
             "ticks": ""
            },
            "colorscale": [
             [
              0,
              "#0d0887"
             ],
             [
              0.1111111111111111,
              "#46039f"
             ],
             [
              0.2222222222222222,
              "#7201a8"
             ],
             [
              0.3333333333333333,
              "#9c179e"
             ],
             [
              0.4444444444444444,
              "#bd3786"
             ],
             [
              0.5555555555555556,
              "#d8576b"
             ],
             [
              0.6666666666666666,
              "#ed7953"
             ],
             [
              0.7777777777777778,
              "#fb9f3a"
             ],
             [
              0.8888888888888888,
              "#fdca26"
             ],
             [
              1,
              "#f0f921"
             ]
            ],
            "type": "histogram2d"
           }
          ],
          "histogram2dcontour": [
           {
            "colorbar": {
             "outlinewidth": 0,
             "ticks": ""
            },
            "colorscale": [
             [
              0,
              "#0d0887"
             ],
             [
              0.1111111111111111,
              "#46039f"
             ],
             [
              0.2222222222222222,
              "#7201a8"
             ],
             [
              0.3333333333333333,
              "#9c179e"
             ],
             [
              0.4444444444444444,
              "#bd3786"
             ],
             [
              0.5555555555555556,
              "#d8576b"
             ],
             [
              0.6666666666666666,
              "#ed7953"
             ],
             [
              0.7777777777777778,
              "#fb9f3a"
             ],
             [
              0.8888888888888888,
              "#fdca26"
             ],
             [
              1,
              "#f0f921"
             ]
            ],
            "type": "histogram2dcontour"
           }
          ],
          "mesh3d": [
           {
            "colorbar": {
             "outlinewidth": 0,
             "ticks": ""
            },
            "type": "mesh3d"
           }
          ],
          "parcoords": [
           {
            "line": {
             "colorbar": {
              "outlinewidth": 0,
              "ticks": ""
             }
            },
            "type": "parcoords"
           }
          ],
          "pie": [
           {
            "automargin": true,
            "type": "pie"
           }
          ],
          "scatter": [
           {
            "fillpattern": {
             "fillmode": "overlay",
             "size": 10,
             "solidity": 0.2
            },
            "type": "scatter"
           }
          ],
          "scatter3d": [
           {
            "line": {
             "colorbar": {
              "outlinewidth": 0,
              "ticks": ""
             }
            },
            "marker": {
             "colorbar": {
              "outlinewidth": 0,
              "ticks": ""
             }
            },
            "type": "scatter3d"
           }
          ],
          "scattercarpet": [
           {
            "marker": {
             "colorbar": {
              "outlinewidth": 0,
              "ticks": ""
             }
            },
            "type": "scattercarpet"
           }
          ],
          "scattergeo": [
           {
            "marker": {
             "colorbar": {
              "outlinewidth": 0,
              "ticks": ""
             }
            },
            "type": "scattergeo"
           }
          ],
          "scattergl": [
           {
            "marker": {
             "colorbar": {
              "outlinewidth": 0,
              "ticks": ""
             }
            },
            "type": "scattergl"
           }
          ],
          "scattermapbox": [
           {
            "marker": {
             "colorbar": {
              "outlinewidth": 0,
              "ticks": ""
             }
            },
            "type": "scattermapbox"
           }
          ],
          "scatterpolar": [
           {
            "marker": {
             "colorbar": {
              "outlinewidth": 0,
              "ticks": ""
             }
            },
            "type": "scatterpolar"
           }
          ],
          "scatterpolargl": [
           {
            "marker": {
             "colorbar": {
              "outlinewidth": 0,
              "ticks": ""
             }
            },
            "type": "scatterpolargl"
           }
          ],
          "scatterternary": [
           {
            "marker": {
             "colorbar": {
              "outlinewidth": 0,
              "ticks": ""
             }
            },
            "type": "scatterternary"
           }
          ],
          "surface": [
           {
            "colorbar": {
             "outlinewidth": 0,
             "ticks": ""
            },
            "colorscale": [
             [
              0,
              "#0d0887"
             ],
             [
              0.1111111111111111,
              "#46039f"
             ],
             [
              0.2222222222222222,
              "#7201a8"
             ],
             [
              0.3333333333333333,
              "#9c179e"
             ],
             [
              0.4444444444444444,
              "#bd3786"
             ],
             [
              0.5555555555555556,
              "#d8576b"
             ],
             [
              0.6666666666666666,
              "#ed7953"
             ],
             [
              0.7777777777777778,
              "#fb9f3a"
             ],
             [
              0.8888888888888888,
              "#fdca26"
             ],
             [
              1,
              "#f0f921"
             ]
            ],
            "type": "surface"
           }
          ],
          "table": [
           {
            "cells": {
             "fill": {
              "color": "#EBF0F8"
             },
             "line": {
              "color": "white"
             }
            },
            "header": {
             "fill": {
              "color": "#C8D4E3"
             },
             "line": {
              "color": "white"
             }
            },
            "type": "table"
           }
          ]
         },
         "layout": {
          "annotationdefaults": {
           "arrowcolor": "#2a3f5f",
           "arrowhead": 0,
           "arrowwidth": 1
          },
          "autotypenumbers": "strict",
          "coloraxis": {
           "colorbar": {
            "outlinewidth": 0,
            "ticks": ""
           }
          },
          "colorscale": {
           "diverging": [
            [
             0,
             "#8e0152"
            ],
            [
             0.1,
             "#c51b7d"
            ],
            [
             0.2,
             "#de77ae"
            ],
            [
             0.3,
             "#f1b6da"
            ],
            [
             0.4,
             "#fde0ef"
            ],
            [
             0.5,
             "#f7f7f7"
            ],
            [
             0.6,
             "#e6f5d0"
            ],
            [
             0.7,
             "#b8e186"
            ],
            [
             0.8,
             "#7fbc41"
            ],
            [
             0.9,
             "#4d9221"
            ],
            [
             1,
             "#276419"
            ]
           ],
           "sequential": [
            [
             0,
             "#0d0887"
            ],
            [
             0.1111111111111111,
             "#46039f"
            ],
            [
             0.2222222222222222,
             "#7201a8"
            ],
            [
             0.3333333333333333,
             "#9c179e"
            ],
            [
             0.4444444444444444,
             "#bd3786"
            ],
            [
             0.5555555555555556,
             "#d8576b"
            ],
            [
             0.6666666666666666,
             "#ed7953"
            ],
            [
             0.7777777777777778,
             "#fb9f3a"
            ],
            [
             0.8888888888888888,
             "#fdca26"
            ],
            [
             1,
             "#f0f921"
            ]
           ],
           "sequentialminus": [
            [
             0,
             "#0d0887"
            ],
            [
             0.1111111111111111,
             "#46039f"
            ],
            [
             0.2222222222222222,
             "#7201a8"
            ],
            [
             0.3333333333333333,
             "#9c179e"
            ],
            [
             0.4444444444444444,
             "#bd3786"
            ],
            [
             0.5555555555555556,
             "#d8576b"
            ],
            [
             0.6666666666666666,
             "#ed7953"
            ],
            [
             0.7777777777777778,
             "#fb9f3a"
            ],
            [
             0.8888888888888888,
             "#fdca26"
            ],
            [
             1,
             "#f0f921"
            ]
           ]
          },
          "colorway": [
           "#636efa",
           "#EF553B",
           "#00cc96",
           "#ab63fa",
           "#FFA15A",
           "#19d3f3",
           "#FF6692",
           "#B6E880",
           "#FF97FF",
           "#FECB52"
          ],
          "font": {
           "color": "#2a3f5f"
          },
          "geo": {
           "bgcolor": "white",
           "lakecolor": "white",
           "landcolor": "#E5ECF6",
           "showlakes": true,
           "showland": true,
           "subunitcolor": "white"
          },
          "hoverlabel": {
           "align": "left"
          },
          "hovermode": "closest",
          "mapbox": {
           "style": "light"
          },
          "paper_bgcolor": "white",
          "plot_bgcolor": "#E5ECF6",
          "polar": {
           "angularaxis": {
            "gridcolor": "white",
            "linecolor": "white",
            "ticks": ""
           },
           "bgcolor": "#E5ECF6",
           "radialaxis": {
            "gridcolor": "white",
            "linecolor": "white",
            "ticks": ""
           }
          },
          "scene": {
           "xaxis": {
            "backgroundcolor": "#E5ECF6",
            "gridcolor": "white",
            "gridwidth": 2,
            "linecolor": "white",
            "showbackground": true,
            "ticks": "",
            "zerolinecolor": "white"
           },
           "yaxis": {
            "backgroundcolor": "#E5ECF6",
            "gridcolor": "white",
            "gridwidth": 2,
            "linecolor": "white",
            "showbackground": true,
            "ticks": "",
            "zerolinecolor": "white"
           },
           "zaxis": {
            "backgroundcolor": "#E5ECF6",
            "gridcolor": "white",
            "gridwidth": 2,
            "linecolor": "white",
            "showbackground": true,
            "ticks": "",
            "zerolinecolor": "white"
           }
          },
          "shapedefaults": {
           "line": {
            "color": "#2a3f5f"
           }
          },
          "ternary": {
           "aaxis": {
            "gridcolor": "white",
            "linecolor": "white",
            "ticks": ""
           },
           "baxis": {
            "gridcolor": "white",
            "linecolor": "white",
            "ticks": ""
           },
           "bgcolor": "#E5ECF6",
           "caxis": {
            "gridcolor": "white",
            "linecolor": "white",
            "ticks": ""
           }
          },
          "title": {
           "x": 0.05
          },
          "xaxis": {
           "automargin": true,
           "gridcolor": "white",
           "linecolor": "white",
           "ticks": "",
           "title": {
            "standoff": 15
           },
           "zerolinecolor": "white",
           "zerolinewidth": 2
          },
          "yaxis": {
           "automargin": true,
           "gridcolor": "white",
           "linecolor": "white",
           "ticks": "",
           "title": {
            "standoff": 15
           },
           "zerolinecolor": "white",
           "zerolinewidth": 2
          }
         }
        },
        "xaxis": {
         "title": {
          "text": "False Positive Rate"
         }
        },
        "yaxis": {
         "title": {
          "text": "True Positive Rate"
         }
        }
       }
      },
      "text/html": [
       "<div>                            <div id=\"a51ecc23-1dd8-49f5-8a61-67766f025da7\" class=\"plotly-graph-div\" style=\"height:525px; width:100%;\"></div>            <script type=\"text/javascript\">                require([\"plotly\"], function(Plotly) {                    window.PLOTLYENV=window.PLOTLYENV || {};                                    if (document.getElementById(\"a51ecc23-1dd8-49f5-8a61-67766f025da7\")) {                    Plotly.newPlot(                        \"a51ecc23-1dd8-49f5-8a61-67766f025da7\",                        [{\"marker\":{\"color\":\"blue\",\"size\":6},\"mode\":\"lines\",\"name\":\"ROC\",\"x\":[0.0,0.002028397565922921,0.004056795131845842,0.004056795131845842,0.010141987829614604,0.010141987829614604,0.016227180527383367,0.016227180527383367,0.02028397565922921,0.02028397565922921,0.02231237322515213,0.02231237322515213,0.02636916835699797,0.02636916835699797,0.030425963488843813,0.030425963488843813,0.032454361054766734,0.032454361054766734,0.034482758620689655,0.034482758620689655,0.036511156186612576,0.036511156186612576,0.04665314401622718,0.04665314401622718,0.0486815415821501,0.0486815415821501,0.05476673427991886,0.05476673427991886,0.058823529411764705,0.058823529411764705,0.06288032454361055,0.06288032454361055,0.06896551724137931,0.06896551724137931,0.07099391480730223,0.07099391480730223,0.07302231237322515,0.07302231237322515,0.07707910750507099,0.07707910750507099,0.08113590263691683,0.08113590263691683,0.08316430020283976,0.08316430020283976,0.0872210953346856,0.0872210953346856,0.09127789046653144,0.09127789046653144,0.09330628803245436,0.09330628803245436,0.0973630831643002,0.0973630831643002,0.10344827586206896,0.10344827586206896,0.10547667342799188,0.10547667342799188,0.1075050709939148,0.1075050709939148,0.10953346855983773,0.10953346855983773,0.11561866125760649,0.11561866125760649,0.12170385395537525,0.12170385395537525,0.12373225152129817,0.12373225152129817,0.12778904665314403,0.12778904665314403,0.13184584178498987,0.13184584178498987,0.13387423935091278,0.13387423935091278,0.1440162271805274,0.1440162271805274,0.1460446247464503,0.1460446247464503,0.14807302231237324,0.14807302231237324,0.15010141987829614,0.15010141987829614,0.15212981744421908,0.15212981744421908,0.15618661257606492,0.15618661257606492,0.15821501014198783,0.15821501014198783,0.1663286004056795,0.1663286004056795,0.16835699797160245,0.16835699797160245,0.17038539553752535,0.17038539553752535,0.1724137931034483,0.1724137931034483,0.1744421906693712,0.1744421906693712,0.17849898580121704,0.17849898580121704,0.18052738336713997,0.18052738336713997,0.18661257606490872,0.18661257606490872,0.18864097363083165,0.18864097363083165,0.1926977687626775,0.1926977687626775,0.1947261663286004,0.1947261663286004,0.20486815415821502,0.20486815415821502,0.20689655172413793,0.20689655172413793,0.20892494929006086,0.20892494929006086,0.21095334685598377,0.21095334685598377,0.21703853955375255,0.21703853955375255,0.2231237322515213,0.2231237322515213,0.22920892494929007,0.22920892494929007,0.2332657200811359,0.2332657200811359,0.23935091277890466,0.23935091277890466,0.24949290060851928,0.24949290060851928,0.2515212981744422,0.2515212981744422,0.2657200811359026,0.2657200811359026,0.26774847870182555,0.26774847870182555,0.2718052738336714,0.2718052738336714,0.2738336713995943,0.2738336713995943,0.27586206896551724,0.27586206896551724,0.2839756592292089,0.2839756592292089,0.2880324543610548,0.2880324543610548,0.29006085192697767,0.29006085192697767,0.2920892494929006,0.2920892494929006,0.2961460446247465,0.2961460446247465,0.3002028397565923,0.3002028397565923,0.3022312373225152,0.3022312373225152,0.30425963488843816,0.30425963488843816,0.31643002028397565,0.31643002028397565,0.3225152129817444,0.3225152129817444,0.3265720081135903,0.3265720081135903,0.3306288032454361,0.3306288032454361,0.332657200811359,0.332657200811359,0.33468559837728196,0.33468559837728196,0.3367139959432049,0.3367139959432049,0.33874239350912777,0.33874239350912777,0.3488843813387424,0.3488843813387424,0.3509127789046653,0.3509127789046653,0.35496957403651114,0.35496957403651114,0.359026369168357,0.359026369168357,0.3630831643002028,0.3630831643002028,0.3671399594320487,0.3671399594320487,0.3691683569979716,0.3691683569979716,0.3711967545638945,0.3711967545638945,0.3752535496957404,0.3752535496957404,0.3793103448275862,0.3793103448275862,0.3813387423935091,0.3813387423935091,0.385395537525355,0.385395537525355,0.3975659229208925,0.3975659229208925,0.3995943204868154,0.3995943204868154,0.4117647058823529,0.4117647058823529,0.41379310344827586,0.41379310344827586,0.4158215010141988,0.4158215010141988,0.4279918864097363,0.4279918864097363,0.4300202839756592,0.4300202839756592,0.43204868154158216,0.43204868154158216,0.4381338742393509,0.4381338742393509,0.4421906693711968,0.4421906693711968,0.44421906693711966,0.44421906693711966,0.4462474645030426,0.4462474645030426,0.4482758620689655,0.4482758620689655,0.45233265720081134,0.45233265720081134,0.4543610547667343,0.4543610547667343,0.4563894523326572,0.4563894523326572,0.4685598377281947,0.4685598377281947,0.47058823529411764,0.47058823529411764,0.4726166328600406,0.4726166328600406,0.4787018255578093,0.4787018255578093,0.48073022312373226,0.48073022312373226,0.4827586206896552,0.4827586206896552,0.4847870182555781,0.4847870182555781,0.486815415821501,0.486815415821501,0.48884381338742394,0.48884381338742394,0.49290060851926976,0.49290060851926976,0.4949290060851927,0.4949290060851927,0.4969574036511156,0.4969574036511156,0.49898580121703856,0.49898580121703856,0.5030425963488844,0.5030425963488844,0.5050709939148073,0.5050709939148073,0.5091277890466531,0.5091277890466531,0.5111561866125761,0.5111561866125761,0.513184584178499,0.513184584178499,0.5172413793103449,0.5172413793103449,0.5192697768762677,0.5192697768762677,0.5233265720081136,0.5233265720081136,0.5253549695740365,0.5253549695740365,0.5273833671399595,0.5273833671399595,0.5314401622718052,0.5314401622718052,0.539553752535497,0.539553752535497,0.5415821501014199,0.5415821501014199,0.5436105476673428,0.5436105476673428,0.5517241379310345,0.5517241379310345,0.5537525354969574,0.5537525354969574,0.5578093306288032,0.5578093306288032,0.5598377281947262,0.5598377281947262,0.5618661257606491,0.5618661257606491,0.565922920892495,0.565922920892495,0.5720081135902637,0.5720081135902637,0.5760649087221096,0.5760649087221096,0.5780933062880325,0.5780933062880325,0.5801217038539553,0.5801217038539553,0.5841784989858012,0.5841784989858012,0.5862068965517241,0.5862068965517241,0.5882352941176471,0.5882352941176471,0.59026369168357,0.59026369168357,0.5943204868154158,0.5943204868154158,0.5963488843813387,0.5963488843813387,0.5983772819472617,0.5983772819472617,0.6004056795131846,0.6004056795131846,0.6024340770791075,0.6024340770791075,0.6044624746450304,0.6044624746450304,0.6085192697768763,0.6085192697768763,0.6105476673427992,0.6105476673427992,0.6125760649087221,0.6125760649087221,0.6166328600405679,0.6166328600405679,0.6227180527383367,0.6227180527383367,0.6247464503042597,0.6247464503042597,0.6288032454361054,0.6288032454361054,0.6308316430020284,0.6308316430020284,0.6328600405679513,0.6328600405679513,0.6348884381338742,0.6348884381338742,0.640973630831643,0.640973630831643,0.6490872210953347,0.6490872210953347,0.6531440162271805,0.6531440162271805,0.6551724137931034,0.6551724137931034,0.6572008113590264,0.6572008113590264,0.6592292089249493,0.6592292089249493,0.6612576064908722,0.6612576064908722,0.6693711967545639,0.6693711967545639,0.6713995943204868,0.6713995943204868,0.6734279918864098,0.6734279918864098,0.6754563894523327,0.6754563894523327,0.6774847870182555,0.6774847870182555,0.6855983772819473,0.6855983772819473,0.6957403651115619,0.6957403651115619,0.7018255578093306,0.7018255578093306,0.7038539553752535,0.7038539553752535,0.7079107505070994,0.7079107505070994,0.7119675456389453,0.7119675456389453,0.7139959432048681,0.7139959432048681,0.716024340770791,0.716024340770791,0.7221095334685599,0.7221095334685599,0.7261663286004056,0.7261663286004056,0.7281947261663286,0.7281947261663286,0.7322515212981744,0.7322515212981744,0.7342799188640974,0.7342799188640974,0.7545638945233266,0.7545638945233266,0.7565922920892495,0.7565922920892495,0.7728194726166329,0.7728194726166329,0.7748478701825557,0.7748478701825557,0.7768762677484787,0.7768762677484787,0.7849898580121704,0.7849898580121704,0.7931034482758621,0.7931034482758621,0.7991886409736308,0.7991886409736308,0.8032454361054767,0.8032454361054767,0.8093306288032455,0.8093306288032455,0.8113590263691683,0.8113590263691683,0.8133874239350912,0.8133874239350912,0.8154158215010142,0.8154158215010142,0.8194726166328601,0.8194726166328601,0.8235294117647058,0.8235294117647058,0.8275862068965517,0.8275862068965517,0.8296146044624746,0.8296146044624746,0.8336713995943205,0.8336713995943205,0.845841784989858,0.845841784989858,0.847870182555781,0.847870182555781,0.8498985801217038,0.8498985801217038,0.8539553752535497,0.8539553752535497,0.8580121703853956,0.8580121703853956,0.8600405679513184,0.8600405679513184,0.8640973630831643,0.8640973630831643,0.8661257606490872,0.8661257606490872,0.8681541582150102,0.8681541582150102,0.8701825557809331,0.8701825557809331,0.8742393509127789,0.8742393509127789,0.8762677484787018,0.8762677484787018,0.8823529411764706,0.8823529411764706,0.8864097363083164,0.8864097363083164,0.8884381338742393,0.8884381338742393,0.8945233265720081,0.8945233265720081,0.896551724137931,0.896551724137931,0.9006085192697769,0.9006085192697769,0.9046653144016227,0.9046653144016227,0.9066937119675457,0.9066937119675457,0.9107505070993914,0.9107505070993914,0.9127789046653144,0.9127789046653144,0.9168356997971603,0.9168356997971603,0.9188640973630832,0.9188640973630832,0.920892494929006,0.920892494929006,0.9330628803245437,0.9330628803245437,0.9350912778904665,0.9350912778904665,0.9371196754563894,0.9371196754563894,0.9411764705882353,0.9411764705882353,0.9432048681541582,0.9432048681541582,0.9452332657200812,0.9452332657200812,0.949290060851927,0.949290060851927,0.9513184584178499,0.9513184584178499,0.9553752535496958,0.9553752535496958,0.9634888438133874,0.9634888438133874,0.9655172413793104,0.9655172413793104,0.9675456389452333,0.9675456389452333,0.9695740365111561,0.9695740365111561,0.9817444219066938,0.9817444219066938,0.9858012170385395,0.9858012170385395,0.9898580121703854,0.9898580121703854,0.9918864097363083,0.9918864097363083,0.9939148073022313,0.9939148073022313,0.9959432048681541,0.9959432048681541,0.9979716024340771,0.9979716024340771,1.0,1.0],\"y\":[0.0,0.0,0.0,0.005917159763313609,0.005917159763313609,0.009861932938856016,0.009861932938856016,0.011834319526627219,0.011834319526627219,0.021696252465483234,0.021696252465483234,0.023668639053254437,0.023668639053254437,0.029585798816568046,0.029585798816568046,0.03155818540433925,0.03155818540433925,0.03353057199211045,0.03353057199211045,0.03550295857988166,0.03550295857988166,0.03747534516765286,0.03747534516765286,0.04142011834319527,0.04142011834319527,0.047337278106508875,0.047337278106508875,0.055226824457593686,0.055226824457593686,0.0650887573964497,0.0650887573964497,0.06903353057199212,0.06903353057199212,0.07297830374753451,0.07297830374753451,0.07495069033530571,0.07495069033530571,0.08086785009861933,0.08086785009861933,0.08284023668639054,0.08284023668639054,0.08481262327416174,0.08481262327416174,0.09072978303747535,0.09072978303747535,0.09270216962524655,0.09270216962524655,0.09467455621301775,0.09467455621301775,0.09664694280078895,0.09664694280078895,0.09861932938856016,0.09861932938856016,0.10059171597633136,0.10059171597633136,0.10650887573964497,0.10650887573964497,0.11045364891518737,0.11045364891518737,0.11242603550295859,0.11242603550295859,0.11439842209072978,0.11439842209072978,0.1203155818540434,0.1203155818540434,0.126232741617357,0.126232741617357,0.1282051282051282,0.1282051282051282,0.1341222879684418,0.1341222879684418,0.13609467455621302,0.13609467455621302,0.14003944773175542,0.14003944773175542,0.14201183431952663,0.14201183431952663,0.14990138067061143,0.14990138067061143,0.15384615384615385,0.15384615384615385,0.15581854043392504,0.15581854043392504,0.16370808678500987,0.16370808678500987,0.16765285996055226,0.16765285996055226,0.16962524654832348,0.16962524654832348,0.17159763313609466,0.17159763313609466,0.17357001972386588,0.17357001972386588,0.1755424063116371,0.1755424063116371,0.17751479289940827,0.17751479289940827,0.1794871794871795,0.1794871794871795,0.1814595660749507,0.1814595660749507,0.1834319526627219,0.1834319526627219,0.1854043392504931,0.1854043392504931,0.1873767258382643,0.1873767258382643,0.1893491124260355,0.1893491124260355,0.1913214990138067,0.1913214990138067,0.1932938856015779,0.1932938856015779,0.1952662721893491,0.1952662721893491,0.1992110453648915,0.1992110453648915,0.20315581854043394,0.20315581854043394,0.20512820512820512,0.20512820512820512,0.20710059171597633,0.20710059171597633,0.22090729783037474,0.22090729783037474,0.22287968441814596,0.22287968441814596,0.22879684418145957,0.22879684418145957,0.23274161735700197,0.23274161735700197,0.23471400394477318,0.23471400394477318,0.23865877712031558,0.23865877712031558,0.2406311637080868,0.2406311637080868,0.2445759368836292,0.2445759368836292,0.2465483234714004,0.2465483234714004,0.2485207100591716,0.2485207100591716,0.252465483234714,0.252465483234714,0.25443786982248523,0.25443786982248523,0.2564102564102564,0.2564102564102564,0.2603550295857988,0.2603550295857988,0.26627218934911245,0.26627218934911245,0.27613412228796846,0.27613412228796846,0.28205128205128205,0.28205128205128205,0.28402366863905326,0.28402366863905326,0.2958579881656805,0.2958579881656805,0.2978303747534517,0.2978303747534517,0.29980276134122286,0.29980276134122286,0.3057199211045365,0.3057199211045365,0.3116370808678501,0.3116370808678501,0.3234714003944773,0.3234714003944773,0.3254437869822485,0.3254437869822485,0.32741617357001973,0.32741617357001973,0.32938856015779094,0.32938856015779094,0.33136094674556216,0.33136094674556216,0.33530571992110453,0.33530571992110453,0.33925049309664695,0.33925049309664695,0.3431952662721893,0.3431952662721893,0.34516765285996054,0.34516765285996054,0.34714003944773175,0.34714003944773175,0.34911242603550297,0.34911242603550297,0.3530571992110454,0.3530571992110454,0.35502958579881655,0.35502958579881655,0.3609467455621302,0.3609467455621302,0.3629191321499014,0.3629191321499014,0.36489151873767256,0.36489151873767256,0.3668639053254438,0.3668639053254438,0.368836291913215,0.368836291913215,0.3727810650887574,0.3727810650887574,0.3767258382642998,0.3767258382642998,0.378698224852071,0.378698224852071,0.398422090729783,0.398422090729783,0.40433925049309666,0.40433925049309666,0.40631163708086787,0.40631163708086787,0.41420118343195267,0.41420118343195267,0.42209072978303747,0.42209072978303747,0.4240631163708087,0.4240631163708087,0.4280078895463511,0.4280078895463511,0.42998027613412226,0.42998027613412226,0.4339250493096647,0.4339250493096647,0.4378698224852071,0.4378698224852071,0.43984220907297833,0.43984220907297833,0.4437869822485207,0.4437869822485207,0.4477317554240631,0.4477317554240631,0.4516765285996055,0.4516765285996055,0.4536489151873767,0.4536489151873767,0.45759368836291914,0.45759368836291914,0.45956607495069035,0.45956607495069035,0.46745562130177515,0.46745562130177515,0.46942800788954636,0.46942800788954636,0.4714003944773176,0.4714003944773176,0.47731755424063116,0.47731755424063116,0.4832347140039448,0.4832347140039448,0.48520710059171596,0.48520710059171596,0.5009861932938856,0.5009861932938856,0.504930966469428,0.504930966469428,0.5069033530571992,0.5069033530571992,0.5088757396449705,0.5088757396449705,0.5128205128205128,0.5128205128205128,0.5167652859960552,0.5167652859960552,0.5187376725838264,0.5187376725838264,0.5207100591715976,0.5207100591715976,0.5226824457593688,0.5226824457593688,0.5325443786982249,0.5325443786982249,0.5404339250493096,0.5404339250493096,0.5424063116370809,0.5424063116370809,0.5443786982248521,0.5443786982248521,0.5463510848126233,0.5463510848126233,0.5502958579881657,0.5502958579881657,0.5522682445759369,0.5522682445759369,0.5562130177514792,0.5562130177514792,0.5601577909270217,0.5601577909270217,0.5660749506903353,0.5660749506903353,0.5700197238658777,0.5700197238658777,0.571992110453649,0.571992110453649,0.5739644970414202,0.5739644970414202,0.5759368836291914,0.5759368836291914,0.5798816568047337,0.5798816568047337,0.5818540433925049,0.5818540433925049,0.5838264299802761,0.5838264299802761,0.6055226824457594,0.6055226824457594,0.6094674556213018,0.6094674556213018,0.6134122287968442,0.6134122287968442,0.621301775147929,0.621301775147929,0.6252465483234714,0.6252465483234714,0.6272189349112426,0.6272189349112426,0.6291913214990138,0.6291913214990138,0.631163708086785,0.631163708086785,0.6331360946745562,0.6331360946745562,0.6351084812623274,0.6351084812623274,0.6390532544378699,0.6390532544378699,0.6410256410256411,0.6410256410256411,0.6429980276134122,0.6429980276134122,0.6449704142011834,0.6449704142011834,0.6469428007889546,0.6469428007889546,0.650887573964497,0.650887573964497,0.6528599605522682,0.6528599605522682,0.6607495069033531,0.6607495069033531,0.6627218934911243,0.6627218934911243,0.6706114398422091,0.6706114398422091,0.6863905325443787,0.6863905325443787,0.6883629191321499,0.6883629191321499,0.6942800788954635,0.6942800788954635,0.6962524654832347,0.6962524654832347,0.6982248520710059,0.6982248520710059,0.7001972386587771,0.7001972386587771,0.7041420118343196,0.7041420118343196,0.7061143984220908,0.7061143984220908,0.7080867850098619,0.7080867850098619,0.7120315581854043,0.7120315581854043,0.7140039447731755,0.7140039447731755,0.7159763313609467,0.7159763313609467,0.7199211045364892,0.7199211045364892,0.7317554240631163,0.7317554240631163,0.7337278106508875,0.7337278106508875,0.7396449704142012,0.7396449704142012,0.747534516765286,0.747534516765286,0.7514792899408284,0.7514792899408284,0.7554240631163708,0.7554240631163708,0.757396449704142,0.757396449704142,0.7593688362919132,0.7593688362919132,0.7613412228796844,0.7613412228796844,0.7652859960552268,0.7652859960552268,0.7712031558185405,0.7712031558185405,0.7731755424063116,0.7731755424063116,0.7790927021696252,0.7790927021696252,0.7810650887573964,0.7810650887573964,0.7830374753451677,0.7830374753451677,0.7850098619329389,0.7850098619329389,0.7889546351084813,0.7889546351084813,0.7928994082840237,0.7928994082840237,0.8027613412228797,0.8027613412228797,0.8047337278106509,0.8047337278106509,0.8086785009861933,0.8086785009861933,0.8126232741617357,0.8126232741617357,0.814595660749507,0.814595660749507,0.8205128205128205,0.8205128205128205,0.8224852071005917,0.8224852071005917,0.8244575936883629,0.8244575936883629,0.8264299802761341,0.8264299802761341,0.834319526627219,0.834319526627219,0.8362919132149902,0.8362919132149902,0.8422090729783037,0.8422090729783037,0.8520710059171598,0.8520710059171598,0.854043392504931,0.854043392504931,0.8560157790927022,0.8560157790927022,0.8619329388560157,0.8619329388560157,0.863905325443787,0.863905325443787,0.8678500986193294,0.8678500986193294,0.8698224852071006,0.8698224852071006,0.873767258382643,0.873767258382643,0.8757396449704142,0.8757396449704142,0.8796844181459567,0.8796844181459567,0.883629191321499,0.883629191321499,0.8856015779092702,0.8856015779092702,0.8895463510848126,0.8895463510848126,0.8994082840236687,0.8994082840236687,0.9013806706114399,0.9013806706114399,0.903353057199211,0.903353057199211,0.9072978303747534,0.9072978303747534,0.9132149901380671,0.9132149901380671,0.9171597633136095,0.9171597633136095,0.9270216962524654,0.9270216962524654,0.9289940828402367,0.9289940828402367,0.9309664694280079,0.9309664694280079,0.9349112426035503,0.9349112426035503,0.9428007889546351,0.9428007889546351,0.9487179487179487,0.9487179487179487,0.9506903353057199,0.9506903353057199,0.9546351084812623,0.9546351084812623,0.9566074950690335,0.9566074950690335,0.960552268244576,0.960552268244576,0.9644970414201184,0.9644970414201184,0.9664694280078896,0.9664694280078896,0.9684418145956607,0.9684418145956607,0.9704142011834319,0.9704142011834319,0.9723865877712031,0.9723865877712031,0.9743589743589743,0.9743589743589743,0.9763313609467456,0.9763313609467456,0.9783037475345168,0.9783037475345168,0.9822485207100592,0.9822485207100592,0.9842209072978304,0.9842209072978304,0.9861932938856016,0.9861932938856016,0.9960552268244576,0.9960552268244576,0.9980276134122288,0.9980276134122288,1.0],\"type\":\"scatter\"}],                        {\"template\":{\"data\":{\"histogram2dcontour\":[{\"type\":\"histogram2dcontour\",\"colorbar\":{\"outlinewidth\":0,\"ticks\":\"\"},\"colorscale\":[[0.0,\"#0d0887\"],[0.1111111111111111,\"#46039f\"],[0.2222222222222222,\"#7201a8\"],[0.3333333333333333,\"#9c179e\"],[0.4444444444444444,\"#bd3786\"],[0.5555555555555556,\"#d8576b\"],[0.6666666666666666,\"#ed7953\"],[0.7777777777777778,\"#fb9f3a\"],[0.8888888888888888,\"#fdca26\"],[1.0,\"#f0f921\"]]}],\"choropleth\":[{\"type\":\"choropleth\",\"colorbar\":{\"outlinewidth\":0,\"ticks\":\"\"}}],\"histogram2d\":[{\"type\":\"histogram2d\",\"colorbar\":{\"outlinewidth\":0,\"ticks\":\"\"},\"colorscale\":[[0.0,\"#0d0887\"],[0.1111111111111111,\"#46039f\"],[0.2222222222222222,\"#7201a8\"],[0.3333333333333333,\"#9c179e\"],[0.4444444444444444,\"#bd3786\"],[0.5555555555555556,\"#d8576b\"],[0.6666666666666666,\"#ed7953\"],[0.7777777777777778,\"#fb9f3a\"],[0.8888888888888888,\"#fdca26\"],[1.0,\"#f0f921\"]]}],\"heatmap\":[{\"type\":\"heatmap\",\"colorbar\":{\"outlinewidth\":0,\"ticks\":\"\"},\"colorscale\":[[0.0,\"#0d0887\"],[0.1111111111111111,\"#46039f\"],[0.2222222222222222,\"#7201a8\"],[0.3333333333333333,\"#9c179e\"],[0.4444444444444444,\"#bd3786\"],[0.5555555555555556,\"#d8576b\"],[0.6666666666666666,\"#ed7953\"],[0.7777777777777778,\"#fb9f3a\"],[0.8888888888888888,\"#fdca26\"],[1.0,\"#f0f921\"]]}],\"heatmapgl\":[{\"type\":\"heatmapgl\",\"colorbar\":{\"outlinewidth\":0,\"ticks\":\"\"},\"colorscale\":[[0.0,\"#0d0887\"],[0.1111111111111111,\"#46039f\"],[0.2222222222222222,\"#7201a8\"],[0.3333333333333333,\"#9c179e\"],[0.4444444444444444,\"#bd3786\"],[0.5555555555555556,\"#d8576b\"],[0.6666666666666666,\"#ed7953\"],[0.7777777777777778,\"#fb9f3a\"],[0.8888888888888888,\"#fdca26\"],[1.0,\"#f0f921\"]]}],\"contourcarpet\":[{\"type\":\"contourcarpet\",\"colorbar\":{\"outlinewidth\":0,\"ticks\":\"\"}}],\"contour\":[{\"type\":\"contour\",\"colorbar\":{\"outlinewidth\":0,\"ticks\":\"\"},\"colorscale\":[[0.0,\"#0d0887\"],[0.1111111111111111,\"#46039f\"],[0.2222222222222222,\"#7201a8\"],[0.3333333333333333,\"#9c179e\"],[0.4444444444444444,\"#bd3786\"],[0.5555555555555556,\"#d8576b\"],[0.6666666666666666,\"#ed7953\"],[0.7777777777777778,\"#fb9f3a\"],[0.8888888888888888,\"#fdca26\"],[1.0,\"#f0f921\"]]}],\"surface\":[{\"type\":\"surface\",\"colorbar\":{\"outlinewidth\":0,\"ticks\":\"\"},\"colorscale\":[[0.0,\"#0d0887\"],[0.1111111111111111,\"#46039f\"],[0.2222222222222222,\"#7201a8\"],[0.3333333333333333,\"#9c179e\"],[0.4444444444444444,\"#bd3786\"],[0.5555555555555556,\"#d8576b\"],[0.6666666666666666,\"#ed7953\"],[0.7777777777777778,\"#fb9f3a\"],[0.8888888888888888,\"#fdca26\"],[1.0,\"#f0f921\"]]}],\"mesh3d\":[{\"type\":\"mesh3d\",\"colorbar\":{\"outlinewidth\":0,\"ticks\":\"\"}}],\"scatter\":[{\"fillpattern\":{\"fillmode\":\"overlay\",\"size\":10,\"solidity\":0.2},\"type\":\"scatter\"}],\"parcoords\":[{\"type\":\"parcoords\",\"line\":{\"colorbar\":{\"outlinewidth\":0,\"ticks\":\"\"}}}],\"scatterpolargl\":[{\"type\":\"scatterpolargl\",\"marker\":{\"colorbar\":{\"outlinewidth\":0,\"ticks\":\"\"}}}],\"bar\":[{\"error_x\":{\"color\":\"#2a3f5f\"},\"error_y\":{\"color\":\"#2a3f5f\"},\"marker\":{\"line\":{\"color\":\"#E5ECF6\",\"width\":0.5},\"pattern\":{\"fillmode\":\"overlay\",\"size\":10,\"solidity\":0.2}},\"type\":\"bar\"}],\"scattergeo\":[{\"type\":\"scattergeo\",\"marker\":{\"colorbar\":{\"outlinewidth\":0,\"ticks\":\"\"}}}],\"scatterpolar\":[{\"type\":\"scatterpolar\",\"marker\":{\"colorbar\":{\"outlinewidth\":0,\"ticks\":\"\"}}}],\"histogram\":[{\"marker\":{\"pattern\":{\"fillmode\":\"overlay\",\"size\":10,\"solidity\":0.2}},\"type\":\"histogram\"}],\"scattergl\":[{\"type\":\"scattergl\",\"marker\":{\"colorbar\":{\"outlinewidth\":0,\"ticks\":\"\"}}}],\"scatter3d\":[{\"type\":\"scatter3d\",\"line\":{\"colorbar\":{\"outlinewidth\":0,\"ticks\":\"\"}},\"marker\":{\"colorbar\":{\"outlinewidth\":0,\"ticks\":\"\"}}}],\"scattermapbox\":[{\"type\":\"scattermapbox\",\"marker\":{\"colorbar\":{\"outlinewidth\":0,\"ticks\":\"\"}}}],\"scatterternary\":[{\"type\":\"scatterternary\",\"marker\":{\"colorbar\":{\"outlinewidth\":0,\"ticks\":\"\"}}}],\"scattercarpet\":[{\"type\":\"scattercarpet\",\"marker\":{\"colorbar\":{\"outlinewidth\":0,\"ticks\":\"\"}}}],\"carpet\":[{\"aaxis\":{\"endlinecolor\":\"#2a3f5f\",\"gridcolor\":\"white\",\"linecolor\":\"white\",\"minorgridcolor\":\"white\",\"startlinecolor\":\"#2a3f5f\"},\"baxis\":{\"endlinecolor\":\"#2a3f5f\",\"gridcolor\":\"white\",\"linecolor\":\"white\",\"minorgridcolor\":\"white\",\"startlinecolor\":\"#2a3f5f\"},\"type\":\"carpet\"}],\"table\":[{\"cells\":{\"fill\":{\"color\":\"#EBF0F8\"},\"line\":{\"color\":\"white\"}},\"header\":{\"fill\":{\"color\":\"#C8D4E3\"},\"line\":{\"color\":\"white\"}},\"type\":\"table\"}],\"barpolar\":[{\"marker\":{\"line\":{\"color\":\"#E5ECF6\",\"width\":0.5},\"pattern\":{\"fillmode\":\"overlay\",\"size\":10,\"solidity\":0.2}},\"type\":\"barpolar\"}],\"pie\":[{\"automargin\":true,\"type\":\"pie\"}]},\"layout\":{\"autotypenumbers\":\"strict\",\"colorway\":[\"#636efa\",\"#EF553B\",\"#00cc96\",\"#ab63fa\",\"#FFA15A\",\"#19d3f3\",\"#FF6692\",\"#B6E880\",\"#FF97FF\",\"#FECB52\"],\"font\":{\"color\":\"#2a3f5f\"},\"hovermode\":\"closest\",\"hoverlabel\":{\"align\":\"left\"},\"paper_bgcolor\":\"white\",\"plot_bgcolor\":\"#E5ECF6\",\"polar\":{\"bgcolor\":\"#E5ECF6\",\"angularaxis\":{\"gridcolor\":\"white\",\"linecolor\":\"white\",\"ticks\":\"\"},\"radialaxis\":{\"gridcolor\":\"white\",\"linecolor\":\"white\",\"ticks\":\"\"}},\"ternary\":{\"bgcolor\":\"#E5ECF6\",\"aaxis\":{\"gridcolor\":\"white\",\"linecolor\":\"white\",\"ticks\":\"\"},\"baxis\":{\"gridcolor\":\"white\",\"linecolor\":\"white\",\"ticks\":\"\"},\"caxis\":{\"gridcolor\":\"white\",\"linecolor\":\"white\",\"ticks\":\"\"}},\"coloraxis\":{\"colorbar\":{\"outlinewidth\":0,\"ticks\":\"\"}},\"colorscale\":{\"sequential\":[[0.0,\"#0d0887\"],[0.1111111111111111,\"#46039f\"],[0.2222222222222222,\"#7201a8\"],[0.3333333333333333,\"#9c179e\"],[0.4444444444444444,\"#bd3786\"],[0.5555555555555556,\"#d8576b\"],[0.6666666666666666,\"#ed7953\"],[0.7777777777777778,\"#fb9f3a\"],[0.8888888888888888,\"#fdca26\"],[1.0,\"#f0f921\"]],\"sequentialminus\":[[0.0,\"#0d0887\"],[0.1111111111111111,\"#46039f\"],[0.2222222222222222,\"#7201a8\"],[0.3333333333333333,\"#9c179e\"],[0.4444444444444444,\"#bd3786\"],[0.5555555555555556,\"#d8576b\"],[0.6666666666666666,\"#ed7953\"],[0.7777777777777778,\"#fb9f3a\"],[0.8888888888888888,\"#fdca26\"],[1.0,\"#f0f921\"]],\"diverging\":[[0,\"#8e0152\"],[0.1,\"#c51b7d\"],[0.2,\"#de77ae\"],[0.3,\"#f1b6da\"],[0.4,\"#fde0ef\"],[0.5,\"#f7f7f7\"],[0.6,\"#e6f5d0\"],[0.7,\"#b8e186\"],[0.8,\"#7fbc41\"],[0.9,\"#4d9221\"],[1,\"#276419\"]]},\"xaxis\":{\"gridcolor\":\"white\",\"linecolor\":\"white\",\"ticks\":\"\",\"title\":{\"standoff\":15},\"zerolinecolor\":\"white\",\"automargin\":true,\"zerolinewidth\":2},\"yaxis\":{\"gridcolor\":\"white\",\"linecolor\":\"white\",\"ticks\":\"\",\"title\":{\"standoff\":15},\"zerolinecolor\":\"white\",\"automargin\":true,\"zerolinewidth\":2},\"scene\":{\"xaxis\":{\"backgroundcolor\":\"#E5ECF6\",\"gridcolor\":\"white\",\"linecolor\":\"white\",\"showbackground\":true,\"ticks\":\"\",\"zerolinecolor\":\"white\",\"gridwidth\":2},\"yaxis\":{\"backgroundcolor\":\"#E5ECF6\",\"gridcolor\":\"white\",\"linecolor\":\"white\",\"showbackground\":true,\"ticks\":\"\",\"zerolinecolor\":\"white\",\"gridwidth\":2},\"zaxis\":{\"backgroundcolor\":\"#E5ECF6\",\"gridcolor\":\"white\",\"linecolor\":\"white\",\"showbackground\":true,\"ticks\":\"\",\"zerolinecolor\":\"white\",\"gridwidth\":2}},\"shapedefaults\":{\"line\":{\"color\":\"#2a3f5f\"}},\"annotationdefaults\":{\"arrowcolor\":\"#2a3f5f\",\"arrowhead\":0,\"arrowwidth\":1},\"geo\":{\"bgcolor\":\"white\",\"landcolor\":\"#E5ECF6\",\"subunitcolor\":\"white\",\"showland\":true,\"showlakes\":true,\"lakecolor\":\"white\"},\"title\":{\"x\":0.05},\"mapbox\":{\"style\":\"light\"}}},\"yaxis\":{\"title\":{\"text\":\"True Positive Rate\"}},\"xaxis\":{\"title\":{\"text\":\"False Positive Rate\"}},\"showlegend\":true},                        {\"responsive\": true}                    ).then(function(){\n",
       "                            \n",
       "var gd = document.getElementById('a51ecc23-1dd8-49f5-8a61-67766f025da7');\n",
       "var x = new MutationObserver(function (mutations, observer) {{\n",
       "        var display = window.getComputedStyle(gd).display;\n",
       "        if (!display || display === 'none') {{\n",
       "            console.log([gd, 'removed!']);\n",
       "            Plotly.purge(gd);\n",
       "            observer.disconnect();\n",
       "        }}\n",
       "}});\n",
       "\n",
       "// Listen for the removal of the full notebook cells\n",
       "var notebookContainer = gd.closest('#notebook-container');\n",
       "if (notebookContainer) {{\n",
       "    x.observe(notebookContainer, {childList: true});\n",
       "}}\n",
       "\n",
       "// Listen for the clearing of the current output cell\n",
       "var outputEl = gd.closest('.output');\n",
       "if (outputEl) {{\n",
       "    x.observe(outputEl, {childList: true});\n",
       "}}\n",
       "\n",
       "                        })                };                });            </script>        </div>"
      ]
     },
     "metadata": {},
     "output_type": "display_data"
    }
   ],
   "source": [
    "fig = go.Figure()\n",
    "fig.add_trace(\n",
    "    go.Scatter(\n",
    "        x=fpr,\n",
    "        y=tpr,\n",
    "        mode=\"lines\",\n",
    "        name=\"ROC\",\n",
    "        marker=dict(\n",
    "            size=6,\n",
    "            color=\"blue\",\n",
    "        ),\n",
    "    )\n",
    ")\n",
    "\n",
    "fig.update_layout(yaxis_title=\"True Positive Rate\", xaxis_title=\"False Positive Rate\", showlegend=True)\n",
    "\n",
    "fig.show()"
   ]
  },
  {
   "cell_type": "code",
   "execution_count": null,
   "metadata": {},
   "outputs": [],
   "source": []
  }
 ],
 "metadata": {
  "kernelspec": {
   "display_name": "crossfit-22.08",
   "language": "python",
   "name": "python3"
  },
  "language_info": {
   "codemirror_mode": {
    "name": "ipython",
    "version": 3
   },
   "file_extension": ".py",
   "mimetype": "text/x-python",
   "name": "python",
   "nbconvert_exporter": "python",
   "pygments_lexer": "ipython3",
   "version": "3.8.15"
  },
  "orig_nbformat": 4,
  "vscode": {
   "interpreter": {
    "hash": "2f02852625852ff9bb734975f0706ff9673f367b26c5ae8c9a8f5f3e498b0802"
   }
  }
 },
 "nbformat": 4,
 "nbformat_minor": 2
}
